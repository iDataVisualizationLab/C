{
 "cells": [
  {
   "cell_type": "code",
   "execution_count": 30,
   "metadata": {},
   "outputs": [],
   "source": [
    "import numpy as np # linear algebra\n",
    "import pandas as pd # data processing, CSV file I/O (e.g. pd.read_csv)\n",
    "from json import JSONDecoder, JSONDecodeError  # for reading the JSON data files\n",
    "import re  # for regular expressions\n",
    "import os  # for os related operations\n",
    "\n",
    "import lightgbm as lgb\n",
    "\n",
    "from sklearn import svm\n",
    "from sklearn.metrics import confusion_matrix\n",
    "from sklearn.metrics import f1_score\n",
    "\n",
    "from collections import Counter\n",
    "path_to_data = \"../../data/raw/\""
   ]
  },
  {
   "cell_type": "code",
   "execution_count": 24,
   "metadata": {},
   "outputs": [
    {
     "name": "stdout",
     "output_type": "stream",
     "text": [
      "['data_', 'fold1Training.json', 'fold2Training.json', 'fold3Training.json', 'testSet.json']\n"
     ]
    }
   ],
   "source": [
    "print(os.listdir(path_to_data))"
   ]
  },
  {
   "cell_type": "code",
   "execution_count": 4,
   "metadata": {},
   "outputs": [],
   "source": [
    "def decode_obj(line, pos=0, decoder=JSONDecoder()):\n",
    "    no_white_space_regex = re.compile(r'[^\\s]')\n",
    "    while True:\n",
    "        match = no_white_space_regex.search(line, pos)\n",
    "        if not match:\n",
    "            return\n",
    "        pos = match.start()\n",
    "        try:\n",
    "            obj, pos = decoder.raw_decode(line, pos)\n",
    "        except JSONDecodeError as err:\n",
    "            print('Oops! something went wrong. Error: {}'.format(err))\n",
    "        yield obj"
   ]
  },
  {
   "cell_type": "code",
   "execution_count": 5,
   "metadata": {},
   "outputs": [],
   "source": [
    "def get_obj_with_last_n_val(line, n):\n",
    "    obj = next(decode_obj(line))  # type:dict\n",
    "    id = obj['id']\n",
    "    try:\n",
    "        class_label = obj['classNum']\n",
    "        data = pd.DataFrame.from_dict(obj['values'])  # type:pd.DataFrame\n",
    "        data.set_index(data.index.astype(int), inplace=True)\n",
    "        last_n_indices = np.arange(0, 60)[-n:]\n",
    "        data = data.loc[last_n_indices]\n",
    "        return {'id': id, 'classType': class_label, 'values': data}\n",
    "    except:\n",
    "        data = pd.DataFrame.from_dict(obj['values'])  # type:pd.DataFrame\n",
    "        data.set_index(data.index.astype(int), inplace=True)\n",
    "        last_n_indices = np.arange(0, 60)[-n:]\n",
    "        data = data.loc[last_n_indices]\n",
    "        return {'id': id, 'values': data}"
   ]
  },
  {
   "cell_type": "code",
   "execution_count": 6,
   "metadata": {},
   "outputs": [],
   "source": [
    "def convert_json_data_to_csv(data_dir: str, file_name: str, having_class_type=True):\n",
    "    \"\"\"\n",
    "    Generates a dataframe by concatenating the last values of each\n",
    "    multi-variate time series. This method is designed as an example\n",
    "    to show how a json object can be converted into a csv file.\n",
    "    :param data_dir: the path to the data directory.\n",
    "    :param file_name: name of the file to be read, with the extension.\n",
    "    :return: the generated dataframe.\n",
    "    \"\"\"\n",
    "    fname = os.path.join(data_dir, file_name)\n",
    "\n",
    "    all_df, labels, ids = [], [], []\n",
    "    with open(fname, 'r') as infile: # Open the file for reading\n",
    "        for line in infile:  # Each 'line' is one MVTS with its single label (0 or 1).\n",
    "            obj = get_obj_with_last_n_val(line, 1)\n",
    "            all_df.append(obj['values'])\n",
    "            if having_class_type:\n",
    "                labels.append(obj['classType'])\n",
    "            ids.append(obj['id'])\n",
    "\n",
    "    df = pd.concat(all_df).reset_index(drop=True)\n",
    "    df = df.assign(LABEL=pd.Series(labels))\n",
    "    df = df.assign(ID=pd.Series(ids))\n",
    "    df.set_index([pd.Index(ids)])\n",
    "    # Uncomment if you want to save this as CSV\n",
    "    # df.to_csv(file_name + '_last_vals.csv', index=False)\n",
    "    return df"
   ]
  },
  {
   "cell_type": "code",
   "execution_count": 11,
   "metadata": {},
   "outputs": [
    {
     "name": "stdout",
     "output_type": "stream",
     "text": [
      "df.shape = (27006, 27)\n"
     ]
    }
   ],
   "source": [
    "file_name = \"fold3Training.json\"\n",
    "\n",
    "df = convert_json_data_to_csv(path_to_data, file_name)  # shape: 27006 X 27\n",
    "print('df.shape = {}'.format(df.shape))\n",
    "# print(list(df))"
   ]
  },
  {
   "cell_type": "code",
   "execution_count": 12,
   "metadata": {},
   "outputs": [
    {
     "data": {
      "text/html": [
       "<div>\n",
       "<style scoped>\n",
       "    .dataframe tbody tr th:only-of-type {\n",
       "        vertical-align: middle;\n",
       "    }\n",
       "\n",
       "    .dataframe tbody tr th {\n",
       "        vertical-align: top;\n",
       "    }\n",
       "\n",
       "    .dataframe thead th {\n",
       "        text-align: right;\n",
       "    }\n",
       "</style>\n",
       "<table border=\"1\" class=\"dataframe\">\n",
       "  <thead>\n",
       "    <tr style=\"text-align: right;\">\n",
       "      <th></th>\n",
       "      <th>TOTUSJH</th>\n",
       "      <th>TOTBSQ</th>\n",
       "      <th>TOTPOT</th>\n",
       "      <th>TOTUSJZ</th>\n",
       "      <th>ABSNJZH</th>\n",
       "      <th>SAVNCPP</th>\n",
       "      <th>USFLUX</th>\n",
       "      <th>TOTFZ</th>\n",
       "      <th>MEANPOT</th>\n",
       "      <th>EPSZ</th>\n",
       "      <th>...</th>\n",
       "      <th>TOTFY</th>\n",
       "      <th>MEANJZD</th>\n",
       "      <th>MEANALP</th>\n",
       "      <th>TOTFX</th>\n",
       "      <th>EPSY</th>\n",
       "      <th>EPSX</th>\n",
       "      <th>R_VALUE</th>\n",
       "      <th>XR_MAX</th>\n",
       "      <th>LABEL</th>\n",
       "      <th>ID</th>\n",
       "    </tr>\n",
       "  </thead>\n",
       "  <tbody>\n",
       "    <tr>\n",
       "      <th>0</th>\n",
       "      <td>2279.058608</td>\n",
       "      <td>4.176910e+10</td>\n",
       "      <td>6.722922e+23</td>\n",
       "      <td>4.151445e+13</td>\n",
       "      <td>298.753182</td>\n",
       "      <td>1.443831e+13</td>\n",
       "      <td>4.253660e+22</td>\n",
       "      <td>-1.714706e+25</td>\n",
       "      <td>8492.605611</td>\n",
       "      <td>-0.309116</td>\n",
       "      <td>...</td>\n",
       "      <td>-9.851233e+23</td>\n",
       "      <td>-0.063377</td>\n",
       "      <td>0.010927</td>\n",
       "      <td>5.139045e+24</td>\n",
       "      <td>0.017759</td>\n",
       "      <td>-0.092643</td>\n",
       "      <td>4.961807</td>\n",
       "      <td>9.983000e-07</td>\n",
       "      <td>1</td>\n",
       "      <td>1</td>\n",
       "    </tr>\n",
       "    <tr>\n",
       "      <th>1</th>\n",
       "      <td>324.136602</td>\n",
       "      <td>3.044442e+09</td>\n",
       "      <td>1.842963e+22</td>\n",
       "      <td>7.596014e+12</td>\n",
       "      <td>64.312903</td>\n",
       "      <td>3.644793e+12</td>\n",
       "      <td>6.458115e+21</td>\n",
       "      <td>-2.912557e+24</td>\n",
       "      <td>1274.079337</td>\n",
       "      <td>-0.720368</td>\n",
       "      <td>...</td>\n",
       "      <td>1.059818e+23</td>\n",
       "      <td>-0.255003</td>\n",
       "      <td>0.024558</td>\n",
       "      <td>9.967036e+23</td>\n",
       "      <td>-0.026213</td>\n",
       "      <td>-0.246516</td>\n",
       "      <td>2.148500</td>\n",
       "      <td>1.639000e-06</td>\n",
       "      <td>0</td>\n",
       "      <td>2</td>\n",
       "    </tr>\n",
       "    <tr>\n",
       "      <th>2</th>\n",
       "      <td>90.928971</td>\n",
       "      <td>6.418759e+08</td>\n",
       "      <td>5.420498e+21</td>\n",
       "      <td>1.975487e+12</td>\n",
       "      <td>0.886584</td>\n",
       "      <td>2.427102e+11</td>\n",
       "      <td>1.151176e+21</td>\n",
       "      <td>-4.688949e+23</td>\n",
       "      <td>2220.655208</td>\n",
       "      <td>-0.550062</td>\n",
       "      <td>...</td>\n",
       "      <td>-1.457803e+23</td>\n",
       "      <td>0.256968</td>\n",
       "      <td>0.001782</td>\n",
       "      <td>2.034861e+23</td>\n",
       "      <td>0.171015</td>\n",
       "      <td>-0.238710</td>\n",
       "      <td>0.000000</td>\n",
       "      <td>7.887100e-07</td>\n",
       "      <td>0</td>\n",
       "      <td>3</td>\n",
       "    </tr>\n",
       "    <tr>\n",
       "      <th>3</th>\n",
       "      <td>173.008586</td>\n",
       "      <td>2.210899e+09</td>\n",
       "      <td>2.422310e+22</td>\n",
       "      <td>3.389141e+12</td>\n",
       "      <td>10.262131</td>\n",
       "      <td>5.886247e+11</td>\n",
       "      <td>2.174629e+21</td>\n",
       "      <td>-9.750141e+23</td>\n",
       "      <td>5685.685977</td>\n",
       "      <td>-0.332070</td>\n",
       "      <td>...</td>\n",
       "      <td>-1.981958e+23</td>\n",
       "      <td>0.358722</td>\n",
       "      <td>-0.006969</td>\n",
       "      <td>3.362239e+22</td>\n",
       "      <td>0.067501</td>\n",
       "      <td>-0.011451</td>\n",
       "      <td>0.000000</td>\n",
       "      <td>6.365600e-07</td>\n",
       "      <td>0</td>\n",
       "      <td>4</td>\n",
       "    </tr>\n",
       "    <tr>\n",
       "      <th>4</th>\n",
       "      <td>56.286406</td>\n",
       "      <td>3.814089e+08</td>\n",
       "      <td>2.659824e+21</td>\n",
       "      <td>1.210523e+12</td>\n",
       "      <td>8.744935</td>\n",
       "      <td>4.558530e+11</td>\n",
       "      <td>5.944778e+20</td>\n",
       "      <td>-2.321260e+23</td>\n",
       "      <td>2002.813020</td>\n",
       "      <td>-0.458269</td>\n",
       "      <td>...</td>\n",
       "      <td>-1.028025e+23</td>\n",
       "      <td>0.881417</td>\n",
       "      <td>0.031445</td>\n",
       "      <td>-6.666904e+22</td>\n",
       "      <td>0.202955</td>\n",
       "      <td>0.131620</td>\n",
       "      <td>2.438045</td>\n",
       "      <td>7.756200e-07</td>\n",
       "      <td>0</td>\n",
       "      <td>5</td>\n",
       "    </tr>\n",
       "  </tbody>\n",
       "</table>\n",
       "<p>5 rows × 27 columns</p>\n",
       "</div>"
      ],
      "text/plain": [
       "       TOTUSJH        TOTBSQ        TOTPOT       TOTUSJZ     ABSNJZH  \\\n",
       "0  2279.058608  4.176910e+10  6.722922e+23  4.151445e+13  298.753182   \n",
       "1   324.136602  3.044442e+09  1.842963e+22  7.596014e+12   64.312903   \n",
       "2    90.928971  6.418759e+08  5.420498e+21  1.975487e+12    0.886584   \n",
       "3   173.008586  2.210899e+09  2.422310e+22  3.389141e+12   10.262131   \n",
       "4    56.286406  3.814089e+08  2.659824e+21  1.210523e+12    8.744935   \n",
       "\n",
       "        SAVNCPP        USFLUX         TOTFZ      MEANPOT      EPSZ  ...  \\\n",
       "0  1.443831e+13  4.253660e+22 -1.714706e+25  8492.605611 -0.309116  ...   \n",
       "1  3.644793e+12  6.458115e+21 -2.912557e+24  1274.079337 -0.720368  ...   \n",
       "2  2.427102e+11  1.151176e+21 -4.688949e+23  2220.655208 -0.550062  ...   \n",
       "3  5.886247e+11  2.174629e+21 -9.750141e+23  5685.685977 -0.332070  ...   \n",
       "4  4.558530e+11  5.944778e+20 -2.321260e+23  2002.813020 -0.458269  ...   \n",
       "\n",
       "          TOTFY   MEANJZD   MEANALP         TOTFX      EPSY      EPSX  \\\n",
       "0 -9.851233e+23 -0.063377  0.010927  5.139045e+24  0.017759 -0.092643   \n",
       "1  1.059818e+23 -0.255003  0.024558  9.967036e+23 -0.026213 -0.246516   \n",
       "2 -1.457803e+23  0.256968  0.001782  2.034861e+23  0.171015 -0.238710   \n",
       "3 -1.981958e+23  0.358722 -0.006969  3.362239e+22  0.067501 -0.011451   \n",
       "4 -1.028025e+23  0.881417  0.031445 -6.666904e+22  0.202955  0.131620   \n",
       "\n",
       "    R_VALUE        XR_MAX  LABEL  ID  \n",
       "0  4.961807  9.983000e-07      1   1  \n",
       "1  2.148500  1.639000e-06      0   2  \n",
       "2  0.000000  7.887100e-07      0   3  \n",
       "3  0.000000  6.365600e-07      0   4  \n",
       "4  2.438045  7.756200e-07      0   5  \n",
       "\n",
       "[5 rows x 27 columns]"
      ]
     },
     "execution_count": 12,
     "metadata": {},
     "output_type": "execute_result"
    }
   ],
   "source": [
    "df.head()"
   ]
  },
  {
   "cell_type": "code",
   "execution_count": 13,
   "metadata": {},
   "outputs": [
    {
     "data": {
      "text/plain": [
       "0    22236\n",
       "1     4770\n",
       "Name: LABEL, dtype: int64"
      ]
     },
     "execution_count": 13,
     "metadata": {},
     "output_type": "execute_result"
    }
   ],
   "source": [
    "df.LABEL.value_counts()"
   ]
  },
  {
   "cell_type": "code",
   "execution_count": 14,
   "metadata": {},
   "outputs": [
    {
     "name": "stdout",
     "output_type": "stream",
     "text": [
      "df.shape = (26666, 27)\n"
     ]
    }
   ],
   "source": [
    "df = df.dropna()  # shape: 26666 X 27\n",
    "print('df.shape = {}'.format(df.shape))"
   ]
  },
  {
   "cell_type": "code",
   "execution_count": 15,
   "metadata": {},
   "outputs": [
    {
     "name": "stdout",
     "output_type": "stream",
     "text": [
      "df_train.shape = (17556, 27)\n",
      "df_val.shape = (9110, 27)\n"
     ]
    }
   ],
   "source": [
    "t = (2/3) * df.shape[0]\n",
    "df_train = df[df['ID'] <= t]  # shape: 18004 X 27\n",
    "df_val = df[df['ID'] > t]  # shape: 9002 X 27\n",
    "print('df_train.shape = {}'.format(df_train.shape))\n",
    "print('df_val.shape = {}'.format(df_val.shape))"
   ]
  },
  {
   "cell_type": "code",
   "execution_count": 17,
   "metadata": {},
   "outputs": [],
   "source": [
    "# Separate values and labels columns\n",
    "df_train_data = df_train.iloc[:, :-2]  # all columns excluding 'ID' and 'LABEL'\n",
    "df_train_labels = pd.DataFrame(df_train.LABEL)  # only 'LABEL' column\n",
    "\n",
    "df_val_data = df_val.iloc[:, :-2]  # all columns excluding 'ID' and 'LABEL'\n",
    "df_val_labels = pd.DataFrame(df_val.LABEL)  # only 'LABEL' column"
   ]
  },
  {
   "cell_type": "code",
   "execution_count": 18,
   "metadata": {},
   "outputs": [],
   "source": [
    "X_train, y_train  = df_train_data,np.ravel(df_train_labels)\n",
    "X_valid, y_valid  = df_val_data,np.ravel(df_val_labels)\n"
   ]
  },
  {
   "cell_type": "code",
   "execution_count": 36,
   "metadata": {},
   "outputs": [
    {
     "data": {
      "text/plain": [
       "LGBMClassifier(boosting_type='gbdt', class_weight=None, colsample_bytree=1.0,\n",
       "        importance_type='split', learning_rate=0.1, max_depth=-1,\n",
       "        min_child_samples=20, min_child_weight=0.001, min_split_gain=0.0,\n",
       "        n_estimators=100, n_jobs=8, num_leaves=31, objective=None,\n",
       "        random_state=None, reg_alpha=0.0, reg_lambda=0.0, silent=True,\n",
       "        subsample=1.0, subsample_for_bin=200000, subsample_freq=0)"
      ]
     },
     "execution_count": 36,
     "metadata": {},
     "output_type": "execute_result"
    }
   ],
   "source": [
    "clf = lgb.LGBMClassifier(n_jobs = 8)\n",
    "clf"
   ]
  },
  {
   "cell_type": "code",
   "execution_count": 37,
   "metadata": {},
   "outputs": [
    {
     "data": {
      "text/plain": [
       "LGBMClassifier(boosting_type='gbdt', class_weight=None, colsample_bytree=1.0,\n",
       "        importance_type='split', learning_rate=0.1, max_depth=-1,\n",
       "        min_child_samples=20, min_child_weight=0.001, min_split_gain=0.0,\n",
       "        n_estimators=100, n_jobs=8, num_leaves=31, objective=None,\n",
       "        random_state=None, reg_alpha=0.0, reg_lambda=0.0, silent=True,\n",
       "        subsample=1.0, subsample_for_bin=200000, subsample_freq=0)"
      ]
     },
     "execution_count": 37,
     "metadata": {},
     "output_type": "execute_result"
    }
   ],
   "source": [
    "clf.fit(X=X_train, y=y_train, verbose=10)"
   ]
  },
  {
   "cell_type": "code",
   "execution_count": 44,
   "metadata": {},
   "outputs": [
    {
     "name": "stdout",
     "output_type": "stream",
     "text": [
      "TN:7385\tFP:114\tFN:159\tTP:1452\n",
      "f1-score = 0.9140698772426818\n"
     ]
    }
   ],
   "source": [
    "# Test the model against the validation set\n",
    "pred_val = clf.predict(df_val_data)\n",
    "\n",
    "# Evaluate the predictions\n",
    "scores = confusion_matrix(df_val_labels, pred_val).ravel()\n",
    "tn, fp, fn, tp = scores\n",
    "print('TN:{}\\tFP:{}\\tFN:{}\\tTP:{}'.format(tn, fp, fn, tp))\n",
    "f1 = f1_score(df_val_labels, pred_val, average='binary', labels=[0, 1])\n",
    "print('f1-score = {}'.format(f1))"
   ]
  },
  {
   "cell_type": "code",
   "execution_count": 25,
   "metadata": {},
   "outputs": [
    {
     "data": {
      "text/html": [
       "<div>\n",
       "<style scoped>\n",
       "    .dataframe tbody tr th:only-of-type {\n",
       "        vertical-align: middle;\n",
       "    }\n",
       "\n",
       "    .dataframe tbody tr th {\n",
       "        vertical-align: top;\n",
       "    }\n",
       "\n",
       "    .dataframe thead th {\n",
       "        text-align: right;\n",
       "    }\n",
       "</style>\n",
       "<table border=\"1\" class=\"dataframe\">\n",
       "  <thead>\n",
       "    <tr style=\"text-align: right;\">\n",
       "      <th></th>\n",
       "      <th>TOTUSJH</th>\n",
       "      <th>TOTBSQ</th>\n",
       "      <th>TOTPOT</th>\n",
       "      <th>TOTUSJZ</th>\n",
       "      <th>ABSNJZH</th>\n",
       "      <th>SAVNCPP</th>\n",
       "      <th>USFLUX</th>\n",
       "      <th>TOTFZ</th>\n",
       "      <th>MEANPOT</th>\n",
       "      <th>EPSZ</th>\n",
       "      <th>...</th>\n",
       "      <th>TOTFY</th>\n",
       "      <th>MEANJZD</th>\n",
       "      <th>MEANALP</th>\n",
       "      <th>TOTFX</th>\n",
       "      <th>EPSY</th>\n",
       "      <th>EPSX</th>\n",
       "      <th>R_VALUE</th>\n",
       "      <th>XR_MAX</th>\n",
       "      <th>LABEL</th>\n",
       "      <th>ID</th>\n",
       "    </tr>\n",
       "  </thead>\n",
       "  <tbody>\n",
       "    <tr>\n",
       "      <th>0</th>\n",
       "      <td>87.732673</td>\n",
       "      <td>1.060253e+09</td>\n",
       "      <td>4.965436e+21</td>\n",
       "      <td>1.757834e+12</td>\n",
       "      <td>5.639933</td>\n",
       "      <td>5.130424e+11</td>\n",
       "      <td>1.992729e+21</td>\n",
       "      <td>-1.027670e+24</td>\n",
       "      <td>1258.044246</td>\n",
       "      <td>-0.729846</td>\n",
       "      <td>...</td>\n",
       "      <td>5.382202e+22</td>\n",
       "      <td>-0.161822</td>\n",
       "      <td>0.006150</td>\n",
       "      <td>2.988294e+23</td>\n",
       "      <td>-0.038224</td>\n",
       "      <td>-0.212227</td>\n",
       "      <td>0.000000</td>\n",
       "      <td>2.213800e-07</td>\n",
       "      <td>NaN</td>\n",
       "      <td>1</td>\n",
       "    </tr>\n",
       "    <tr>\n",
       "      <th>1</th>\n",
       "      <td>86.971296</td>\n",
       "      <td>8.213930e+08</td>\n",
       "      <td>6.515581e+21</td>\n",
       "      <td>1.736808e+12</td>\n",
       "      <td>3.810905</td>\n",
       "      <td>1.532922e+11</td>\n",
       "      <td>1.261756e+21</td>\n",
       "      <td>-6.059452e+23</td>\n",
       "      <td>2496.767332</td>\n",
       "      <td>-0.555482</td>\n",
       "      <td>...</td>\n",
       "      <td>-1.047171e+23</td>\n",
       "      <td>-0.000818</td>\n",
       "      <td>-0.005965</td>\n",
       "      <td>-2.519539e+23</td>\n",
       "      <td>0.095996</td>\n",
       "      <td>0.230971</td>\n",
       "      <td>0.000000</td>\n",
       "      <td>8.955100e-08</td>\n",
       "      <td>NaN</td>\n",
       "      <td>2</td>\n",
       "    </tr>\n",
       "    <tr>\n",
       "      <th>2</th>\n",
       "      <td>28.729991</td>\n",
       "      <td>2.441122e+08</td>\n",
       "      <td>1.753274e+21</td>\n",
       "      <td>6.488218e+11</td>\n",
       "      <td>3.915116</td>\n",
       "      <td>3.726708e+11</td>\n",
       "      <td>4.801788e+20</td>\n",
       "      <td>-2.015783e+23</td>\n",
       "      <td>1686.069536</td>\n",
       "      <td>-0.621787</td>\n",
       "      <td>...</td>\n",
       "      <td>-7.548670e+22</td>\n",
       "      <td>0.881503</td>\n",
       "      <td>0.019778</td>\n",
       "      <td>-5.513476e+22</td>\n",
       "      <td>0.232846</td>\n",
       "      <td>0.170068</td>\n",
       "      <td>0.000000</td>\n",
       "      <td>4.378300e-07</td>\n",
       "      <td>NaN</td>\n",
       "      <td>3</td>\n",
       "    </tr>\n",
       "    <tr>\n",
       "      <th>3</th>\n",
       "      <td>326.870514</td>\n",
       "      <td>3.694160e+09</td>\n",
       "      <td>2.776160e+22</td>\n",
       "      <td>7.087296e+12</td>\n",
       "      <td>8.820615</td>\n",
       "      <td>9.160468e+11</td>\n",
       "      <td>6.285037e+21</td>\n",
       "      <td>-3.009802e+24</td>\n",
       "      <td>2033.475382</td>\n",
       "      <td>-0.613493</td>\n",
       "      <td>...</td>\n",
       "      <td>4.302972e+23</td>\n",
       "      <td>-0.174427</td>\n",
       "      <td>-0.002960</td>\n",
       "      <td>-9.818457e+23</td>\n",
       "      <td>-0.087708</td>\n",
       "      <td>0.200131</td>\n",
       "      <td>2.698849</td>\n",
       "      <td>1.030200e-07</td>\n",
       "      <td>NaN</td>\n",
       "      <td>4</td>\n",
       "    </tr>\n",
       "    <tr>\n",
       "      <th>4</th>\n",
       "      <td>84.242295</td>\n",
       "      <td>6.000342e+08</td>\n",
       "      <td>3.233690e+21</td>\n",
       "      <td>1.625718e+12</td>\n",
       "      <td>7.943453</td>\n",
       "      <td>5.902789e+11</td>\n",
       "      <td>9.452542e+20</td>\n",
       "      <td>-3.837011e+23</td>\n",
       "      <td>1712.324400</td>\n",
       "      <td>-0.481509</td>\n",
       "      <td>...</td>\n",
       "      <td>-7.405174e+22</td>\n",
       "      <td>0.767632</td>\n",
       "      <td>0.017871</td>\n",
       "      <td>7.043063e+21</td>\n",
       "      <td>0.092928</td>\n",
       "      <td>-0.008838</td>\n",
       "      <td>0.000000</td>\n",
       "      <td>7.551500e-07</td>\n",
       "      <td>NaN</td>\n",
       "      <td>5</td>\n",
       "    </tr>\n",
       "  </tbody>\n",
       "</table>\n",
       "<p>5 rows × 27 columns</p>\n",
       "</div>"
      ],
      "text/plain": [
       "      TOTUSJH        TOTBSQ        TOTPOT       TOTUSJZ   ABSNJZH  \\\n",
       "0   87.732673  1.060253e+09  4.965436e+21  1.757834e+12  5.639933   \n",
       "1   86.971296  8.213930e+08  6.515581e+21  1.736808e+12  3.810905   \n",
       "2   28.729991  2.441122e+08  1.753274e+21  6.488218e+11  3.915116   \n",
       "3  326.870514  3.694160e+09  2.776160e+22  7.087296e+12  8.820615   \n",
       "4   84.242295  6.000342e+08  3.233690e+21  1.625718e+12  7.943453   \n",
       "\n",
       "        SAVNCPP        USFLUX         TOTFZ      MEANPOT      EPSZ  ...  \\\n",
       "0  5.130424e+11  1.992729e+21 -1.027670e+24  1258.044246 -0.729846  ...   \n",
       "1  1.532922e+11  1.261756e+21 -6.059452e+23  2496.767332 -0.555482  ...   \n",
       "2  3.726708e+11  4.801788e+20 -2.015783e+23  1686.069536 -0.621787  ...   \n",
       "3  9.160468e+11  6.285037e+21 -3.009802e+24  2033.475382 -0.613493  ...   \n",
       "4  5.902789e+11  9.452542e+20 -3.837011e+23  1712.324400 -0.481509  ...   \n",
       "\n",
       "          TOTFY   MEANJZD   MEANALP         TOTFX      EPSY      EPSX  \\\n",
       "0  5.382202e+22 -0.161822  0.006150  2.988294e+23 -0.038224 -0.212227   \n",
       "1 -1.047171e+23 -0.000818 -0.005965 -2.519539e+23  0.095996  0.230971   \n",
       "2 -7.548670e+22  0.881503  0.019778 -5.513476e+22  0.232846  0.170068   \n",
       "3  4.302972e+23 -0.174427 -0.002960 -9.818457e+23 -0.087708  0.200131   \n",
       "4 -7.405174e+22  0.767632  0.017871  7.043063e+21  0.092928 -0.008838   \n",
       "\n",
       "    R_VALUE        XR_MAX  LABEL  ID  \n",
       "0  0.000000  2.213800e-07    NaN   1  \n",
       "1  0.000000  8.955100e-08    NaN   2  \n",
       "2  0.000000  4.378300e-07    NaN   3  \n",
       "3  2.698849  1.030200e-07    NaN   4  \n",
       "4  0.000000  7.551500e-07    NaN   5  \n",
       "\n",
       "[5 rows x 27 columns]"
      ]
     },
     "execution_count": 25,
     "metadata": {},
     "output_type": "execute_result"
    }
   ],
   "source": [
    "file_name = \"testSet.json\"\n",
    "\n",
    "df_test_data = convert_json_data_to_csv(path_to_data, file_name, False)  # shape: 27006 X 27\n",
    "df_test_data.head()"
   ]
  },
  {
   "cell_type": "code",
   "execution_count": 26,
   "metadata": {},
   "outputs": [
    {
     "data": {
      "text/plain": [
       "array([0, 0, 0, ..., 0, 0, 0])"
      ]
     },
     "execution_count": 26,
     "metadata": {},
     "output_type": "execute_result"
    }
   ],
   "source": [
    "pred_labels = clf.predict(df_test_data.iloc[:, :-2])\n",
    "pred_labels"
   ]
  },
  {
   "cell_type": "code",
   "execution_count": 39,
   "metadata": {},
   "outputs": [
    {
     "data": {
      "text/plain": [
       "0    159340\n",
       "1     14172\n",
       "Name: ClassLabel, dtype: int64"
      ]
     },
     "execution_count": 39,
     "metadata": {},
     "output_type": "execute_result"
    }
   ],
   "source": [
    "submission = pd.DataFrame({\"Id\": df_test_data.ID, \"ClassLabel\": list(pred_labels)})\n",
    "submission.ClassLabel.value_counts()"
   ]
  },
  {
   "cell_type": "code",
   "execution_count": 41,
   "metadata": {},
   "outputs": [
    {
     "data": {
      "text/html": [
       "<div>\n",
       "<style scoped>\n",
       "    .dataframe tbody tr th:only-of-type {\n",
       "        vertical-align: middle;\n",
       "    }\n",
       "\n",
       "    .dataframe tbody tr th {\n",
       "        vertical-align: top;\n",
       "    }\n",
       "\n",
       "    .dataframe thead th {\n",
       "        text-align: right;\n",
       "    }\n",
       "</style>\n",
       "<table border=\"1\" class=\"dataframe\">\n",
       "  <thead>\n",
       "    <tr style=\"text-align: right;\">\n",
       "      <th></th>\n",
       "      <th>Id</th>\n",
       "      <th>ClassLabel</th>\n",
       "    </tr>\n",
       "  </thead>\n",
       "  <tbody>\n",
       "    <tr>\n",
       "      <th>0</th>\n",
       "      <td>1</td>\n",
       "      <td>0</td>\n",
       "    </tr>\n",
       "    <tr>\n",
       "      <th>1</th>\n",
       "      <td>2</td>\n",
       "      <td>0</td>\n",
       "    </tr>\n",
       "    <tr>\n",
       "      <th>2</th>\n",
       "      <td>3</td>\n",
       "      <td>0</td>\n",
       "    </tr>\n",
       "    <tr>\n",
       "      <th>3</th>\n",
       "      <td>4</td>\n",
       "      <td>0</td>\n",
       "    </tr>\n",
       "    <tr>\n",
       "      <th>4</th>\n",
       "      <td>5</td>\n",
       "      <td>0</td>\n",
       "    </tr>\n",
       "    <tr>\n",
       "      <th>5</th>\n",
       "      <td>6</td>\n",
       "      <td>0</td>\n",
       "    </tr>\n",
       "    <tr>\n",
       "      <th>6</th>\n",
       "      <td>7</td>\n",
       "      <td>0</td>\n",
       "    </tr>\n",
       "    <tr>\n",
       "      <th>7</th>\n",
       "      <td>8</td>\n",
       "      <td>0</td>\n",
       "    </tr>\n",
       "    <tr>\n",
       "      <th>8</th>\n",
       "      <td>9</td>\n",
       "      <td>0</td>\n",
       "    </tr>\n",
       "    <tr>\n",
       "      <th>9</th>\n",
       "      <td>10</td>\n",
       "      <td>0</td>\n",
       "    </tr>\n",
       "  </tbody>\n",
       "</table>\n",
       "</div>"
      ],
      "text/plain": [
       "   Id  ClassLabel\n",
       "0   1           0\n",
       "1   2           0\n",
       "2   3           0\n",
       "3   4           0\n",
       "4   5           0\n",
       "5   6           0\n",
       "6   7           0\n",
       "7   8           0\n",
       "8   9           0\n",
       "9  10           0"
      ]
     },
     "execution_count": 41,
     "metadata": {},
     "output_type": "execute_result"
    }
   ],
   "source": [
    "submission.to_csv(\"../../data/output/baseline.csv\", index=False)\n",
    "submission.head(10)"
   ]
  },
  {
   "cell_type": "code",
   "execution_count": null,
   "metadata": {},
   "outputs": [],
   "source": [
    "# baseline_1 = pd.read_csv(\"../../data/output/baseline.csv\")\n",
    "# baseline_2 = pd.read_csv(\"../../data/output/baseline.csv\")"
   ]
  }
 ],
 "metadata": {
  "kernelspec": {
   "display_name": "Python [conda env:py36_env]",
   "language": "python",
   "name": "conda-env-py36_env-py"
  },
  "language_info": {
   "codemirror_mode": {
    "name": "ipython",
    "version": 3
   },
   "file_extension": ".py",
   "mimetype": "text/x-python",
   "name": "python",
   "nbconvert_exporter": "python",
   "pygments_lexer": "ipython3",
   "version": "3.6.6"
  }
 },
 "nbformat": 4,
 "nbformat_minor": 2
}
