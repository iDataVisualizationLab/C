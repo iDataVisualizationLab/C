{
 "cells": [
  {
   "cell_type": "code",
   "execution_count": 1,
   "metadata": {},
   "outputs": [
    {
     "data": {
      "text/html": [
       "<style>.container { width:100% !important; }</style>"
      ],
      "text/plain": [
       "<IPython.core.display.HTML object>"
      ]
     },
     "metadata": {},
     "output_type": "display_data"
    }
   ],
   "source": [
    "import warnings\n",
    "warnings.filterwarnings('ignore')\n",
    "\n",
    "import numpy as np # linear algebra\n",
    "import pandas as pd # data processing, CSV file I/O (e.g. pd.read_csv)\n",
    "from json import JSONDecoder, JSONDecodeError  # for reading the JSON data files\n",
    "import re  # for regular expressions\n",
    "import os  # for os related operations\n",
    "\n",
    "import lightgbm as lgb\n",
    "from tqdm import tqdm_notebook as tqdm\n",
    "\n",
    "\n",
    "from sklearn import svm\n",
    "from sklearn.metrics import confusion_matrix\n",
    "from sklearn.metrics import f1_score\n",
    "\n",
    "from collections import Counter\n",
    "\n",
    "from datetime import datetime\n",
    "\n",
    "from IPython.core.display import display, HTML\n",
    "display(HTML(\"<style>.container { width:100% !important; }</style>\"))\n",
    "\n",
    "pd.set_option('display.max_rows', 500)\n",
    "pd.set_option('display.max_columns', 500)\n",
    "pd.set_option('display.width', 1000)\n",
    "pd.set_option('display.max_colwidth', 199)\n",
    "\n",
    "\n",
    "path_to_data = \"../../data/raw/\""
   ]
  },
  {
   "cell_type": "code",
   "execution_count": 2,
   "metadata": {},
   "outputs": [
    {
     "name": "stdout",
     "output_type": "stream",
     "text": [
      "['data_', 'fold1Training.json', 'fold2Training.json', 'fold3Training.json', 'testSet.json']\n"
     ]
    }
   ],
   "source": [
    "print(os.listdir(path_to_data))"
   ]
  },
  {
   "cell_type": "code",
   "execution_count": 3,
   "metadata": {},
   "outputs": [],
   "source": [
    "def decode_obj(line, pos=0, decoder=JSONDecoder()):\n",
    "    no_white_space_regex = re.compile(r'[^\\s]')\n",
    "    while True:\n",
    "        match = no_white_space_regex.search(line, pos)\n",
    "        if not match:\n",
    "            return\n",
    "        pos = match.start()\n",
    "        try:\n",
    "            obj, pos = decoder.raw_decode(line, pos)\n",
    "        except JSONDecodeError as err:\n",
    "            print('Oops! something went wrong. Error: {}'.format(err))\n",
    "        yield obj"
   ]
  },
  {
   "cell_type": "code",
   "execution_count": 4,
   "metadata": {},
   "outputs": [],
   "source": [
    "def get_obj_with_last_n_val(line, n):\n",
    "    obj = next(decode_obj(line))  # type:dict\n",
    "    id = obj['id']\n",
    "    try:\n",
    "        class_label = obj['classNum']\n",
    "        data = pd.DataFrame.from_dict(obj['values'])  # type:pd.DataFrame\n",
    "        data.set_index(data.index.astype(int), inplace=True)\n",
    "        last_n_indices = np.arange(0, 60)[-n:]\n",
    "        data = data.loc[last_n_indices]\n",
    "        return {'id': id, 'classType': class_label, 'values': data}\n",
    "    except:\n",
    "        data = pd.DataFrame.from_dict(obj['values'])  # type:pd.DataFrame\n",
    "        data.set_index(data.index.astype(int), inplace=True)\n",
    "        last_n_indices = np.arange(0, 60)[-n:]\n",
    "        data = data.loc[last_n_indices]\n",
    "        return {'id': id, 'values': data}"
   ]
  },
  {
   "cell_type": "code",
   "execution_count": 10,
   "metadata": {},
   "outputs": [],
   "source": [
    "def convert_json_data_to_csv_2(data_dir: str, file_name: str, having_class_type=True, n_last=60):\n",
    "    \"\"\"\n",
    "    Generates a dataframe by concatenating the last values of each\n",
    "    multi-variate time series. This method is designed as an example\n",
    "    to show how a json object can be converted into a csv file.\n",
    "    :param data_dir: the path to the data directory.\n",
    "    :param file_name: name of the file to be read, with the extension.\n",
    "    :return: the generated dataframe.\n",
    "    \"\"\"\n",
    "    fname = os.path.join(data_dir, file_name)\n",
    "\n",
    "    all_df, labels, ids = [], [], []\n",
    "    total = len(open(fname).readlines())\n",
    "    print(\"processing {} with {} lines\".format(fname, total))\n",
    "    with open(fname, 'r') as infile: # Open the file for reading\n",
    "        with tqdm(total=total) as pbar:\n",
    "            for line in infile:  # Each 'line' is one MVTS with its single label (0 or 1).\n",
    "                obj = get_obj_with_last_n_val(line, n_last)\n",
    "                all_df.append(obj['values'])\n",
    "                if having_class_type:\n",
    "                    labels.append(obj['classType'])\n",
    "                ids.append(obj['id'])\n",
    "                pbar.update(1)\n",
    "                \n",
    "    df = pd.concat(all_df).reset_index(drop=True)\n",
    "    tmp_list = []\n",
    "    for i in range(n_last):\n",
    "        index_i = [j% n_last == i for j in range(len(df))]\n",
    "        tmp = df.iloc[index_i].reset_index(drop=True)\n",
    "        tmp.columns = [c + \"_\" + str(i) for c in list(df.columns.values)]\n",
    "        tmp_list.append(tmp)\n",
    "\n",
    "    tmp_df = pd.concat(tmp_list, 1).reset_index(drop=True)\n",
    "    tmp_df = tmp_df.assign(LABEL=pd.Series(labels))\n",
    "    tmp_df = tmp_df.assign(ID=pd.Series(ids))\n",
    "    \n",
    "    return tmp_df"
   ]
  },
  {
   "cell_type": "code",
   "execution_count": null,
   "metadata": {},
   "outputs": [],
   "source": [
    "fold1 = \"fold1Training.json\"\n",
    "fold2 = \"fold2Training.json\"\n",
    "fold3 = \"fold3Training.json\"\n",
    "test_data = 'testSet.json'"
   ]
  },
  {
   "cell_type": "code",
   "execution_count": null,
   "metadata": {},
   "outputs": [],
   "source": [
    "## create data, each 25-variable point is in 1 row (i.e., 1 id takes 60 rows)\n",
    "df1 = convert_json_data_to_csv_to_many_rows(path_to_data, fold1, n_last = 60) \n",
    "df2 = convert_json_data_to_csv_to_many_rows(path_to_data, fold2, n_last = 60)\n",
    "df3 = convert_json_data_to_csv_to_many_rows(path_to_data, fold3, n_last = 60)\n",
    "test_data = convert_json_data_to_csv_to_many_rows(path_to_data, test_data, having_class_type=False, n_last = 60)\n",
    "\n",
    "\n",
    "print('df1.shape = {}'.format(df1.shape))\n",
    "print('df2.shape = {}'.format(df2.shape))\n",
    "print('df3.shape = {}'.format(df3.shape))\n",
    "print('test_data.shape = {}'.format(test_data.shape))\n",
    "\n",
    "df1.to_csv(\"../../data/processed/fold1Training_many_rows_raw.csv\", index=False)\n",
    "df2.to_csv(\"../../data/processed/fold2Training_many_rows_raw.csv\", index=False)\n",
    "df3.to_csv(\"../../data/processed/fold3Training_many_rows_raw.csv\", index=False)\n",
    "test_data.to_csv(\"../../data/processed/testSet_many_rows_raw.csv\", index=False)\n",
    "\n",
    "# df1.shape = (4606380, 27)\n",
    "# df2.shape = (5548860, 27)\n",
    "# df3.shape = (1620360, 27)\n",
    "# test_data.shape = (10410720, 27)"
   ]
  },
  {
   "cell_type": "code",
   "execution_count": 12,
   "metadata": {},
   "outputs": [
    {
     "name": "stdout",
     "output_type": "stream",
     "text": [
      "processing ../../data/raw/fold1Training.json with 76773 lines\n"
     ]
    },
    {
     "data": {
      "application/vnd.jupyter.widget-view+json": {
       "model_id": "6ee9cb3be1644eb38104a83fbc01321a",
       "version_major": 2,
       "version_minor": 0
      },
      "text/plain": [
       "HBox(children=(IntProgress(value=0, max=76773), HTML(value='')))"
      ]
     },
     "metadata": {},
     "output_type": "display_data"
    },
    {
     "name": "stdout",
     "output_type": "stream",
     "text": [
      "\n",
      "processing ../../data/raw/fold2Training.json with 92481 lines\n"
     ]
    },
    {
     "data": {
      "application/vnd.jupyter.widget-view+json": {
       "model_id": "caa32b113466484a8edeb4beb623f8c1",
       "version_major": 2,
       "version_minor": 0
      },
      "text/plain": [
       "HBox(children=(IntProgress(value=0, max=92481), HTML(value='')))"
      ]
     },
     "metadata": {},
     "output_type": "display_data"
    },
    {
     "name": "stdout",
     "output_type": "stream",
     "text": [
      "\n",
      "processing ../../data/raw/fold3Training.json with 27006 lines\n"
     ]
    },
    {
     "data": {
      "application/vnd.jupyter.widget-view+json": {
       "model_id": "b177f85c6bfb4bfdb9aec7a7690a9240",
       "version_major": 2,
       "version_minor": 0
      },
      "text/plain": [
       "HBox(children=(IntProgress(value=0, max=27006), HTML(value='')))"
      ]
     },
     "metadata": {},
     "output_type": "display_data"
    },
    {
     "name": "stdout",
     "output_type": "stream",
     "text": [
      "\n",
      "processing ../../data/raw/testSet.json with 173512 lines\n"
     ]
    },
    {
     "data": {
      "application/vnd.jupyter.widget-view+json": {
       "model_id": "ff978ec1dcaa45918351f5f040c552b7",
       "version_major": 2,
       "version_minor": 0
      },
      "text/plain": [
       "HBox(children=(IntProgress(value=0, max=173512), HTML(value='')))"
      ]
     },
     "metadata": {},
     "output_type": "display_data"
    },
    {
     "name": "stdout",
     "output_type": "stream",
     "text": [
      "\n",
      "df1.shape = (76773, 1502)\n",
      "df2.shape = (92481, 1502)\n",
      "df3.shape = (27006, 1502)\n",
      "test_data.shape = (173512, 1502)\n"
     ]
    }
   ],
   "source": [
    "## create data, all data from a ID is in 1 row\n",
    "df1 = convert_json_data_to_csv_2(path_to_data, fold1, n_last = 60) \n",
    "df2 = convert_json_data_to_csv_2(path_to_data, fold2, n_last = 60)\n",
    "df3 = convert_json_data_to_csv_2(path_to_data, fold3, n_last = 60)\n",
    "test_data = convert_json_data_to_csv_2(path_to_data, test_data, having_class_type=False, n_last = 60)\n",
    "\n",
    "\n",
    "print('df1.shape = {}'.format(df1.shape))\n",
    "print('df2.shape = {}'.format(df2.shape))\n",
    "print('df3.shape = {}'.format(df3.shape))\n",
    "print('test_data.shape = {}'.format(test_data.shape))\n",
    "\n",
    "df1.to_csv(\"../../data/processed/fold1Training_60.csv\", index=False)\n",
    "df2.to_csv(\"../../data/processed/fold2Training_60.csv\", index=False)\n",
    "df3.to_csv(\"../../data/processed/fold3Training_60.csv\", index=False)\n",
    "test_data.to_csv(\"../../data/processed/testSet_60.csv\", index=False)\n"
   ]
  },
  {
   "cell_type": "code",
   "execution_count": 17,
   "metadata": {},
   "outputs": [
    {
     "name": "stdout",
     "output_type": "stream",
     "text": [
      "df1 (76773, 1502) Counter({0: 64222, 1: 12551}) 19.543147208121827\n",
      "df2 (92481, 1502) Counter({0: 78516, 1: 13965}) 17.786183707779305\n",
      "df3 (27006, 1502) Counter({0: 22236, 1: 4770}) 21.45169994603346\n"
     ]
    }
   ],
   "source": [
    "c1 = Counter(df1.LABEL)\n",
    "c2 = Counter(df2.LABEL)\n",
    "c3 = Counter(df3.LABEL)\n",
    "\n",
    "print(\"df1\", df1.shape, c1, c1[1]*100/c1[0])\n",
    "print(\"df2\", df2.shape,c2, c2[1]*100/c2[0])\n",
    "print(\"df3\", df3.shape,c3, c3[1]*100/c3[0])"
   ]
  },
  {
   "cell_type": "code",
   "execution_count": 18,
   "metadata": {},
   "outputs": [
    {
     "name": "stdout",
     "output_type": "stream",
     "text": [
      "c_train (169254, 1502) Counter({0: 142738, 1: 26516}) 18.57669296193025\n",
      "c_valid (27006, 1502) Counter({0: 22236, 1: 4770}) 21.45169994603346\n"
     ]
    }
   ],
   "source": [
    "train = pd.concat([df1, df2]).reset_index(drop=True)\n",
    "valid = df3\n",
    "\n",
    "c_train = Counter(train.LABEL)\n",
    "c_valid = Counter(valid.LABEL)\n",
    "print(\"c_train\", train.shape, c_train, c_train[1]*100/c_train[0])\n",
    "print(\"c_valid\", valid.shape, c_valid, c_valid[1]*100/c_valid[0])"
   ]
  }
 ],
 "metadata": {
  "kernelspec": {
   "display_name": "Python [conda env:py36_env]",
   "language": "python",
   "name": "conda-env-py36_env-py"
  },
  "language_info": {
   "codemirror_mode": {
    "name": "ipython",
    "version": 3
   },
   "file_extension": ".py",
   "mimetype": "text/x-python",
   "name": "python",
   "nbconvert_exporter": "python",
   "pygments_lexer": "ipython3",
   "version": "3.6.6"
  },
  "toc": {
   "base_numbering": 1,
   "nav_menu": {},
   "number_sections": true,
   "sideBar": true,
   "skip_h1_title": false,
   "title_cell": "Table of Contents",
   "title_sidebar": "Contents",
   "toc_cell": false,
   "toc_position": {},
   "toc_section_display": true,
   "toc_window_display": false
  }
 },
 "nbformat": 4,
 "nbformat_minor": 2
}
