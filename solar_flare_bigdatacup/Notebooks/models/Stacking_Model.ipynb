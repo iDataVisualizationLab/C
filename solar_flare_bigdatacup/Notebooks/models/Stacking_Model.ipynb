{
 "cells": [
  {
   "cell_type": "code",
   "execution_count": 1,
   "metadata": {},
   "outputs": [],
   "source": [
    "import pickle\n",
    "import pandas as pd\n",
    "from sklearn.linear_model import LogisticRegression\n",
    "import seaborn as sns\n",
    "from sklearn.metrics import f1_score\n",
    "from collections import Counter\n",
    "from sklearn.preprocessing import MinMaxScaler\n",
    "\n",
    "import numpy as np"
   ]
  },
  {
   "cell_type": "code",
   "execution_count": 2,
   "metadata": {},
   "outputs": [],
   "source": [
    "valid_lgb = pd.read_csv(\"../../data/intermediate/lgb_65078.csv\")\n",
    "valid_neural = pd.read_csv(\"../../data/intermediate/neural_65698.csv\")\n",
    "valid_lstm = pd.read_csv(\"../../data/intermediate/LSTM_62000.csv\")\n",
    "valid_logistic = pd.read_csv(\"../../data/intermediate/logistic_63246.csv\")\n",
    "\n",
    "submit_lgb = pd.read_csv(\"../../data/intermediate/lgb_65078_sub_thres0.5.csv\")\n",
    "submit_neural = pd.read_csv(\"../../data/intermediate/neural_65698_sub_thres0.16.csv\")\n",
    "submit_lstm = pd.read_csv(\"../../data/intermediate/LSTM_62000_sub_thres0.37.csv\")\n",
    "submit_logistic = pd.read_csv(\"../../data/intermediate/logistic_63246_sub_thres0.28.csv\")"
   ]
  },
  {
   "cell_type": "code",
   "execution_count": 3,
   "metadata": {},
   "outputs": [
    {
     "data": {
      "text/html": [
       "<div>\n",
       "<style scoped>\n",
       "    .dataframe tbody tr th:only-of-type {\n",
       "        vertical-align: middle;\n",
       "    }\n",
       "\n",
       "    .dataframe tbody tr th {\n",
       "        vertical-align: top;\n",
       "    }\n",
       "\n",
       "    .dataframe thead th {\n",
       "        text-align: right;\n",
       "    }\n",
       "</style>\n",
       "<table border=\"1\" class=\"dataframe\">\n",
       "  <thead>\n",
       "    <tr style=\"text-align: right;\">\n",
       "      <th></th>\n",
       "      <th>pred</th>\n",
       "      <th>label</th>\n",
       "      <th>pred_neural</th>\n",
       "      <th>pred_LSTM</th>\n",
       "      <th>pred_logistic</th>\n",
       "      <th>lgb</th>\n",
       "      <th>neural</th>\n",
       "      <th>LSTM</th>\n",
       "      <th>logistic</th>\n",
       "    </tr>\n",
       "  </thead>\n",
       "  <tbody>\n",
       "    <tr>\n",
       "      <th>0</th>\n",
       "      <td>0.817802</td>\n",
       "      <td>1</td>\n",
       "      <td>0.630928</td>\n",
       "      <td>0.792745</td>\n",
       "      <td>0.727910</td>\n",
       "      <td>True</td>\n",
       "      <td>True</td>\n",
       "      <td>True</td>\n",
       "      <td>True</td>\n",
       "    </tr>\n",
       "    <tr>\n",
       "      <th>1</th>\n",
       "      <td>0.084485</td>\n",
       "      <td>0</td>\n",
       "      <td>0.033467</td>\n",
       "      <td>0.056563</td>\n",
       "      <td>0.046409</td>\n",
       "      <td>False</td>\n",
       "      <td>False</td>\n",
       "      <td>False</td>\n",
       "      <td>False</td>\n",
       "    </tr>\n",
       "    <tr>\n",
       "      <th>2</th>\n",
       "      <td>0.005016</td>\n",
       "      <td>0</td>\n",
       "      <td>0.003996</td>\n",
       "      <td>0.002360</td>\n",
       "      <td>0.001951</td>\n",
       "      <td>False</td>\n",
       "      <td>False</td>\n",
       "      <td>False</td>\n",
       "      <td>False</td>\n",
       "    </tr>\n",
       "    <tr>\n",
       "      <th>3</th>\n",
       "      <td>0.051585</td>\n",
       "      <td>0</td>\n",
       "      <td>0.048318</td>\n",
       "      <td>0.003632</td>\n",
       "      <td>0.031647</td>\n",
       "      <td>False</td>\n",
       "      <td>False</td>\n",
       "      <td>False</td>\n",
       "      <td>False</td>\n",
       "    </tr>\n",
       "    <tr>\n",
       "      <th>4</th>\n",
       "      <td>0.025386</td>\n",
       "      <td>0</td>\n",
       "      <td>0.021180</td>\n",
       "      <td>0.061996</td>\n",
       "      <td>0.026562</td>\n",
       "      <td>False</td>\n",
       "      <td>False</td>\n",
       "      <td>False</td>\n",
       "      <td>False</td>\n",
       "    </tr>\n",
       "  </tbody>\n",
       "</table>\n",
       "</div>"
      ],
      "text/plain": [
       "       pred  label  pred_neural  pred_LSTM  pred_logistic    lgb  neural  \\\n",
       "0  0.817802      1     0.630928   0.792745       0.727910   True    True   \n",
       "1  0.084485      0     0.033467   0.056563       0.046409  False   False   \n",
       "2  0.005016      0     0.003996   0.002360       0.001951  False   False   \n",
       "3  0.051585      0     0.048318   0.003632       0.031647  False   False   \n",
       "4  0.025386      0     0.021180   0.061996       0.026562  False   False   \n",
       "\n",
       "    LSTM  logistic  \n",
       "0   True      True  \n",
       "1  False     False  \n",
       "2  False     False  \n",
       "3  False     False  \n",
       "4  False     False  "
      ]
     },
     "execution_count": 3,
     "metadata": {},
     "output_type": "execute_result"
    }
   ],
   "source": [
    "train = pd.concat([valid_lgb, valid_neural[['pred_neural']], valid_lstm[['pred_LSTM']], \n",
    "                  valid_logistic[['pred_logistic']]  ], 1)\n",
    "\n",
    "train[\"lgb\"] = train.pred > 0.5\n",
    "train[\"neural\"] = train.pred_neural > 0.16\n",
    "train[\"LSTM\"] = train.pred_LSTM > 0.37\n",
    "train[\"logistic\"] = train.pred_logistic > 0.28\n",
    "\n",
    "\n",
    "# train[\"max\"] = train.drop(\"label\", 1).apply(lambda x: np.argmax(x), 1)\n",
    "# train = pd.get_dummies(train)\n",
    "train.head()"
   ]
  },
  {
   "cell_type": "code",
   "execution_count": 4,
   "metadata": {},
   "outputs": [
    {
     "data": {
      "text/html": [
       "<div>\n",
       "<style scoped>\n",
       "    .dataframe tbody tr th:only-of-type {\n",
       "        vertical-align: middle;\n",
       "    }\n",
       "\n",
       "    .dataframe tbody tr th {\n",
       "        vertical-align: top;\n",
       "    }\n",
       "\n",
       "    .dataframe thead th {\n",
       "        text-align: right;\n",
       "    }\n",
       "</style>\n",
       "<table border=\"1\" class=\"dataframe\">\n",
       "  <thead>\n",
       "    <tr style=\"text-align: right;\">\n",
       "      <th></th>\n",
       "      <th>pred</th>\n",
       "      <th>label</th>\n",
       "      <th>pred_neural</th>\n",
       "      <th>pred_LSTM</th>\n",
       "      <th>pred_logistic</th>\n",
       "      <th>lgb</th>\n",
       "      <th>neural</th>\n",
       "      <th>LSTM</th>\n",
       "      <th>logistic</th>\n",
       "    </tr>\n",
       "  </thead>\n",
       "  <tbody>\n",
       "    <tr>\n",
       "      <th>pred</th>\n",
       "      <td>1.000000</td>\n",
       "      <td>0.699787</td>\n",
       "      <td>0.974806</td>\n",
       "      <td>0.954836</td>\n",
       "      <td>0.960140</td>\n",
       "      <td>0.919965</td>\n",
       "      <td>0.874094</td>\n",
       "      <td>0.878170</td>\n",
       "      <td>0.878676</td>\n",
       "    </tr>\n",
       "    <tr>\n",
       "      <th>label</th>\n",
       "      <td>0.699787</td>\n",
       "      <td>1.000000</td>\n",
       "      <td>0.711195</td>\n",
       "      <td>0.678183</td>\n",
       "      <td>0.693294</td>\n",
       "      <td>0.655366</td>\n",
       "      <td>0.589460</td>\n",
       "      <td>0.612323</td>\n",
       "      <td>0.612500</td>\n",
       "    </tr>\n",
       "    <tr>\n",
       "      <th>pred_neural</th>\n",
       "      <td>0.974806</td>\n",
       "      <td>0.711195</td>\n",
       "      <td>1.000000</td>\n",
       "      <td>0.957620</td>\n",
       "      <td>0.970314</td>\n",
       "      <td>0.887548</td>\n",
       "      <td>0.847038</td>\n",
       "      <td>0.854947</td>\n",
       "      <td>0.858094</td>\n",
       "    </tr>\n",
       "    <tr>\n",
       "      <th>pred_LSTM</th>\n",
       "      <td>0.954836</td>\n",
       "      <td>0.678183</td>\n",
       "      <td>0.957620</td>\n",
       "      <td>1.000000</td>\n",
       "      <td>0.967182</td>\n",
       "      <td>0.856052</td>\n",
       "      <td>0.844395</td>\n",
       "      <td>0.893068</td>\n",
       "      <td>0.871776</td>\n",
       "    </tr>\n",
       "    <tr>\n",
       "      <th>pred_logistic</th>\n",
       "      <td>0.960140</td>\n",
       "      <td>0.693294</td>\n",
       "      <td>0.970314</td>\n",
       "      <td>0.967182</td>\n",
       "      <td>1.000000</td>\n",
       "      <td>0.870542</td>\n",
       "      <td>0.822807</td>\n",
       "      <td>0.862951</td>\n",
       "      <td>0.882073</td>\n",
       "    </tr>\n",
       "    <tr>\n",
       "      <th>lgb</th>\n",
       "      <td>0.919965</td>\n",
       "      <td>0.655366</td>\n",
       "      <td>0.887548</td>\n",
       "      <td>0.856052</td>\n",
       "      <td>0.870542</td>\n",
       "      <td>1.000000</td>\n",
       "      <td>0.760807</td>\n",
       "      <td>0.826295</td>\n",
       "      <td>0.830725</td>\n",
       "    </tr>\n",
       "    <tr>\n",
       "      <th>neural</th>\n",
       "      <td>0.874094</td>\n",
       "      <td>0.589460</td>\n",
       "      <td>0.847038</td>\n",
       "      <td>0.844395</td>\n",
       "      <td>0.822807</td>\n",
       "      <td>0.760807</td>\n",
       "      <td>1.000000</td>\n",
       "      <td>0.823158</td>\n",
       "      <td>0.832320</td>\n",
       "    </tr>\n",
       "    <tr>\n",
       "      <th>LSTM</th>\n",
       "      <td>0.878170</td>\n",
       "      <td>0.612323</td>\n",
       "      <td>0.854947</td>\n",
       "      <td>0.893068</td>\n",
       "      <td>0.862951</td>\n",
       "      <td>0.826295</td>\n",
       "      <td>0.823158</td>\n",
       "      <td>1.000000</td>\n",
       "      <td>0.883847</td>\n",
       "    </tr>\n",
       "    <tr>\n",
       "      <th>logistic</th>\n",
       "      <td>0.878676</td>\n",
       "      <td>0.612500</td>\n",
       "      <td>0.858094</td>\n",
       "      <td>0.871776</td>\n",
       "      <td>0.882073</td>\n",
       "      <td>0.830725</td>\n",
       "      <td>0.832320</td>\n",
       "      <td>0.883847</td>\n",
       "      <td>1.000000</td>\n",
       "    </tr>\n",
       "  </tbody>\n",
       "</table>\n",
       "</div>"
      ],
      "text/plain": [
       "                   pred     label  pred_neural  pred_LSTM  pred_logistic  \\\n",
       "pred           1.000000  0.699787     0.974806   0.954836       0.960140   \n",
       "label          0.699787  1.000000     0.711195   0.678183       0.693294   \n",
       "pred_neural    0.974806  0.711195     1.000000   0.957620       0.970314   \n",
       "pred_LSTM      0.954836  0.678183     0.957620   1.000000       0.967182   \n",
       "pred_logistic  0.960140  0.693294     0.970314   0.967182       1.000000   \n",
       "lgb            0.919965  0.655366     0.887548   0.856052       0.870542   \n",
       "neural         0.874094  0.589460     0.847038   0.844395       0.822807   \n",
       "LSTM           0.878170  0.612323     0.854947   0.893068       0.862951   \n",
       "logistic       0.878676  0.612500     0.858094   0.871776       0.882073   \n",
       "\n",
       "                    lgb    neural      LSTM  logistic  \n",
       "pred           0.919965  0.874094  0.878170  0.878676  \n",
       "label          0.655366  0.589460  0.612323  0.612500  \n",
       "pred_neural    0.887548  0.847038  0.854947  0.858094  \n",
       "pred_LSTM      0.856052  0.844395  0.893068  0.871776  \n",
       "pred_logistic  0.870542  0.822807  0.862951  0.882073  \n",
       "lgb            1.000000  0.760807  0.826295  0.830725  \n",
       "neural         0.760807  1.000000  0.823158  0.832320  \n",
       "LSTM           0.826295  0.823158  1.000000  0.883847  \n",
       "logistic       0.830725  0.832320  0.883847  1.000000  "
      ]
     },
     "execution_count": 4,
     "metadata": {},
     "output_type": "execute_result"
    }
   ],
   "source": [
    "train.corr()"
   ]
  },
  {
   "cell_type": "code",
   "execution_count": 5,
   "metadata": {
    "scrolled": true
   },
   "outputs": [
    {
     "data": {
      "text/html": [
       "<div>\n",
       "<style scoped>\n",
       "    .dataframe tbody tr th:only-of-type {\n",
       "        vertical-align: middle;\n",
       "    }\n",
       "\n",
       "    .dataframe tbody tr th {\n",
       "        vertical-align: top;\n",
       "    }\n",
       "\n",
       "    .dataframe thead th {\n",
       "        text-align: right;\n",
       "    }\n",
       "</style>\n",
       "<table border=\"1\" class=\"dataframe\">\n",
       "  <thead>\n",
       "    <tr style=\"text-align: right;\">\n",
       "      <th></th>\n",
       "      <th>pred</th>\n",
       "      <th>pred_neural</th>\n",
       "      <th>pred_LSTM</th>\n",
       "      <th>pred_logistic</th>\n",
       "      <th>lgb</th>\n",
       "      <th>neural</th>\n",
       "      <th>LSTM</th>\n",
       "      <th>logistic</th>\n",
       "    </tr>\n",
       "  </thead>\n",
       "  <tbody>\n",
       "    <tr>\n",
       "      <th>0</th>\n",
       "      <td>0.023384</td>\n",
       "      <td>0.002763</td>\n",
       "      <td>0.005031</td>\n",
       "      <td>0.031623</td>\n",
       "      <td>False</td>\n",
       "      <td>False</td>\n",
       "      <td>False</td>\n",
       "      <td>False</td>\n",
       "    </tr>\n",
       "    <tr>\n",
       "      <th>1</th>\n",
       "      <td>0.124081</td>\n",
       "      <td>0.020722</td>\n",
       "      <td>0.035821</td>\n",
       "      <td>0.025756</td>\n",
       "      <td>False</td>\n",
       "      <td>False</td>\n",
       "      <td>False</td>\n",
       "      <td>False</td>\n",
       "    </tr>\n",
       "    <tr>\n",
       "      <th>2</th>\n",
       "      <td>0.001572</td>\n",
       "      <td>0.001714</td>\n",
       "      <td>0.002311</td>\n",
       "      <td>0.001081</td>\n",
       "      <td>False</td>\n",
       "      <td>False</td>\n",
       "      <td>False</td>\n",
       "      <td>False</td>\n",
       "    </tr>\n",
       "    <tr>\n",
       "      <th>3</th>\n",
       "      <td>0.510387</td>\n",
       "      <td>0.075390</td>\n",
       "      <td>0.123103</td>\n",
       "      <td>0.139454</td>\n",
       "      <td>True</td>\n",
       "      <td>False</td>\n",
       "      <td>False</td>\n",
       "      <td>False</td>\n",
       "    </tr>\n",
       "    <tr>\n",
       "      <th>4</th>\n",
       "      <td>0.004931</td>\n",
       "      <td>0.002952</td>\n",
       "      <td>0.003109</td>\n",
       "      <td>0.005794</td>\n",
       "      <td>False</td>\n",
       "      <td>False</td>\n",
       "      <td>False</td>\n",
       "      <td>False</td>\n",
       "    </tr>\n",
       "  </tbody>\n",
       "</table>\n",
       "</div>"
      ],
      "text/plain": [
       "       pred  pred_neural  pred_LSTM  pred_logistic    lgb  neural   LSTM  \\\n",
       "0  0.023384     0.002763   0.005031       0.031623  False   False  False   \n",
       "1  0.124081     0.020722   0.035821       0.025756  False   False  False   \n",
       "2  0.001572     0.001714   0.002311       0.001081  False   False  False   \n",
       "3  0.510387     0.075390   0.123103       0.139454   True   False  False   \n",
       "4  0.004931     0.002952   0.003109       0.005794  False   False  False   \n",
       "\n",
       "   logistic  \n",
       "0     False  \n",
       "1     False  \n",
       "2     False  \n",
       "3     False  \n",
       "4     False  "
      ]
     },
     "execution_count": 5,
     "metadata": {},
     "output_type": "execute_result"
    }
   ],
   "source": [
    "test = pd.concat([submit_lgb[[\"pred\"]], submit_neural[['pred_neural']],\n",
    "                    submit_lstm[['pred_LSTM']],  submit_logistic[['pred_logistic']] ], 1)\n",
    "\n",
    "# test[\"max\"] = test.apply(lambda x: np.argmax(x), 1)\n",
    "\n",
    "test[\"lgb\"] = test.pred > 0.5\n",
    "test[\"neural\"] = test.pred_neural > 0.16\n",
    "test[\"LSTM\"] = test.pred_LSTM > 0.37\n",
    "test[\"logistic\"] = test.pred_logistic > 0.28\n",
    "\n",
    "# test = pd.get_dummies(test)\n",
    "test.head()"
   ]
  },
  {
   "cell_type": "code",
   "execution_count": 7,
   "metadata": {},
   "outputs": [],
   "source": [
    "norm_cols = [\"pred\", 'pred_neural', 'pred_LSTM', 'pred_logistic']\n",
    "\n",
    "for c in norm_cols:\n",
    "    train[c] = train[c].rank(pct=True)\n",
    "\n",
    "for c in norm_cols:\n",
    "    test[c] = test[c].rank(pct=True)"
   ]
  },
  {
   "cell_type": "code",
   "execution_count": 8,
   "metadata": {},
   "outputs": [],
   "source": [
    "features = list(train.drop(\"label\", 1).columns)\n",
    "\n",
    "X_train, y_train = train[features], train.label.values\n",
    "X_test = test[features]"
   ]
  },
  {
   "cell_type": "code",
   "execution_count": 9,
   "metadata": {},
   "outputs": [
    {
     "data": {
      "text/plain": [
       "<matplotlib.axes._subplots.AxesSubplot at 0x7facd9859eb8>"
      ]
     },
     "execution_count": 9,
     "metadata": {},
     "output_type": "execute_result"
    },
    {
     "data": {
      "image/png": "[encoded data removed]",
      "text/plain": [
       "<Figure size 432x288 with 1 Axes>"
      ]
     },
     "metadata": {
      "needs_background": "light"
     },
     "output_type": "display_data"
    }
   ],
   "source": [
    "sns.distplot(X_train.pred)\n",
    "sns.distplot(X_test.pred)"
   ]
  },
  {
   "cell_type": "code",
   "execution_count": 10,
   "metadata": {},
   "outputs": [
    {
     "data": {
      "text/plain": [
       "<matplotlib.axes._subplots.AxesSubplot at 0x7facd71dc0f0>"
      ]
     },
     "execution_count": 10,
     "metadata": {},
     "output_type": "execute_result"
    },
    {
     "data": {
      "image/png": "[encoded data removed]",
      "text/plain": [
       "<Figure size 432x288 with 1 Axes>"
      ]
     },
     "metadata": {
      "needs_background": "light"
     },
     "output_type": "display_data"
    }
   ],
   "source": [
    "sns.distplot(X_train.pred_neural)\n",
    "sns.distplot(X_test.pred_neural)"
   ]
  },
  {
   "cell_type": "code",
   "execution_count": 11,
   "metadata": {},
   "outputs": [
    {
     "data": {
      "text/plain": [
       "<matplotlib.axes._subplots.AxesSubplot at 0x7facd7083e48>"
      ]
     },
     "execution_count": 11,
     "metadata": {},
     "output_type": "execute_result"
    },
    {
     "data": {
      "image/png": "[encoded data removed]",
      "text/plain": [
       "<Figure size 432x288 with 1 Axes>"
      ]
     },
     "metadata": {
      "needs_background": "light"
     },
     "output_type": "display_data"
    }
   ],
   "source": [
    "sns.distplot(X_train.pred_LSTM)\n",
    "sns.distplot(X_test.pred_LSTM)"
   ]
  },
  {
   "cell_type": "code",
   "execution_count": null,
   "metadata": {},
   "outputs": [],
   "source": []
  },
  {
   "cell_type": "code",
   "execution_count": 12,
   "metadata": {},
   "outputs": [
    {
     "data": {
      "text/plain": [
       "LogisticRegression(C=1.0, class_weight=None, dual=False, fit_intercept=True,\n",
       "                   intercept_scaling=1, l1_ratio=None, max_iter=100,\n",
       "                   multi_class='warn', n_jobs=None, penalty='l2',\n",
       "                   random_state=None, solver='warn', tol=0.0001, verbose=0,\n",
       "                   warm_start=False)"
      ]
     },
     "execution_count": 12,
     "metadata": {},
     "output_type": "execute_result"
    }
   ],
   "source": [
    "model = LogisticRegression()\n",
    "model"
   ]
  },
  {
   "cell_type": "code",
   "execution_count": 13,
   "metadata": {},
   "outputs": [
    {
     "name": "stderr",
     "output_type": "stream",
     "text": [
      "/home/zdeploy/anaconda3/envs/py36_env/lib/python3.6/site-packages/sklearn/linear_model/logistic.py:432: FutureWarning: Default solver will be changed to 'lbfgs' in 0.22. Specify a solver to silence this warning.\n",
      "  FutureWarning)\n"
     ]
    },
    {
     "data": {
      "text/plain": [
       "array([[ 1.14455943,  4.32945542, -0.01096546,  3.03052265,  0.71854519,\n",
       "         0.41416783,  0.11545012, -0.17728214]])"
      ]
     },
     "execution_count": 13,
     "metadata": {},
     "output_type": "execute_result"
    }
   ],
   "source": [
    "model.fit(X_train, y_train)\n",
    "train_pred_prob = model.predict_proba(X_train)[:,1]\n",
    "test_pred_prob = model.predict_proba(X_test)[:,1]\n",
    "\n",
    "model.coef_"
   ]
  },
  {
   "cell_type": "code",
   "execution_count": 14,
   "metadata": {},
   "outputs": [
    {
     "data": {
      "text/plain": [
       "<matplotlib.axes._subplots.AxesSubplot at 0x7facd6ed8588>"
      ]
     },
     "execution_count": 14,
     "metadata": {},
     "output_type": "execute_result"
    },
    {
     "data": {
      "image/png": "[encoded data removed]",
      "text/plain": [
       "<Figure size 432x288 with 1 Axes>"
      ]
     },
     "metadata": {
      "needs_background": "light"
     },
     "output_type": "display_data"
    }
   ],
   "source": [
    "sns.distplot(train_pred_prob)"
   ]
  },
  {
   "cell_type": "code",
   "execution_count": 31,
   "metadata": {},
   "outputs": [
    {
     "name": "stdout",
     "output_type": "stream",
     "text": [
      "26.640093786635404\n"
     ]
    },
    {
     "data": {
      "text/plain": [
       "0.7275858769495741"
      ]
     },
     "execution_count": 31,
     "metadata": {},
     "output_type": "execute_result"
    }
   ],
   "source": [
    "thres = 0.43\n",
    "train_pred = train_pred_prob > thres\n",
    "\n",
    "c = Counter(train_pred)\n",
    "print(c[1]*100/c[0])\n",
    "\n",
    "f1_score(y_train, train_pred)"
   ]
  },
  {
   "cell_type": "code",
   "execution_count": 16,
   "metadata": {},
   "outputs": [
    {
     "data": {
      "text/plain": [
       "<matplotlib.axes._subplots.AxesSubplot at 0x7facd6ffb588>"
      ]
     },
     "execution_count": 16,
     "metadata": {},
     "output_type": "execute_result"
    },
    {
     "data": {
      "image/png": "[encoded data removed]",
      "text/plain": [
       "<Figure size 432x288 with 1 Axes>"
      ]
     },
     "metadata": {
      "needs_background": "light"
     },
     "output_type": "display_data"
    }
   ],
   "source": [
    "sns.distplot(test_pred_prob)"
   ]
  },
  {
   "cell_type": "code",
   "execution_count": 32,
   "metadata": {},
   "outputs": [
    {
     "data": {
      "text/plain": [
       "Counter({False: 144040, True: 29472})"
      ]
     },
     "execution_count": 32,
     "metadata": {},
     "output_type": "execute_result"
    }
   ],
   "source": [
    "thres = 0.43\n",
    "y_pred = test_pred_prob > thres\n",
    "\n",
    "Counter(y_pred)"
   ]
  },
  {
   "cell_type": "code",
   "execution_count": 33,
   "metadata": {},
   "outputs": [
    {
     "name": "stdout",
     "output_type": "stream",
     "text": [
      "(173512, 2)\n",
      "Counter({0: 144040, 1: 29472})\n"
     ]
    },
    {
     "data": {
      "text/html": [
       "<div>\n",
       "<style scoped>\n",
       "    .dataframe tbody tr th:only-of-type {\n",
       "        vertical-align: middle;\n",
       "    }\n",
       "\n",
       "    .dataframe tbody tr th {\n",
       "        vertical-align: top;\n",
       "    }\n",
       "\n",
       "    .dataframe thead th {\n",
       "        text-align: right;\n",
       "    }\n",
       "</style>\n",
       "<table border=\"1\" class=\"dataframe\">\n",
       "  <thead>\n",
       "    <tr style=\"text-align: right;\">\n",
       "      <th></th>\n",
       "      <th>Id</th>\n",
       "      <th>ClassLabel</th>\n",
       "    </tr>\n",
       "  </thead>\n",
       "  <tbody>\n",
       "    <tr>\n",
       "      <th>0</th>\n",
       "      <td>1</td>\n",
       "      <td>0</td>\n",
       "    </tr>\n",
       "    <tr>\n",
       "      <th>1</th>\n",
       "      <td>2</td>\n",
       "      <td>0</td>\n",
       "    </tr>\n",
       "    <tr>\n",
       "      <th>2</th>\n",
       "      <td>3</td>\n",
       "      <td>0</td>\n",
       "    </tr>\n",
       "    <tr>\n",
       "      <th>3</th>\n",
       "      <td>4</td>\n",
       "      <td>0</td>\n",
       "    </tr>\n",
       "    <tr>\n",
       "      <th>4</th>\n",
       "      <td>5</td>\n",
       "      <td>0</td>\n",
       "    </tr>\n",
       "  </tbody>\n",
       "</table>\n",
       "</div>"
      ],
      "text/plain": [
       "   Id  ClassLabel\n",
       "0   1           0\n",
       "1   2           0\n",
       "2   3           0\n",
       "3   4           0\n",
       "4   5           0"
      ]
     },
     "execution_count": 33,
     "metadata": {},
     "output_type": "execute_result"
    }
   ],
   "source": [
    "submission_df = pd.DataFrame({'Id': range(1, len(y_pred)+1), 'ClassLabel': y_pred})\n",
    "submission_df.ClassLabel = submission_df.ClassLabel.astype(int)\n",
    "print(submission_df.shape)\n",
    "print(Counter(submission_df.ClassLabel))\n",
    "submission_df.head()"
   ]
  },
  {
   "cell_type": "code",
   "execution_count": 34,
   "metadata": {},
   "outputs": [
    {
     "data": {
      "text/plain": [
       "0.9825084144036147"
      ]
     },
     "execution_count": 34,
     "metadata": {},
     "output_type": "execute_result"
    }
   ],
   "source": [
    "x = submit_neural.pred_neural > 0.16\n",
    "sum(x ==y_pred)/len(x)"
   ]
  },
  {
   "cell_type": "code",
   "execution_count": 35,
   "metadata": {},
   "outputs": [
    {
     "data": {
      "text/plain": [
       "Counter({0: 144040, 1: 29472})"
      ]
     },
     "execution_count": 35,
     "metadata": {},
     "output_type": "execute_result"
    }
   ],
   "source": [
    "### Write file\n",
    "submission_df.to_csv(\"stacking_6_rank.csv\", index=False)\n",
    "Counter(submission_df.ClassLabel)"
   ]
  },
  {
   "cell_type": "code",
   "execution_count": null,
   "metadata": {},
   "outputs": [],
   "source": []
  }
 ],
 "metadata": {
  "hide_input": false,
  "kernelspec": {
   "display_name": "Python 3",
   "language": "python",
   "name": "python3"
  },
  "language_info": {
   "codemirror_mode": {
    "name": "ipython",
    "version": 3
   },
   "file_extension": ".py",
   "mimetype": "text/x-python",
   "name": "python",
   "nbconvert_exporter": "python",
   "pygments_lexer": "ipython3",
   "version": "3.6.5"
  },
  "toc": {
   "base_numbering": 1,
   "nav_menu": {},
   "number_sections": true,
   "sideBar": true,
   "skip_h1_title": false,
   "title_cell": "Table of Contents",
   "title_sidebar": "Contents",
   "toc_cell": false,
   "toc_position": {},
   "toc_section_display": true,
   "toc_window_display": false
  },
  "varInspector": {
   "cols": {
    "lenName": 16,
    "lenType": 16,
    "lenVar": 40
   },
   "kernels_config": {
    "python": {
     "delete_cmd_postfix": "",
     "delete_cmd_prefix": "del ",
     "library": "var_list.py",
     "varRefreshCmd": "print(var_dic_list())"
    },
    "r": {
     "delete_cmd_postfix": ") ",
     "delete_cmd_prefix": "rm(",
     "library": "var_list.r",
     "varRefreshCmd": "cat(var_dic_list()) "
    }
   },
   "types_to_exclude": [
    "module",
    "function",
    "builtin_function_or_method",
    "instance",
    "_Feature"
   ],
   "window_display": false
  }
 },
 "nbformat": 4,
 "nbformat_minor": 2
}
