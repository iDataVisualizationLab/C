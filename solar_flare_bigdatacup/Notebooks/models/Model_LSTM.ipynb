{
 "cells": [
  {
   "cell_type": "markdown",
   "metadata": {
    "toc": true
   },
   "source": [
    "<h1>Table of Contents<span class=\"tocSkip\"></span></h1>\n",
    "<div class=\"toc\"><ul class=\"toc-item\"><li><span><a href=\"#Helper-Functions\" data-toc-modified-id=\"Helper-Functions-1\"><span class=\"toc-item-num\">1&nbsp;&nbsp;</span>Helper Functions</a></span></li></ul></div>"
   ]
  },
  {
   "cell_type": "code",
   "execution_count": 7,
   "metadata": {},
   "outputs": [
    {
     "data": {
      "text/html": [
       "<style>.container { width:100% !important; }</style>"
      ],
      "text/plain": [
       "<IPython.core.display.HTML object>"
      ]
     },
     "metadata": {},
     "output_type": "display_data"
    },
    {
     "name": "stdout",
     "output_type": "stream",
     "text": [
      "[name: \"/device:CPU:0\"\n",
      "device_type: \"CPU\"\n",
      "memory_limit: 268435456\n",
      "locality {\n",
      "}\n",
      "incarnation: 3818443488363419559\n",
      ", name: \"/device:XLA_GPU:0\"\n",
      "device_type: \"XLA_GPU\"\n",
      "memory_limit: 17179869184\n",
      "locality {\n",
      "}\n",
      "incarnation: 3682381886928694082\n",
      "physical_device_desc: \"device: XLA_GPU device\"\n",
      ", name: \"/device:XLA_CPU:0\"\n",
      "device_type: \"XLA_CPU\"\n",
      "memory_limit: 17179869184\n",
      "locality {\n",
      "}\n",
      "incarnation: 12855850927457142624\n",
      "physical_device_desc: \"device: XLA_CPU device\"\n",
      ", name: \"/device:GPU:0\"\n",
      "device_type: \"GPU\"\n",
      "memory_limit: 10911298356\n",
      "locality {\n",
      "  bus_id: 1\n",
      "  links {\n",
      "  }\n",
      "}\n",
      "incarnation: 4832414580829589422\n",
      "physical_device_desc: \"device: 0, name: GeForce GTX 1080 Ti, pci bus id: 0000:08:00.0, compute capability: 6.1\"\n",
      "]\n",
      "d4fa0f59-a392-40a1-840d-6200044c9e59\n"
     ]
    }
   ],
   "source": [
    "from IPython.core.display import display, HTML\n",
    "display(HTML(\"<style>.container { width:100% !important; }</style>\"))\n",
    "\n",
    "from datetime import datetime\n",
    "import tensorflow\n",
    "import keras\n",
    "from keras import backend as K\n",
    "import numpy as np\n",
    "from imblearn.over_sampling import SMOTE\n",
    "from keras.constraints import max_norm\n",
    "from keras.optimizers import Adam\n",
    "import pandas as pd\n",
    "from sklearn import preprocessing\n",
    "from sklearn.model_selection import StratifiedKFold, KFold\n",
    "from keras.layers import Dropout\n",
    "from keras import regularizers\n",
    "\n",
    "from keras.models import Sequential\n",
    "from keras.layers import Dense, Input\n",
    "from keras.layers.recurrent import LSTM\n",
    "from keras.layers import Flatten\n",
    "\n",
    "import time\n",
    "import tensorflow as tf\n",
    "from sklearn.metrics import f1_score,roc_auc_score, log_loss, confusion_matrix\n",
    "\n",
    "import seaborn as sns\n",
    "from collections import Counter\n",
    "import os\n",
    "os.environ[\"CUDA_VISIBLE_DEVICES\"]=\"2\"\n",
    "\n",
    "from tensorflow.python.client import device_lib\n",
    "print(device_lib.list_local_devices())\n",
    "%run \"../../src/data_preparation/utils.py\"\n",
    "\n",
    "print(get_notebook_kernel_id())"
   ]
  },
  {
   "cell_type": "markdown",
   "metadata": {},
   "source": [
    "## Helper Functions"
   ]
  },
  {
   "cell_type": "code",
   "execution_count": 74,
   "metadata": {},
   "outputs": [],
   "source": [
    "## define metrics\n",
    "\n",
    "def f1(y_true, y_pred):\n",
    "    y_pred = K.round(y_pred)\n",
    "    tp = K.sum(K.cast(y_true*y_pred, 'float'), axis=0)\n",
    "    tn = K.sum(K.cast((1-y_true)*(1-y_pred), 'float'), axis=0)\n",
    "    fp = K.sum(K.cast((1-y_true)*y_pred, 'float'), axis=0)\n",
    "    fn = K.sum(K.cast(y_true*(1-y_pred), 'float'), axis=0)\n",
    "\n",
    "    p = tp / (tp + fp + K.epsilon())\n",
    "    r = tp / (tp + fn + K.epsilon())\n",
    "\n",
    "    f1 = 2*p*r / (p+r+K.epsilon())\n",
    "    f1 = tf.where(tf.is_nan(f1), tf.zeros_like(f1), f1)\n",
    "    return K.mean(f1)\n",
    "\n",
    "def f1_loss(y_true, y_pred):\n",
    "    tp = K.sum(K.cast(y_true*y_pred, 'float'), axis=0)\n",
    "    tn = K.sum(K.cast((1-y_true)*(1-y_pred), 'float'), axis=0)\n",
    "    fp = K.sum(K.cast((1-y_true)*y_pred, 'float'), axis=0)\n",
    "    fn = K.sum(K.cast(y_true*(1-y_pred), 'float'), axis=0)\n",
    "\n",
    "    p = tp / (tp + fp + K.epsilon())\n",
    "    r = tp / (tp + fn + K.epsilon())\n",
    "\n",
    "    f1 = 2*p*r / (p+r+K.epsilon())\n",
    "    f1 = tf.where(tf.is_nan(f1), tf.zeros_like(f1), f1)\n",
    "    return 1 - K.mean(f1)\n",
    "\n",
    "\n",
    "def focal_loss(gamma=2., alpha=4.):\n",
    "    gamma = float(gamma)\n",
    "    alpha = float(alpha)\n",
    "    def focal_loss_fixed(y_true, y_pred):\n",
    "        \"\"\"Focal loss for multi-classification\n",
    "        FL(p_t)=-alpha(1-p_t)^{gamma}ln(p_t)\n",
    "        Notice: y_pred is probability after softmax\n",
    "        gradient is d(Fl)/d(p_t) not d(Fl)/d(x) as described in paper\n",
    "        d(Fl)/d(p_t) * [p_t(1-p_t)] = d(Fl)/d(x)\n",
    "        Focal Loss for Dense Object Detection\n",
    "        https://arxiv.org/abs/1708.02002\n",
    "\n",
    "        Arguments:\n",
    "            y_true {tensor} -- ground truth labels, shape of [batch_size, num_cls]\n",
    "            y_pred {tensor} -- model's output, shape of [batch_size, num_cls]\n",
    "\n",
    "        Keyword Arguments:\n",
    "            gamma {float} -- (default: {2.0})\n",
    "            alpha {float} -- (default: {4.0})\n",
    "\n",
    "        Returns:\n",
    "            [tensor] -- loss.\n",
    "        \"\"\"\n",
    "        epsilon = 1.e-9\n",
    "        y_true = tf.convert_to_tensor(y_true, tf.float32)\n",
    "        y_pred = tf.convert_to_tensor(y_pred, tf.float32)\n",
    "\n",
    "        model_out = tf.add(y_pred, epsilon)\n",
    "        ce = tf.multiply(y_true, -tf.log(model_out))\n",
    "        weight = tf.multiply(y_true, tf.pow(tf.subtract(1., model_out), gamma))\n",
    "        fl = tf.multiply(alpha, tf.multiply(weight, ce))\n",
    "        reduced_fl = tf.reduce_max(fl, axis=1)\n",
    "        return tf.reduce_mean(reduced_fl)\n",
    "    return focal_loss_fixed"
   ]
  },
  {
   "cell_type": "code",
   "execution_count": 75,
   "metadata": {},
   "outputs": [],
   "source": [
    "## tune the threshold for f1-score\n",
    "def find_thres(y_true, y_test_pred_prob):\n",
    "    thres = 0.1\n",
    "    thres_max = f1_max = 0\n",
    "    while True:\n",
    "        y_pred = list(y_test_pred_prob > thres)\n",
    "        f1 = f1_score(y_true, y_pred, average='binary', labels=[0, 1])\n",
    "        if f1 > f1_max:\n",
    "            f1_max = f1\n",
    "            thres_max = thres\n",
    "            \n",
    "        thres+=0.01\n",
    "        if thres >= 1:\n",
    "            break\n",
    "            \n",
    "    y_pred = list(y_test_pred_prob > thres_max) \n",
    "    if sum(y_pred) == 0:\n",
    "        print(\"Just 1 class\")\n",
    "    else:\n",
    "        count_test = Counter(y_pred)\n",
    "        print(count_test, count_test[1]*100/count_test[0])\n",
    "        log_loss_error = log_loss(list(y_true), list(y_test_pred_prob), eps = 1e-7)\n",
    "\n",
    "        # Evaluate the predictions\n",
    "        scores = confusion_matrix(y_true, y_pred).ravel()\n",
    "        tn, fp, fn, tp = scores\n",
    "        print('TN:{}    FP:{}    FN:{}    TP:{}'.format(tn, fp, fn, tp))\n",
    "        f1 = f1_score(y_true, y_pred, average='binary', labels=[0, 1])\n",
    "        print('f1-score = {}'.format(f1))\n",
    "\n",
    "        print(\"log loss error:\", log_loss_error)\n",
    "    \n",
    "    return (thres_max, f1_max)"
   ]
  },
  {
   "cell_type": "code",
   "execution_count": 136,
   "metadata": {},
   "outputs": [],
   "source": [
    "def create_model():\n",
    "    nn = Sequential()\n",
    "    nn.add(LSTM(80, batch_input_shape=(64,11,20), return_sequences=True, recurrent_dropout = 0.1))\n",
    "    nn.add(LSTM(60, recurrent_dropout = 0.2))\n",
    "    nn.add(Dropout(0.2))\n",
    "    nn.add(Dense(40, activation='relu'))\n",
    "    nn.add(Dropout(0.2))\n",
    "    nn.add(Dense(10, activation='relu'))\n",
    "    nn.add(Dense(1))\n",
    "    nn.compile(loss='binary_crossentropy', optimizer='adam',  metrics=[f1])"
   ]
  },
  {
   "cell_type": "code",
   "execution_count": 137,
   "metadata": {},
   "outputs": [],
   "source": [
    "## reformat input data to put in LSTM\n",
    "def create_data(df, time_steps = 60, seq_len = 25):\n",
    "    data = df.values\n",
    "    X = np.reshape(data, (len(df) // time_steps, time_steps, seq_len))\n",
    "    return X"
   ]
  },
  {
   "cell_type": "code",
   "execution_count": 11,
   "metadata": {},
   "outputs": [],
   "source": [
    "## read processed data \n",
    "fold1 = pd.read_pickle(\"../../data/processed/fold1_norm_new.pkl\")\n",
    "fold2 = pd.read_pickle(\"../../data/processed/fold2_norm_new.pkl\")\n",
    "fold3 = pd.read_pickle(\"../../data/processed/fold3_norm_new.pkl\")\n",
    "fold_submission = pd.read_pickle(\"../../data/processed/fold_submission_norm_new.pkl\")"
   ]
  },
  {
   "cell_type": "code",
   "execution_count": 12,
   "metadata": {},
   "outputs": [],
   "source": [
    "## names of 25 variables\n",
    "feature_cols = ['TOTUSJH', 'TOTBSQ', 'TOTPOT', 'TOTUSJZ', 'ABSNJZH', 'SAVNCPP', 'USFLUX', 'TOTFZ', 'MEANPOT', 'EPSZ', 'MEANSHR', 'SHRGT45', 'MEANGAM', 'MEANGBT', 'MEANGBZ', 'MEANGBH', 'MEANJZH', 'TOTFY', 'MEANJZD', 'MEANALP', 'TOTFX', 'EPSY', 'EPSX', 'R_VALUE', 'XR_MAX']"
   ]
  },
  {
   "cell_type": "code",
   "execution_count": 38,
   "metadata": {},
   "outputs": [],
   "source": [
    "## concat fold1 and fold2 as train set, fold 3 as valid set\n",
    "fold1[\"id_\"] =  fold1.ID.values\n",
    "fold2[\"id_\"] =  fold2.ID.values + max (fold1.ID.values)\n",
    "train_final = pd.concat([fold1, fold2]).reset_index(drop=True)\n",
    "valid_final = fold3"
   ]
  },
  {
   "cell_type": "code",
   "execution_count": 41,
   "metadata": {},
   "outputs": [],
   "source": [
    "## create input data for LSTM\n",
    "\n",
    "X_train_final, y_train_final =  create_data(train_final[feature_cols].fillna(0), time_steps = 60, seq_len = 25),  train_final.drop_duplicates(subset=[\"id_\", \"LABEL\"]).LABEL.values\n",
    "X_valid_final, y_valid_final =  create_data(valid_final[feature_cols].fillna(0), time_steps = 60, seq_len = 25),  valid_final.drop_duplicates(subset=[\"ID\", \"LABEL\"]).LABEL.values\n",
    "X_submission = create_data(fold_submission[feature_cols].fillna(0), time_steps = 60, seq_len = 25)"
   ]
  },
  {
   "cell_type": "code",
   "execution_count": 22,
   "metadata": {},
   "outputs": [
    {
     "data": {
      "text/plain": [
       "<matplotlib.axes._subplots.AxesSubplot at 0x7f7aa86ae668>"
      ]
     },
     "execution_count": 22,
     "metadata": {},
     "output_type": "execute_result"
    },
    {
     "data": {
      "image/png": "[encoded data removed]",
      "text/plain": [
       "<Figure size 432x288 with 1 Axes>"
      ]
     },
     "metadata": {
      "needs_background": "light"
     },
     "output_type": "display_data"
    }
   ],
   "source": [
    "## check some distributions, make sure the distributions are similar on train and valid sets\n",
    "sns.distplot(X_train_final[:,1,15])\n",
    "sns.distplot(X_valid_final[:,1,15])"
   ]
  },
  {
   "cell_type": "code",
   "execution_count": 23,
   "metadata": {},
   "outputs": [],
   "source": [
    "now = datetime.now()\n",
    "log_dir = \"../tf_logs/\" + now.strftime(\"%Y%m%d-%H%M%S\") + \"/\"\n",
    "timesteps = 60\n",
    "num_features = 25"
   ]
  },
  {
   "cell_type": "code",
   "execution_count": 78,
   "metadata": {},
   "outputs": [
    {
     "name": "stdout",
     "output_type": "stream",
     "text": [
      "_________________________________________________________________\n",
      "Layer (type)                 Output Shape              Param #   \n",
      "=================================================================\n",
      "lstm_9 (LSTM)                (None, 60, 64)            23040     \n",
      "_________________________________________________________________\n",
      "dropout_17 (Dropout)         (None, 60, 64)            0         \n",
      "_________________________________________________________________\n",
      "flatten_5 (Flatten)          (None, 3840)              0         \n",
      "_________________________________________________________________\n",
      "dense_13 (Dense)             (None, 8)                 30728     \n",
      "_________________________________________________________________\n",
      "dense_15 (Dense)             (None, 1)                 9         \n",
      "=================================================================\n",
      "Total params: 53,777\n",
      "Trainable params: 53,777\n",
      "Non-trainable params: 0\n",
      "_________________________________________________________________\n"
     ]
    }
   ],
   "source": [
    "model = create_model()\n",
    "model.summary()"
   ]
  },
  {
   "cell_type": "code",
   "execution_count": 79,
   "metadata": {},
   "outputs": [
    {
     "name": "stdout",
     "output_type": "stream",
     "text": [
      "...running\n",
      "Train on 169254 samples, validate on 27006 samples\n",
      "Epoch 1/200\n",
      "169254/169254 [==============================] - 149s 883us/step - loss: 0.4857 - f1: 0.2643 - val_loss: 0.2946 - val_f1: 0.6112\n",
      "Epoch 2/200\n",
      "169254/169254 [==============================] - 149s 880us/step - loss: 0.2880 - f1: 0.5045 - val_loss: 0.2777 - val_f1: 0.5970\n",
      "Epoch 3/200\n",
      "169254/169254 [==============================] - 150s 884us/step - loss: 0.2787 - f1: 0.5224 - val_loss: 0.2754 - val_f1: 0.6706\n",
      "Epoch 4/200\n",
      "169254/169254 [==============================] - 149s 881us/step - loss: 0.2719 - f1: 0.5322 - val_loss: 0.2842 - val_f1: 0.6735\n",
      "Epoch 5/200\n",
      "169254/169254 [==============================] - 149s 880us/step - loss: 0.2712 - f1: 0.5309 - val_loss: 0.2739 - val_f1: 0.6757\n",
      "Epoch 6/200\n",
      "169254/169254 [==============================] - 149s 879us/step - loss: 0.2686 - f1: 0.5440 - val_loss: 0.2687 - val_f1: 0.6878\n",
      "Epoch 7/200\n",
      "169254/169254 [==============================] - 149s 882us/step - loss: 0.2672 - f1: 0.5408 - val_loss: 0.2794 - val_f1: 0.7067\n",
      "Epoch 8/200\n",
      "169254/169254 [==============================] - 150s 883us/step - loss: 0.2662 - f1: 0.5495 - val_loss: 0.2755 - val_f1: 0.6962\n",
      "Epoch 9/200\n",
      "169254/169254 [==============================] - 148s 876us/step - loss: 0.2661 - f1: 0.5452 - val_loss: 0.2655 - val_f1: 0.6714\n",
      "Epoch 10/200\n",
      "169254/169254 [==============================] - 149s 879us/step - loss: 0.2654 - f1: 0.5480 - val_loss: 0.2789 - val_f1: 0.7049\n",
      "Epoch 11/200\n",
      "169254/169254 [==============================] - 150s 886us/step - loss: 0.2642 - f1: 0.5532 - val_loss: 0.3059 - val_f1: 0.6692\n",
      "Epoch 12/200\n",
      "169254/169254 [==============================] - 149s 882us/step - loss: 0.2627 - f1: 0.5540 - val_loss: 0.2575 - val_f1: 0.6694\n",
      "Epoch 13/200\n",
      "169254/169254 [==============================] - 149s 882us/step - loss: 0.2621 - f1: 0.5560 - val_loss: 0.2653 - val_f1: 0.6797\n",
      "Epoch 14/200\n",
      "169254/169254 [==============================] - 148s 877us/step - loss: 0.2611 - f1: 0.5628 - val_loss: 0.2668 - val_f1: 0.7022\n",
      "Epoch 15/200\n",
      "169254/169254 [==============================] - 150s 889us/step - loss: 0.2627 - f1: 0.5576 - val_loss: 0.2681 - val_f1: 0.6741\n",
      "Epoch 16/200\n",
      "169254/169254 [==============================] - 149s 883us/step - loss: 0.2696 - f1: 0.5503 - val_loss: 0.2876 - val_f1: 0.7103\n",
      "Epoch 17/200\n",
      "169254/169254 [==============================] - 149s 878us/step - loss: 0.2609 - f1: 0.5556 - val_loss: 0.2741 - val_f1: 0.6838\n",
      "Epoch 18/200\n",
      "169254/169254 [==============================] - 147s 871us/step - loss: 0.2645 - f1: 0.5543 - val_loss: 0.2872 - val_f1: 0.7078\n",
      "Epoch 19/200\n",
      "169254/169254 [==============================] - 150s 884us/step - loss: 0.2606 - f1: 0.5588 - val_loss: 0.2648 - val_f1: 0.6807\n",
      "Epoch 20/200\n",
      "169254/169254 [==============================] - 150s 888us/step - loss: 0.2618 - f1: 0.5548 - val_loss: 0.2819 - val_f1: 0.7101\n",
      "Epoch 21/200\n",
      "169254/169254 [==============================] - 149s 880us/step - loss: 0.2617 - f1: 0.5595 - val_loss: 0.2999 - val_f1: 0.7047\n",
      "Epoch 22/200\n",
      "169254/169254 [==============================] - 150s 887us/step - loss: 0.2610 - f1: 0.5614 - val_loss: 0.2833 - val_f1: 0.7069\n",
      "Epoch 23/200\n",
      "169254/169254 [==============================] - 144s 852us/step - loss: 0.2614 - f1: 0.5623 - val_loss: 0.2793 - val_f1: 0.7097\n",
      "Epoch 24/200\n",
      "169254/169254 [==============================] - 150s 884us/step - loss: 0.2607 - f1: 0.5611 - val_loss: 0.2583 - val_f1: 0.6558\n",
      "Epoch 25/200\n",
      "169254/169254 [==============================] - 149s 883us/step - loss: 0.2601 - f1: 0.5642 - val_loss: 0.2850 - val_f1: 0.7086\n",
      "Epoch 26/200\n",
      "169254/169254 [==============================] - 149s 883us/step - loss: 0.2603 - f1: 0.5582 - val_loss: 0.2646 - val_f1: 0.6684\n",
      "Epoch 27/200\n",
      "169254/169254 [==============================] - 151s 892us/step - loss: 0.2619 - f1: 0.5601 - val_loss: 0.2644 - val_f1: 0.6801\n",
      "Epoch 28/200\n",
      "169254/169254 [==============================] - 150s 885us/step - loss: 0.2590 - f1: 0.5604 - val_loss: 0.2580 - val_f1: 0.6552\n",
      "Epoch 29/200\n",
      "169254/169254 [==============================] - 149s 883us/step - loss: 0.2594 - f1: 0.5656 - val_loss: 0.2628 - val_f1: 0.6762\n",
      "Epoch 30/200\n",
      "169254/169254 [==============================] - 149s 878us/step - loss: 0.2598 - f1: 0.5606 - val_loss: 0.2823 - val_f1: 0.7122\n",
      "Epoch 31/200\n",
      "169254/169254 [==============================] - 150s 889us/step - loss: 0.2601 - f1: 0.5632 - val_loss: 0.2604 - val_f1: 0.6389\n",
      "Epoch 32/200\n",
      "169254/169254 [==============================] - 152s 899us/step - loss: 0.2601 - f1: 0.5592 - val_loss: 0.2623 - val_f1: 0.6775\n",
      "Epoch 33/200\n",
      "169254/169254 [==============================] - 148s 875us/step - loss: 0.4346 - f1: 0.2549 - val_loss: 0.3417 - val_f1: 0.4204\n",
      "Epoch 34/200\n",
      "169254/169254 [==============================] - 149s 878us/step - loss: 0.3126 - f1: 0.4941 - val_loss: 0.2866 - val_f1: 0.6517\n",
      "Epoch 35/200\n",
      "169254/169254 [==============================] - 150s 885us/step - loss: 0.2967 - f1: 0.5028 - val_loss: 0.2918 - val_f1: 0.6929\n",
      "Epoch 36/200\n",
      "169254/169254 [==============================] - 151s 891us/step - loss: 0.2878 - f1: 0.5194 - val_loss: 0.2771 - val_f1: 0.6852\n",
      "Epoch 37/200\n",
      "169254/169254 [==============================] - 149s 879us/step - loss: 0.2859 - f1: 0.5172 - val_loss: 0.3619 - val_f1: 0.6522\n",
      "Epoch 38/200\n",
      "169254/169254 [==============================] - 148s 876us/step - loss: 0.2852 - f1: 0.5270 - val_loss: 0.2868 - val_f1: 0.6615\n",
      "Epoch 39/200\n",
      "169254/169254 [==============================] - 149s 879us/step - loss: 0.2839 - f1: 0.5324 - val_loss: 0.2848 - val_f1: 0.6865\n",
      "Epoch 40/200\n",
      "169254/169254 [==============================] - 149s 878us/step - loss: 0.3056 - f1: 0.5283 - val_loss: 0.2849 - val_f1: 0.6261\n",
      "Epoch 41/200\n",
      "169254/169254 [==============================] - 157s 927us/step - loss: 0.2869 - f1: 0.5383 - val_loss: 0.2725 - val_f1: 0.6269\n",
      "Epoch 42/200\n",
      "169254/169254 [==============================] - 153s 904us/step - loss: 0.2810 - f1: 0.5441 - val_loss: 0.2989 - val_f1: 0.6971\n",
      "Epoch 43/200\n",
      "169254/169254 [==============================] - 165s 976us/step - loss: 0.2885 - f1: 0.5246 - val_loss: 0.2738 - val_f1: 0.6814\n",
      "Epoch 44/200\n",
      "169254/169254 [==============================] - 155s 918us/step - loss: 0.2805 - f1: 0.5367 - val_loss: 0.2948 - val_f1: 0.6644\n",
      "Epoch 45/200\n",
      "169254/169254 [==============================] - 148s 876us/step - loss: 0.2795 - f1: 0.5388 - val_loss: 0.2769 - val_f1: 0.6716\n",
      "Epoch 46/200\n",
      "169254/169254 [==============================] - 150s 885us/step - loss: 0.2707 - f1: 0.5491 - val_loss: 0.2683 - val_f1: 0.6612\n",
      "Epoch 47/200\n",
      "169254/169254 [==============================] - 154s 912us/step - loss: 0.2723 - f1: 0.5466 - val_loss: 0.2953 - val_f1: 0.7088\n",
      "Epoch 48/200\n",
      "169254/169254 [==============================] - 142s 837us/step - loss: 0.2661 - f1: 0.5491 - val_loss: 0.2593 - val_f1: 0.6404\n",
      "Epoch 49/200\n",
      "169254/169254 [==============================] - 154s 907us/step - loss: 0.2625 - f1: 0.5535 - val_loss: 0.2571 - val_f1: 0.6471\n",
      "Epoch 50/200\n",
      "169254/169254 [==============================] - 150s 885us/step - loss: 0.2606 - f1: 0.5569 - val_loss: 0.2659 - val_f1: 0.6521\n",
      "27006/27006 [==============================] - 35s 1ms/step\n",
      "[0.28233876196020735, 0.6992853116452372]\n",
      "running time =  7535.133529424667\n"
     ]
    }
   ],
   "source": [
    "## Training\n",
    "    \n",
    "random_seed = 912\n",
    "early_stop = 20\n",
    "num_epoch = 200\n",
    "class_weight=  {0 : 1 , 1: 1}\n",
    "\n",
    "\n",
    "t_start = time.time()\n",
    "print(\"...running\")\n",
    "\n",
    "tensorboard_callback = keras.callbacks.TensorBoard(log_dir=log_dir)\n",
    "early_stopping_callback = keras.callbacks.EarlyStopping(monitor='val_f1', min_delta=0,\n",
    "                                                patience=early_stop, verbose=0, mode='max', baseline=None)\n",
    "mcp_save = keras.callbacks.ModelCheckpoint('LSTM_', save_best_only=True, monitor='val_f1', mode='max')\n",
    "\n",
    "callback_list = [tensorboard_callback, early_stopping_callback, mcp_save]\n",
    "\n",
    "model.fit(x=X_train_final, y=y_train_final, batch_size=128, \n",
    "          epochs=num_epoch, verbose=1, validation_data=(X_valid_final, y_valid_final),\n",
    "          shuffle=True, callbacks=callback_list, class_weight=class_weight )\n",
    "\n",
    "model.load_weights(filepath = 'LSTM_')\n",
    "val_loss = model.evaluate(X_valid_final, y_valid_final)\n",
    "\n",
    "print(val_loss)\n",
    "t_end = time.time()\n",
    "print(\"running time = \", t_end-t_start)"
   ]
  },
  {
   "cell_type": "code",
   "execution_count": 80,
   "metadata": {},
   "outputs": [
    {
     "data": {
      "text/plain": [
       "0.2747421436463029"
      ]
     },
     "execution_count": 80,
     "metadata": {},
     "output_type": "execute_result"
    }
   ],
   "source": [
    "y_valid_final_pred_prob = model.predict(X_valid_final, )[:,0]\n",
    "log_loss(list(y_valid_final), list(y_valid_final_pred_prob), eps = 1e-7)"
   ]
  },
  {
   "cell_type": "code",
   "execution_count": 81,
   "metadata": {},
   "outputs": [
    {
     "data": {
      "text/plain": [
       "array([0.79274505, 0.05656287, 0.00235994, ..., 0.7111133 , 0.00224386,\n",
       "       0.02895459], dtype=float32)"
      ]
     },
     "execution_count": 81,
     "metadata": {},
     "output_type": "execute_result"
    }
   ],
   "source": [
    "y_valid_final_pred_prob"
   ]
  },
  {
   "cell_type": "code",
   "execution_count": 133,
   "metadata": {},
   "outputs": [
    {
     "name": "stdout",
     "output_type": "stream",
     "text": [
      "(27006, 2)\n"
     ]
    },
    {
     "data": {
      "text/html": [
       "<div>\n",
       "<style scoped>\n",
       "    .dataframe tbody tr th:only-of-type {\n",
       "        vertical-align: middle;\n",
       "    }\n",
       "\n",
       "    .dataframe tbody tr th {\n",
       "        vertical-align: top;\n",
       "    }\n",
       "\n",
       "    .dataframe thead th {\n",
       "        text-align: right;\n",
       "    }\n",
       "</style>\n",
       "<table border=\"1\" class=\"dataframe\">\n",
       "  <thead>\n",
       "    <tr style=\"text-align: right;\">\n",
       "      <th></th>\n",
       "      <th>pred_LSTM</th>\n",
       "      <th>label_LSTM</th>\n",
       "    </tr>\n",
       "  </thead>\n",
       "  <tbody>\n",
       "    <tr>\n",
       "      <th>0</th>\n",
       "      <td>0.792745</td>\n",
       "      <td>1</td>\n",
       "    </tr>\n",
       "    <tr>\n",
       "      <th>1</th>\n",
       "      <td>0.056563</td>\n",
       "      <td>0</td>\n",
       "    </tr>\n",
       "    <tr>\n",
       "      <th>2</th>\n",
       "      <td>0.002360</td>\n",
       "      <td>0</td>\n",
       "    </tr>\n",
       "    <tr>\n",
       "      <th>3</th>\n",
       "      <td>0.003632</td>\n",
       "      <td>0</td>\n",
       "    </tr>\n",
       "    <tr>\n",
       "      <th>4</th>\n",
       "      <td>0.061996</td>\n",
       "      <td>0</td>\n",
       "    </tr>\n",
       "  </tbody>\n",
       "</table>\n",
       "</div>"
      ],
      "text/plain": [
       "   pred_LSTM  label_LSTM\n",
       "0   0.792745           1\n",
       "1   0.056563           0\n",
       "2   0.002360           0\n",
       "3   0.003632           0\n",
       "4   0.061996           0"
      ]
     },
     "execution_count": 133,
     "metadata": {},
     "output_type": "execute_result"
    }
   ],
   "source": [
    "valid_df = pd.DataFrame(data={\"pred_LSTM\": (y_valid_final_pred_prob), \"label_LSTM\": y_valid_final})\n",
    "valid_df.label_LSTM = valid_df.label_LSTM.astype(int)\n",
    "valid_df.to_csv(\"../../data/intermediate/LSTM_62000.csv\", index=False)\n",
    "print(valid_df.shape)\n",
    "valid_df.head()"
   ]
  },
  {
   "cell_type": "code",
   "execution_count": 82,
   "metadata": {},
   "outputs": [],
   "source": [
    "y_submission_pred_prob = model.predict(X_submission)[:,0]"
   ]
  },
  {
   "cell_type": "code",
   "execution_count": 83,
   "metadata": {},
   "outputs": [
    {
     "data": {
      "text/plain": [
       "array([0.00503083, 0.03582081, 0.00231088, ..., 0.00217863, 0.00260129,\n",
       "       0.00379758], dtype=float32)"
      ]
     },
     "execution_count": 83,
     "metadata": {},
     "output_type": "execute_result"
    }
   ],
   "source": [
    "y_submission_pred_prob"
   ]
  },
  {
   "cell_type": "code",
   "execution_count": 135,
   "metadata": {},
   "outputs": [
    {
     "name": "stdout",
     "output_type": "stream",
     "text": [
      "(173512, 2)\n"
     ]
    },
    {
     "data": {
      "text/html": [
       "<div>\n",
       "<style scoped>\n",
       "    .dataframe tbody tr th:only-of-type {\n",
       "        vertical-align: middle;\n",
       "    }\n",
       "\n",
       "    .dataframe tbody tr th {\n",
       "        vertical-align: top;\n",
       "    }\n",
       "\n",
       "    .dataframe thead th {\n",
       "        text-align: right;\n",
       "    }\n",
       "</style>\n",
       "<table border=\"1\" class=\"dataframe\">\n",
       "  <thead>\n",
       "    <tr style=\"text-align: right;\">\n",
       "      <th></th>\n",
       "      <th>pred_LSTM</th>\n",
       "      <th>label_LSTM</th>\n",
       "    </tr>\n",
       "  </thead>\n",
       "  <tbody>\n",
       "    <tr>\n",
       "      <th>0</th>\n",
       "      <td>0.005031</td>\n",
       "      <td>NaN</td>\n",
       "    </tr>\n",
       "    <tr>\n",
       "      <th>1</th>\n",
       "      <td>0.035821</td>\n",
       "      <td>NaN</td>\n",
       "    </tr>\n",
       "    <tr>\n",
       "      <th>2</th>\n",
       "      <td>0.002311</td>\n",
       "      <td>NaN</td>\n",
       "    </tr>\n",
       "    <tr>\n",
       "      <th>3</th>\n",
       "      <td>0.123103</td>\n",
       "      <td>NaN</td>\n",
       "    </tr>\n",
       "    <tr>\n",
       "      <th>4</th>\n",
       "      <td>0.003109</td>\n",
       "      <td>NaN</td>\n",
       "    </tr>\n",
       "  </tbody>\n",
       "</table>\n",
       "</div>"
      ],
      "text/plain": [
       "   pred_LSTM  label_LSTM\n",
       "0   0.005031         NaN\n",
       "1   0.035821         NaN\n",
       "2   0.002311         NaN\n",
       "3   0.123103         NaN\n",
       "4   0.003109         NaN"
      ]
     },
     "execution_count": 135,
     "metadata": {},
     "output_type": "execute_result"
    }
   ],
   "source": [
    "submit_prob_df = pd.DataFrame(data={\"pred_LSTM\": (y_submission_pred_prob), \"label_LSTM\":  [np.nan]*len(y_submission_pred_prob)})\n",
    "submit_prob_df.to_csv(\"../../data/intermediate/LSTM_62000_sub_thres0.37.csv\", index=False)\n",
    "print(submit_prob_df.shape)\n",
    "submit_prob_df.head()"
   ]
  },
  {
   "cell_type": "code",
   "execution_count": 84,
   "metadata": {},
   "outputs": [
    {
     "data": {
      "text/plain": [
       "<matplotlib.axes._subplots.AxesSubplot at 0x7f78ff68f278>"
      ]
     },
     "execution_count": 84,
     "metadata": {},
     "output_type": "execute_result"
    },
    {
     "data": {
      "image/png": "[encoded data removed]",
      "text/plain": [
       "<Figure size 432x288 with 1 Axes>"
      ]
     },
     "metadata": {
      "needs_background": "light"
     },
     "output_type": "display_data"
    }
   ],
   "source": [
    "sns.distplot(y_valid_final_pred_prob)"
   ]
  },
  {
   "cell_type": "code",
   "execution_count": 85,
   "metadata": {},
   "outputs": [
    {
     "data": {
      "text/plain": [
       "<matplotlib.axes._subplots.AxesSubplot at 0x7f78ee3ef3c8>"
      ]
     },
     "execution_count": 85,
     "metadata": {},
     "output_type": "execute_result"
    },
    {
     "data": {
      "image/png": "[encoded data removed]",
      "text/plain": [
       "<Figure size 432x288 with 1 Axes>"
      ]
     },
     "metadata": {
      "needs_background": "light"
     },
     "output_type": "display_data"
    }
   ],
   "source": [
    "sns.distplot(y_submission_pred_prob)"
   ]
  },
  {
   "cell_type": "code",
   "execution_count": 86,
   "metadata": {},
   "outputs": [
    {
     "data": {
      "text/plain": [
       "Counter({1.0: 4770, 0.0: 22236})"
      ]
     },
     "execution_count": 86,
     "metadata": {},
     "output_type": "execute_result"
    }
   ],
   "source": [
    "Counter(y_valid_final)"
   ]
  },
  {
   "cell_type": "code",
   "execution_count": 87,
   "metadata": {},
   "outputs": [
    {
     "name": "stderr",
     "output_type": "stream",
     "text": [
      "/home/zdeploy/anaconda3/envs/tf/lib/python3.6/site-packages/sklearn/metrics/classification.py:1437: UndefinedMetricWarning: F-score is ill-defined and being set to 0.0 due to no predicted samples.\n",
      "  'precision', 'predicted', average, warn_for)\n"
     ]
    },
    {
     "name": "stdout",
     "output_type": "stream",
     "text": [
      "Counter({False: 21238, True: 5768}) 27.15886618325643\n",
      "TN:20240    FP:1996    FN:998    TP:3772\n",
      "f1-score = 0.7158853672423611\n",
      "log loss error: 0.2747421436463029\n"
     ]
    },
    {
     "data": {
      "text/plain": [
       "(0.4900000000000003, 0.7158853672423611)"
      ]
     },
     "execution_count": 87,
     "metadata": {},
     "output_type": "execute_result"
    }
   ],
   "source": [
    "find_thres(y_valid_final, y_valid_final_pred_prob)"
   ]
  },
  {
   "cell_type": "code",
   "execution_count": 88,
   "metadata": {},
   "outputs": [
    {
     "name": "stdout",
     "output_type": "stream",
     "text": [
      "Counter({False: 21353, True: 5653}) 26.474031751978643\n",
      "TN:20312    FP:1924    FN:1041    TP:3729\n",
      "f1-score = 0.7155329559627747\n",
      "log loss error: 0.2747421436463029\n"
     ]
    }
   ],
   "source": [
    "thes = 0.5\n",
    "y_true = y_valid_final\n",
    "y_test_pred_prob = y_valid_final_pred_prob\n",
    "\n",
    "\n",
    "y_pred = list(y_test_pred_prob > thes)\n",
    "if sum(y_pred) == 0:\n",
    "    print(\"Just 1 class\")\n",
    "else:\n",
    "    count_test = Counter(y_pred)\n",
    "    print(count_test, count_test[1]*100/count_test[0])\n",
    "    log_loss_error = log_loss(list(y_true), list(y_test_pred_prob), eps = 1e-7)\n",
    "\n",
    "    # Evaluate the predictions\n",
    "    scores = confusion_matrix(y_true, y_pred).ravel()\n",
    "    tn, fp, fn, tp = scores\n",
    "    print('TN:{}    FP:{}    FN:{}    TP:{}'.format(tn, fp, fn, tp))\n",
    "    f1 = f1_score(y_true, y_pred, average='binary', labels=[0, 1])\n",
    "    print('f1-score = {}'.format(f1))\n",
    "\n",
    "    print(\"log loss error:\", log_loss_error)"
   ]
  },
  {
   "cell_type": "code",
   "execution_count": 129,
   "metadata": {},
   "outputs": [
    {
     "name": "stdout",
     "output_type": "stream",
     "text": [
      "Counter({False: 144339, True: 29173}) 20.21144666375685\n",
      "93.49266909493292\n"
     ]
    }
   ],
   "source": [
    "thes = 0.37\n",
    "y_test_pred_prob = y_submission_pred_prob\n",
    "\n",
    "\n",
    "y_pred = list(y_test_pred_prob > thes)\n",
    "if sum(y_pred) == 0:\n",
    "    print(\"Just 1 class\")\n",
    "else:\n",
    "    count_test = Counter(y_pred)\n",
    "    print(count_test, count_test[1]*100/count_test[0])\n",
    "    \n",
    "    print(sum(_713.ClassLabel == y_pred) * 100/len(y_pred))"
   ]
  },
  {
   "cell_type": "code",
   "execution_count": 130,
   "metadata": {},
   "outputs": [
    {
     "name": "stdout",
     "output_type": "stream",
     "text": [
      "Counter({False: 144339, True: 29173})\n"
     ]
    },
    {
     "data": {
      "text/html": [
       "<div>\n",
       "<style scoped>\n",
       "    .dataframe tbody tr th:only-of-type {\n",
       "        vertical-align: middle;\n",
       "    }\n",
       "\n",
       "    .dataframe tbody tr th {\n",
       "        vertical-align: top;\n",
       "    }\n",
       "\n",
       "    .dataframe thead th {\n",
       "        text-align: right;\n",
       "    }\n",
       "</style>\n",
       "<table border=\"1\" class=\"dataframe\">\n",
       "  <thead>\n",
       "    <tr style=\"text-align: right;\">\n",
       "      <th></th>\n",
       "      <th>Id</th>\n",
       "      <th>ClassLabel</th>\n",
       "    </tr>\n",
       "  </thead>\n",
       "  <tbody>\n",
       "    <tr>\n",
       "      <th>173502</th>\n",
       "      <td>173503</td>\n",
       "      <td>1</td>\n",
       "    </tr>\n",
       "    <tr>\n",
       "      <th>173503</th>\n",
       "      <td>173504</td>\n",
       "      <td>0</td>\n",
       "    </tr>\n",
       "    <tr>\n",
       "      <th>173504</th>\n",
       "      <td>173505</td>\n",
       "      <td>0</td>\n",
       "    </tr>\n",
       "    <tr>\n",
       "      <th>173505</th>\n",
       "      <td>173506</td>\n",
       "      <td>0</td>\n",
       "    </tr>\n",
       "    <tr>\n",
       "      <th>173506</th>\n",
       "      <td>173507</td>\n",
       "      <td>0</td>\n",
       "    </tr>\n",
       "    <tr>\n",
       "      <th>173507</th>\n",
       "      <td>173508</td>\n",
       "      <td>1</td>\n",
       "    </tr>\n",
       "    <tr>\n",
       "      <th>173508</th>\n",
       "      <td>173509</td>\n",
       "      <td>1</td>\n",
       "    </tr>\n",
       "    <tr>\n",
       "      <th>173509</th>\n",
       "      <td>173510</td>\n",
       "      <td>0</td>\n",
       "    </tr>\n",
       "    <tr>\n",
       "      <th>173510</th>\n",
       "      <td>173511</td>\n",
       "      <td>0</td>\n",
       "    </tr>\n",
       "    <tr>\n",
       "      <th>173511</th>\n",
       "      <td>173512</td>\n",
       "      <td>0</td>\n",
       "    </tr>\n",
       "  </tbody>\n",
       "</table>\n",
       "</div>"
      ],
      "text/plain": [
       "            Id  ClassLabel\n",
       "173502  173503           1\n",
       "173503  173504           0\n",
       "173504  173505           0\n",
       "173505  173506           0\n",
       "173506  173507           0\n",
       "173507  173508           1\n",
       "173508  173509           1\n",
       "173509  173510           0\n",
       "173510  173511           0\n",
       "173511  173512           0"
      ]
     },
     "execution_count": 130,
     "metadata": {},
     "output_type": "execute_result"
    }
   ],
   "source": [
    "#### SUBMISSION\n",
    "submission_df = pd.DataFrame({\"Id\": range(1, len(y_pred)+1), \"ClassLabel\": list(y_pred)})\n",
    "print(Counter(submission_df.ClassLabel))\n",
    "submission_df.ClassLabel = submission_df.ClassLabel.astype(int)\n",
    "submission_df.to_csv(\"../../data/output/LSTM_norm_{}_{}.csv\".format(str(f1), thes), index=False)\n",
    "submission_df.tail(10)\n"
   ]
  },
  {
   "cell_type": "code",
   "execution_count": 94,
   "metadata": {},
   "outputs": [
    {
     "data": {
      "text/plain": [
       "Counter({0: 144762, 1: 28750})"
      ]
     },
     "execution_count": 94,
     "metadata": {},
     "output_type": "execute_result"
    }
   ],
   "source": [
    "Counter(submission_df.ClassLabel)"
   ]
  },
  {
   "cell_type": "code",
   "execution_count": null,
   "metadata": {},
   "outputs": [],
   "source": []
  },
  {
   "cell_type": "code",
   "execution_count": null,
   "metadata": {},
   "outputs": [],
   "source": []
  },
  {
   "cell_type": "code",
   "execution_count": null,
   "metadata": {},
   "outputs": [],
   "source": []
  },
  {
   "cell_type": "code",
   "execution_count": null,
   "metadata": {},
   "outputs": [],
   "source": []
  },
  {
   "cell_type": "code",
   "execution_count": null,
   "metadata": {},
   "outputs": [],
   "source": []
  },
  {
   "cell_type": "code",
   "execution_count": null,
   "metadata": {},
   "outputs": [],
   "source": []
  },
  {
   "cell_type": "code",
   "execution_count": null,
   "metadata": {},
   "outputs": [],
   "source": []
  },
  {
   "cell_type": "code",
   "execution_count": null,
   "metadata": {},
   "outputs": [],
   "source": []
  },
  {
   "cell_type": "code",
   "execution_count": null,
   "metadata": {},
   "outputs": [],
   "source": []
  },
  {
   "cell_type": "code",
   "execution_count": null,
   "metadata": {},
   "outputs": [],
   "source": []
  }
 ],
 "metadata": {
  "hide_input": false,
  "kernelspec": {
   "display_name": "Python [conda env:tf]",
   "language": "python",
   "name": "conda-env-tf-py"
  },
  "language_info": {
   "codemirror_mode": {
    "name": "ipython",
    "version": 3
   },
   "file_extension": ".py",
   "mimetype": "text/x-python",
   "name": "python",
   "nbconvert_exporter": "python",
   "pygments_lexer": "ipython3",
   "version": "3.6.7"
  },
  "toc": {
   "base_numbering": 1,
   "nav_menu": {},
   "number_sections": true,
   "sideBar": true,
   "skip_h1_title": false,
   "title_cell": "Table of Contents",
   "title_sidebar": "Contents",
   "toc_cell": true,
   "toc_position": {},
   "toc_section_display": true,
   "toc_window_display": false
  }
 },
 "nbformat": 4,
 "nbformat_minor": 2
}
