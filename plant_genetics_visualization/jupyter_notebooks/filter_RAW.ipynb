{
 "cells": [
  {
   "cell_type": "code",
   "execution_count": 25,
   "metadata": {},
   "outputs": [],
   "source": [
    "import pandas as pd\n",
    "import numpy as np\n",
    "path  = \"/Users/chaupham/minhchau/C/plant_genetics_visualization/\""
   ]
  },
  {
   "cell_type": "code",
   "execution_count": 3,
   "metadata": {},
   "outputs": [
    {
     "data": {
      "text/html": [
       "<div>\n",
       "<style scoped>\n",
       "    .dataframe tbody tr th:only-of-type {\n",
       "        vertical-align: middle;\n",
       "    }\n",
       "\n",
       "    .dataframe tbody tr th {\n",
       "        vertical-align: top;\n",
       "    }\n",
       "\n",
       "    .dataframe thead th {\n",
       "        text-align: right;\n",
       "    }\n",
       "</style>\n",
       "<table border=\"1\" class=\"dataframe\">\n",
       "  <thead>\n",
       "    <tr style=\"text-align: right;\">\n",
       "      <th></th>\n",
       "      <th>atID</th>\n",
       "      <th>wthp6</th>\n",
       "      <th>wtlp6</th>\n",
       "      <th>wthp5</th>\n",
       "      <th>wtlp5</th>\n",
       "      <th>wtal</th>\n",
       "      <th>wtfe</th>\n",
       "      <th>s1hp6</th>\n",
       "      <th>s1lp6</th>\n",
       "      <th>s1hp5</th>\n",
       "      <th>s1lp5</th>\n",
       "      <th>s1al</th>\n",
       "      <th>s1fe</th>\n",
       "    </tr>\n",
       "  </thead>\n",
       "  <tbody>\n",
       "    <tr>\n",
       "      <th>0</th>\n",
       "      <td>AT1G04517</td>\n",
       "      <td>0.0</td>\n",
       "      <td>0.000000</td>\n",
       "      <td>0.00000</td>\n",
       "      <td>0.023506</td>\n",
       "      <td>1.182597</td>\n",
       "      <td>0.980215</td>\n",
       "      <td>0.000000</td>\n",
       "      <td>0.000000</td>\n",
       "      <td>0.052534</td>\n",
       "      <td>0.142763</td>\n",
       "      <td>2.846669</td>\n",
       "      <td>1.991801</td>\n",
       "    </tr>\n",
       "    <tr>\n",
       "      <th>1</th>\n",
       "      <td>AT1G08763</td>\n",
       "      <td>0.0</td>\n",
       "      <td>0.016300</td>\n",
       "      <td>0.00000</td>\n",
       "      <td>0.000000</td>\n",
       "      <td>0.167247</td>\n",
       "      <td>0.723834</td>\n",
       "      <td>0.000000</td>\n",
       "      <td>0.018525</td>\n",
       "      <td>0.000000</td>\n",
       "      <td>0.047022</td>\n",
       "      <td>1.683942</td>\n",
       "      <td>0.588238</td>\n",
       "    </tr>\n",
       "    <tr>\n",
       "      <th>2</th>\n",
       "      <td>AT1G13490</td>\n",
       "      <td>0.0</td>\n",
       "      <td>0.060885</td>\n",
       "      <td>0.08061</td>\n",
       "      <td>0.119745</td>\n",
       "      <td>1.216787</td>\n",
       "      <td>0.422145</td>\n",
       "      <td>0.053176</td>\n",
       "      <td>0.000000</td>\n",
       "      <td>0.000000</td>\n",
       "      <td>0.000000</td>\n",
       "      <td>1.476088</td>\n",
       "      <td>0.049795</td>\n",
       "    </tr>\n",
       "    <tr>\n",
       "      <th>3</th>\n",
       "      <td>AT1G20860</td>\n",
       "      <td>0.0</td>\n",
       "      <td>0.458795</td>\n",
       "      <td>0.00000</td>\n",
       "      <td>0.000000</td>\n",
       "      <td>0.140298</td>\n",
       "      <td>0.046848</td>\n",
       "      <td>0.000000</td>\n",
       "      <td>1.287837</td>\n",
       "      <td>0.000000</td>\n",
       "      <td>0.166699</td>\n",
       "      <td>0.068845</td>\n",
       "      <td>0.000000</td>\n",
       "    </tr>\n",
       "    <tr>\n",
       "      <th>4</th>\n",
       "      <td>AT1G21850</td>\n",
       "      <td>0.0</td>\n",
       "      <td>0.000000</td>\n",
       "      <td>0.00000</td>\n",
       "      <td>0.024245</td>\n",
       "      <td>0.487422</td>\n",
       "      <td>0.278521</td>\n",
       "      <td>0.000000</td>\n",
       "      <td>0.000000</td>\n",
       "      <td>0.000000</td>\n",
       "      <td>0.069259</td>\n",
       "      <td>1.539135</td>\n",
       "      <td>0.171164</td>\n",
       "    </tr>\n",
       "  </tbody>\n",
       "</table>\n",
       "</div>"
      ],
      "text/plain": [
       "        atID  wthp6     wtlp6    wthp5     wtlp5      wtal      wtfe  \\\n",
       "0  AT1G04517    0.0  0.000000  0.00000  0.023506  1.182597  0.980215   \n",
       "1  AT1G08763    0.0  0.016300  0.00000  0.000000  0.167247  0.723834   \n",
       "2  AT1G13490    0.0  0.060885  0.08061  0.119745  1.216787  0.422145   \n",
       "3  AT1G20860    0.0  0.458795  0.00000  0.000000  0.140298  0.046848   \n",
       "4  AT1G21850    0.0  0.000000  0.00000  0.024245  0.487422  0.278521   \n",
       "\n",
       "      s1hp6     s1lp6     s1hp5     s1lp5      s1al      s1fe  \n",
       "0  0.000000  0.000000  0.052534  0.142763  2.846669  1.991801  \n",
       "1  0.000000  0.018525  0.000000  0.047022  1.683942  0.588238  \n",
       "2  0.053176  0.000000  0.000000  0.000000  1.476088  0.049795  \n",
       "3  0.000000  1.287837  0.000000  0.166699  0.068845  0.000000  \n",
       "4  0.000000  0.000000  0.000000  0.069259  1.539135  0.171164  "
      ]
     },
     "execution_count": 3,
     "metadata": {},
     "output_type": "execute_result"
    }
   ],
   "source": [
    "df = pd.read_csv(path + \"data/data_ALL_raw_sorted_by_wthp6Norm.csv\")\n",
    "df.head()"
   ]
  },
  {
   "cell_type": "code",
   "execution_count": 4,
   "metadata": {},
   "outputs": [
    {
     "data": {
      "text/plain": [
       "(20450, 13)"
      ]
     },
     "execution_count": 4,
     "metadata": {},
     "output_type": "execute_result"
    }
   ],
   "source": [
    "df.shape"
   ]
  },
  {
   "cell_type": "code",
   "execution_count": 27,
   "metadata": {},
   "outputs": [],
   "source": [
    "def filter_x(x, base, conditions):\n",
    "    for c in conditions:\n",
    "        \n",
    "        tmp = np.log2(x[c]/(x[base]+0.000001) )\n",
    "        if not (-0.5 < tmp < 0.5):\n",
    "            return 0\n",
    "        \n",
    "    return 1\n",
    "\n",
    "\n",
    "def filter_pairwise(x,conditions):\n",
    "    for c in conditions:\n",
    "        base = c.replace(\"s1\", \"wt\")\n",
    "        \n",
    "        tmp = np.log2(x[c]/(x[base]+0.000001) )\n",
    "        if not (-0.5 < tmp < 0.5):\n",
    "            return 0\n",
    "        \n",
    "    return 1\n",
    "            \n",
    "        \n",
    "            \n",
    "        "
   ]
  },
  {
   "cell_type": "code",
   "execution_count": null,
   "metadata": {},
   "outputs": [],
   "source": []
  },
  {
   "cell_type": "code",
   "execution_count": 28,
   "metadata": {},
   "outputs": [
    {
     "data": {
      "text/plain": [
       "Index(['atID', 'wthp6', 'wtlp6', 'wthp5', 'wtlp5', 'wtal', 'wtfe', 's1hp6',\n",
       "       's1lp6', 's1hp5', 's1lp5', 's1al', 's1fe', 'wt_filter', 's1_filter',\n",
       "       'pairwise_filter', 'wt_filter_strict'],\n",
       "      dtype='object')"
      ]
     },
     "execution_count": 28,
     "metadata": {},
     "output_type": "execute_result"
    }
   ],
   "source": [
    "df.columns"
   ]
  },
  {
   "cell_type": "code",
   "execution_count": 29,
   "metadata": {},
   "outputs": [
    {
     "name": "stderr",
     "output_type": "stream",
     "text": [
      "/Users/chaupham/opt/anaconda3/lib/python3.7/site-packages/ipykernel_launcher.py:4: RuntimeWarning: divide by zero encountered in log2\n",
      "  after removing the cwd from sys.path.\n",
      "/Users/chaupham/opt/anaconda3/lib/python3.7/site-packages/ipykernel_launcher.py:15: RuntimeWarning: divide by zero encountered in log2\n",
      "  from ipykernel import kernelapp as app\n"
     ]
    }
   ],
   "source": [
    "df[\"wt_filter\"] = df.apply(lambda x: filter_x(x, \"wthp6\", ['wtlp6', 'wthp5', 'wtlp5', 'wtal', 'wtfe']),1)\n",
    "df[\"s1_filter\"] = df.apply(lambda x: filter_x(x, \"s1hp6\", ['s1lp6', 's1hp5', 's1lp5', 's1al', 's1fe']),1)\n",
    "df[\"pairwise_filter\"] = df.apply(lambda x: filter_pairwise(x, [\"s1hp6\", 's1lp6', 's1hp5', 's1lp5', 's1al', 's1fe']),1)"
   ]
  },
  {
   "cell_type": "code",
   "execution_count": 30,
   "metadata": {},
   "outputs": [
    {
     "data": {
      "text/html": [
       "<div>\n",
       "<style scoped>\n",
       "    .dataframe tbody tr th:only-of-type {\n",
       "        vertical-align: middle;\n",
       "    }\n",
       "\n",
       "    .dataframe tbody tr th {\n",
       "        vertical-align: top;\n",
       "    }\n",
       "\n",
       "    .dataframe thead th {\n",
       "        text-align: right;\n",
       "    }\n",
       "</style>\n",
       "<table border=\"1\" class=\"dataframe\">\n",
       "  <thead>\n",
       "    <tr style=\"text-align: right;\">\n",
       "      <th></th>\n",
       "      <th>atID</th>\n",
       "      <th>wthp6</th>\n",
       "      <th>wtlp6</th>\n",
       "      <th>wthp5</th>\n",
       "      <th>wtlp5</th>\n",
       "      <th>wtal</th>\n",
       "      <th>wtfe</th>\n",
       "      <th>s1hp6</th>\n",
       "      <th>s1lp6</th>\n",
       "      <th>s1hp5</th>\n",
       "      <th>s1lp5</th>\n",
       "      <th>s1al</th>\n",
       "      <th>s1fe</th>\n",
       "      <th>wt_filter</th>\n",
       "      <th>s1_filter</th>\n",
       "      <th>pairwise_filter</th>\n",
       "      <th>wt_filter_strict</th>\n",
       "    </tr>\n",
       "  </thead>\n",
       "  <tbody>\n",
       "    <tr>\n",
       "      <th>20445</th>\n",
       "      <td>AT5G66380</td>\n",
       "      <td>17.215333</td>\n",
       "      <td>16.948428</td>\n",
       "      <td>15.229273</td>\n",
       "      <td>15.377075</td>\n",
       "      <td>14.883232</td>\n",
       "      <td>14.975824</td>\n",
       "      <td>17.073353</td>\n",
       "      <td>16.797449</td>\n",
       "      <td>14.649370</td>\n",
       "      <td>16.661307</td>\n",
       "      <td>15.082189</td>\n",
       "      <td>12.712945</td>\n",
       "      <td>1</td>\n",
       "      <td>1</td>\n",
       "      <td>1</td>\n",
       "      <td>1</td>\n",
       "    </tr>\n",
       "    <tr>\n",
       "      <th>20446</th>\n",
       "      <td>AT5G66640</td>\n",
       "      <td>1.323729</td>\n",
       "      <td>0.808768</td>\n",
       "      <td>0.736402</td>\n",
       "      <td>0.666287</td>\n",
       "      <td>1.237420</td>\n",
       "      <td>0.891139</td>\n",
       "      <td>0.815704</td>\n",
       "      <td>1.004593</td>\n",
       "      <td>0.548712</td>\n",
       "      <td>0.726715</td>\n",
       "      <td>0.963309</td>\n",
       "      <td>0.765640</td>\n",
       "      <td>0</td>\n",
       "      <td>0</td>\n",
       "      <td>0</td>\n",
       "      <td>0</td>\n",
       "    </tr>\n",
       "    <tr>\n",
       "      <th>20447</th>\n",
       "      <td>AT5G66720</td>\n",
       "      <td>64.304656</td>\n",
       "      <td>60.699085</td>\n",
       "      <td>59.242187</td>\n",
       "      <td>57.253666</td>\n",
       "      <td>52.716849</td>\n",
       "      <td>49.335047</td>\n",
       "      <td>59.183538</td>\n",
       "      <td>62.706344</td>\n",
       "      <td>59.043029</td>\n",
       "      <td>52.729012</td>\n",
       "      <td>52.563715</td>\n",
       "      <td>47.810998</td>\n",
       "      <td>1</td>\n",
       "      <td>1</td>\n",
       "      <td>1</td>\n",
       "      <td>1</td>\n",
       "    </tr>\n",
       "    <tr>\n",
       "      <th>20448</th>\n",
       "      <td>AT5G67350</td>\n",
       "      <td>11.995804</td>\n",
       "      <td>8.212243</td>\n",
       "      <td>10.418049</td>\n",
       "      <td>8.271745</td>\n",
       "      <td>7.787054</td>\n",
       "      <td>5.513110</td>\n",
       "      <td>11.347253</td>\n",
       "      <td>9.260492</td>\n",
       "      <td>9.816155</td>\n",
       "      <td>9.556615</td>\n",
       "      <td>8.541326</td>\n",
       "      <td>6.161888</td>\n",
       "      <td>0</td>\n",
       "      <td>0</td>\n",
       "      <td>1</td>\n",
       "      <td>1</td>\n",
       "    </tr>\n",
       "    <tr>\n",
       "      <th>20449</th>\n",
       "      <td>ATMG01200</td>\n",
       "      <td>0.839802</td>\n",
       "      <td>0.763675</td>\n",
       "      <td>0.222463</td>\n",
       "      <td>0.145468</td>\n",
       "      <td>0.212216</td>\n",
       "      <td>0.373244</td>\n",
       "      <td>0.291520</td>\n",
       "      <td>0.279075</td>\n",
       "      <td>0.217147</td>\n",
       "      <td>0.187238</td>\n",
       "      <td>0.417028</td>\n",
       "      <td>0.121369</td>\n",
       "      <td>0</td>\n",
       "      <td>0</td>\n",
       "      <td>0</td>\n",
       "      <td>0</td>\n",
       "    </tr>\n",
       "  </tbody>\n",
       "</table>\n",
       "</div>"
      ],
      "text/plain": [
       "            atID      wthp6      wtlp6      wthp5      wtlp5       wtal  \\\n",
       "20445  AT5G66380  17.215333  16.948428  15.229273  15.377075  14.883232   \n",
       "20446  AT5G66640   1.323729   0.808768   0.736402   0.666287   1.237420   \n",
       "20447  AT5G66720  64.304656  60.699085  59.242187  57.253666  52.716849   \n",
       "20448  AT5G67350  11.995804   8.212243  10.418049   8.271745   7.787054   \n",
       "20449  ATMG01200   0.839802   0.763675   0.222463   0.145468   0.212216   \n",
       "\n",
       "            wtfe      s1hp6      s1lp6      s1hp5      s1lp5       s1al  \\\n",
       "20445  14.975824  17.073353  16.797449  14.649370  16.661307  15.082189   \n",
       "20446   0.891139   0.815704   1.004593   0.548712   0.726715   0.963309   \n",
       "20447  49.335047  59.183538  62.706344  59.043029  52.729012  52.563715   \n",
       "20448   5.513110  11.347253   9.260492   9.816155   9.556615   8.541326   \n",
       "20449   0.373244   0.291520   0.279075   0.217147   0.187238   0.417028   \n",
       "\n",
       "            s1fe  wt_filter  s1_filter  pairwise_filter  wt_filter_strict  \n",
       "20445  12.712945          1          1                1                 1  \n",
       "20446   0.765640          0          0                0                 0  \n",
       "20447  47.810998          1          1                1                 1  \n",
       "20448   6.161888          0          0                1                 1  \n",
       "20449   0.121369          0          0                0                 0  "
      ]
     },
     "execution_count": 30,
     "metadata": {},
     "output_type": "execute_result"
    }
   ],
   "source": [
    "df.tail()"
   ]
  },
  {
   "cell_type": "code",
   "execution_count": 31,
   "metadata": {},
   "outputs": [
    {
     "data": {
      "text/plain": [
       "1    11721\n",
       "0     8729\n",
       "Name: wt_filter, dtype: int64"
      ]
     },
     "execution_count": 31,
     "metadata": {},
     "output_type": "execute_result"
    }
   ],
   "source": [
    "df[\"wt_filter\"].value_counts()"
   ]
  },
  {
   "cell_type": "code",
   "execution_count": 32,
   "metadata": {},
   "outputs": [
    {
     "data": {
      "text/plain": [
       "0    10498\n",
       "1     9952\n",
       "Name: s1_filter, dtype: int64"
      ]
     },
     "execution_count": 32,
     "metadata": {},
     "output_type": "execute_result"
    }
   ],
   "source": [
    "df[\"s1_filter\"].value_counts()"
   ]
  },
  {
   "cell_type": "code",
   "execution_count": 33,
   "metadata": {},
   "outputs": [
    {
     "data": {
      "text/plain": [
       "1    11482\n",
       "0     8968\n",
       "Name: pairwise_filter, dtype: int64"
      ]
     },
     "execution_count": 33,
     "metadata": {},
     "output_type": "execute_result"
    }
   ],
   "source": [
    "df[\"pairwise_filter\"].value_counts()"
   ]
  },
  {
   "cell_type": "code",
   "execution_count": 34,
   "metadata": {},
   "outputs": [],
   "source": [
    "# def filter_x_strict_(x, _class, conditions):\n",
    "#     tmp = np.sum(x[conditions] > 2) ## every col > 2 (in count per million) => Non-NonExp\n",
    "#     if tmp == 5 and x[_class+\"_filter\"]: \n",
    "#         return 1\n",
    "#     else:\n",
    "#         return 0\n"
   ]
  },
  {
   "cell_type": "code",
   "execution_count": 35,
   "metadata": {},
   "outputs": [],
   "source": [
    "def filter_x_strict(row, conditions):\n",
    "    tmp = np.sum(row[conditions] >= 1) ## every col >= 1 (cpm);   tmp = sum ([true, true, false,...])\n",
    "    if tmp >= 2:\n",
    "        return 1\n",
    "    else:\n",
    "        return 0\n"
   ]
  },
  {
   "cell_type": "code",
   "execution_count": 36,
   "metadata": {},
   "outputs": [],
   "source": [
    "df[\"wt_filter_strict\"] = df.apply(lambda x: filter_x_strict(x, \\\n",
    "                                                            ['wtlp6', 'wthp5', 'wtlp5', 'wtal', 'wtfe']),1)\n"
   ]
  },
  {
   "cell_type": "code",
   "execution_count": 37,
   "metadata": {},
   "outputs": [
    {
     "data": {
      "text/plain": [
       "1    19520\n",
       "0      930\n",
       "Name: wt_filter_strict, dtype: int64"
      ]
     },
     "execution_count": 37,
     "metadata": {},
     "output_type": "execute_result"
    }
   ],
   "source": [
    "df[\"wt_filter_strict\"].value_counts()"
   ]
  },
  {
   "cell_type": "code",
   "execution_count": 38,
   "metadata": {},
   "outputs": [],
   "source": [
    "df[[\"atID\", \"wt_filter\", \"s1_filter\", \"pairwise_filter\", \"wt_filter_strict\"]]\\\n",
    "    .to_csv(path +\"data/filter_nonexpressed.csv\", index=False)\n"
   ]
  },
  {
   "cell_type": "code",
   "execution_count": null,
   "metadata": {},
   "outputs": [],
   "source": []
  },
  {
   "cell_type": "code",
   "execution_count": null,
   "metadata": {},
   "outputs": [],
   "source": []
  },
  {
   "cell_type": "code",
   "execution_count": null,
   "metadata": {},
   "outputs": [],
   "source": []
  }
 ],
 "metadata": {
  "kernelspec": {
   "display_name": "Python 3",
   "language": "python",
   "name": "python3"
  },
  "language_info": {
   "codemirror_mode": {
    "name": "ipython",
    "version": 3
   },
   "file_extension": ".py",
   "mimetype": "text/x-python",
   "name": "python",
   "nbconvert_exporter": "python",
   "pygments_lexer": "ipython3",
   "version": "3.7.6"
  },
  "toc": {
   "base_numbering": 1,
   "nav_menu": {},
   "number_sections": true,
   "sideBar": true,
   "skip_h1_title": false,
   "title_cell": "Table of Contents",
   "title_sidebar": "Contents",
   "toc_cell": false,
   "toc_position": {},
   "toc_section_display": true,
   "toc_window_display": false
  }
 },
 "nbformat": 4,
 "nbformat_minor": 2
}
