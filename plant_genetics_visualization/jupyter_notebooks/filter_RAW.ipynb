{
 "cells": [
  {
   "cell_type": "code",
   "execution_count": 143,
   "metadata": {},
   "outputs": [],
   "source": [
    "import pandas as pd\n",
    "import numpy as np\n",
    "path  = \"/Users/chaupham/minhchau/C/plant_genetics_visualization/\""
   ]
  },
  {
   "cell_type": "code",
   "execution_count": 144,
   "metadata": {},
   "outputs": [],
   "source": [
    "def filter_x(x, base, conditions, thres):\n",
    "    for c in conditions:\n",
    "        \n",
    "        tmp = np.log2(x[c]/(x[base]+0.000001) )\n",
    "        if not (thres*(-1) < tmp < thres):\n",
    "            return 0\n",
    "    return 1\n",
    "\n",
    "\n",
    "# def filter_pairwise(x,conditions):\n",
    "#     for c in conditions:\n",
    "#         base = c.replace(\"s1\", \"wt\")\n",
    "        \n",
    "#         tmp = np.log2(x[c]/(x[base]+0.000001) )\n",
    "#         if not (-0.5 < tmp < 0.5):\n",
    "#             return 0\n",
    "        \n",
    "#     return 1\n",
    "            \n",
    "        \n",
    "def filter_low_cpm(row, conditions):\n",
    "    tmp = np.sum(row[conditions] >= 1) ## every col >= 1 (cpm);   tmp = sum ([true, true, false,...])\n",
    "    if tmp >= 2:\n",
    "        return 1\n",
    "    else:\n",
    "        return 0"
   ]
  },
  {
   "cell_type": "code",
   "execution_count": 145,
   "metadata": {},
   "outputs": [
    {
     "data": {
      "text/html": [
       "<div>\n",
       "<style scoped>\n",
       "    .dataframe tbody tr th:only-of-type {\n",
       "        vertical-align: middle;\n",
       "    }\n",
       "\n",
       "    .dataframe tbody tr th {\n",
       "        vertical-align: top;\n",
       "    }\n",
       "\n",
       "    .dataframe thead th {\n",
       "        text-align: right;\n",
       "    }\n",
       "</style>\n",
       "<table border=\"1\" class=\"dataframe\">\n",
       "  <thead>\n",
       "    <tr style=\"text-align: right;\">\n",
       "      <th></th>\n",
       "      <th>atID</th>\n",
       "      <th>wthp6</th>\n",
       "      <th>wtlp6</th>\n",
       "      <th>wthp5</th>\n",
       "      <th>wtlp5</th>\n",
       "      <th>wtal</th>\n",
       "      <th>wtfe</th>\n",
       "      <th>s1hp6</th>\n",
       "      <th>s1lp6</th>\n",
       "      <th>s1hp5</th>\n",
       "      <th>s1lp5</th>\n",
       "      <th>s1al</th>\n",
       "      <th>s1fe</th>\n",
       "    </tr>\n",
       "  </thead>\n",
       "  <tbody>\n",
       "    <tr>\n",
       "      <th>0</th>\n",
       "      <td>AT1G04517</td>\n",
       "      <td>0.0</td>\n",
       "      <td>0.000000</td>\n",
       "      <td>0.00000</td>\n",
       "      <td>0.023506</td>\n",
       "      <td>1.182597</td>\n",
       "      <td>0.980215</td>\n",
       "      <td>0.000000</td>\n",
       "      <td>0.000000</td>\n",
       "      <td>0.052534</td>\n",
       "      <td>0.142763</td>\n",
       "      <td>2.846669</td>\n",
       "      <td>1.991801</td>\n",
       "    </tr>\n",
       "    <tr>\n",
       "      <th>1</th>\n",
       "      <td>AT1G08763</td>\n",
       "      <td>0.0</td>\n",
       "      <td>0.016300</td>\n",
       "      <td>0.00000</td>\n",
       "      <td>0.000000</td>\n",
       "      <td>0.167247</td>\n",
       "      <td>0.723834</td>\n",
       "      <td>0.000000</td>\n",
       "      <td>0.018525</td>\n",
       "      <td>0.000000</td>\n",
       "      <td>0.047022</td>\n",
       "      <td>1.683942</td>\n",
       "      <td>0.588238</td>\n",
       "    </tr>\n",
       "    <tr>\n",
       "      <th>2</th>\n",
       "      <td>AT1G13490</td>\n",
       "      <td>0.0</td>\n",
       "      <td>0.060885</td>\n",
       "      <td>0.08061</td>\n",
       "      <td>0.119745</td>\n",
       "      <td>1.216787</td>\n",
       "      <td>0.422145</td>\n",
       "      <td>0.053176</td>\n",
       "      <td>0.000000</td>\n",
       "      <td>0.000000</td>\n",
       "      <td>0.000000</td>\n",
       "      <td>1.476088</td>\n",
       "      <td>0.049795</td>\n",
       "    </tr>\n",
       "    <tr>\n",
       "      <th>3</th>\n",
       "      <td>AT1G20860</td>\n",
       "      <td>0.0</td>\n",
       "      <td>0.458795</td>\n",
       "      <td>0.00000</td>\n",
       "      <td>0.000000</td>\n",
       "      <td>0.140298</td>\n",
       "      <td>0.046848</td>\n",
       "      <td>0.000000</td>\n",
       "      <td>1.287837</td>\n",
       "      <td>0.000000</td>\n",
       "      <td>0.166699</td>\n",
       "      <td>0.068845</td>\n",
       "      <td>0.000000</td>\n",
       "    </tr>\n",
       "    <tr>\n",
       "      <th>4</th>\n",
       "      <td>AT1G21850</td>\n",
       "      <td>0.0</td>\n",
       "      <td>0.000000</td>\n",
       "      <td>0.00000</td>\n",
       "      <td>0.024245</td>\n",
       "      <td>0.487422</td>\n",
       "      <td>0.278521</td>\n",
       "      <td>0.000000</td>\n",
       "      <td>0.000000</td>\n",
       "      <td>0.000000</td>\n",
       "      <td>0.069259</td>\n",
       "      <td>1.539135</td>\n",
       "      <td>0.171164</td>\n",
       "    </tr>\n",
       "  </tbody>\n",
       "</table>\n",
       "</div>"
      ],
      "text/plain": [
       "        atID  wthp6     wtlp6    wthp5     wtlp5      wtal      wtfe  \\\n",
       "0  AT1G04517    0.0  0.000000  0.00000  0.023506  1.182597  0.980215   \n",
       "1  AT1G08763    0.0  0.016300  0.00000  0.000000  0.167247  0.723834   \n",
       "2  AT1G13490    0.0  0.060885  0.08061  0.119745  1.216787  0.422145   \n",
       "3  AT1G20860    0.0  0.458795  0.00000  0.000000  0.140298  0.046848   \n",
       "4  AT1G21850    0.0  0.000000  0.00000  0.024245  0.487422  0.278521   \n",
       "\n",
       "      s1hp6     s1lp6     s1hp5     s1lp5      s1al      s1fe  \n",
       "0  0.000000  0.000000  0.052534  0.142763  2.846669  1.991801  \n",
       "1  0.000000  0.018525  0.000000  0.047022  1.683942  0.588238  \n",
       "2  0.053176  0.000000  0.000000  0.000000  1.476088  0.049795  \n",
       "3  0.000000  1.287837  0.000000  0.166699  0.068845  0.000000  \n",
       "4  0.000000  0.000000  0.000000  0.069259  1.539135  0.171164  "
      ]
     },
     "execution_count": 145,
     "metadata": {},
     "output_type": "execute_result"
    }
   ],
   "source": [
    "df = pd.read_csv(path + \"data/data_ALL_raw_sorted_by_wthp6Norm.csv\")\n",
    "df.head()"
   ]
  },
  {
   "cell_type": "code",
   "execution_count": 132,
   "metadata": {},
   "outputs": [
    {
     "data": {
      "text/plain": [
       "(20450, 13)"
      ]
     },
     "execution_count": 132,
     "metadata": {},
     "output_type": "execute_result"
    }
   ],
   "source": [
    "df.shape"
   ]
  },
  {
   "cell_type": "code",
   "execution_count": 133,
   "metadata": {},
   "outputs": [
    {
     "data": {
      "text/plain": [
       "Index(['atID', 'wthp6', 'wtlp6', 'wthp5', 'wtlp5', 'wtal', 'wtfe', 's1hp6',\n",
       "       's1lp6', 's1hp5', 's1lp5', 's1al', 's1fe'],\n",
       "      dtype='object')"
      ]
     },
     "execution_count": 133,
     "metadata": {},
     "output_type": "execute_result"
    }
   ],
   "source": [
    "df.columns"
   ]
  },
  {
   "cell_type": "code",
   "execution_count": 134,
   "metadata": {},
   "outputs": [
    {
     "name": "stderr",
     "output_type": "stream",
     "text": [
      "/Users/chaupham/opt/anaconda3/lib/python3.7/site-packages/ipykernel_launcher.py:4: RuntimeWarning: divide by zero encountered in log2\n",
      "  after removing the cwd from sys.path.\n"
     ]
    }
   ],
   "source": [
    "thres = 0.5\n",
    "df[\"wt_low_log2fold\"] = df.apply(lambda x: filter_x(x, \"wthp6\", ['wtlp6', 'wthp5', 'wtlp5', 'wtal', 'wtfe'], thres),1)\n",
    "# df[\"s1_filter\"] = df.apply(lambda x: filter_x(x, \"s1hp6\", ['s1lp6', 's1hp5', 's1lp5', 's1al', 's1fe']),1)\n",
    "# df[\"pairwise_filter\"] = df.apply(lambda x: filter_pairwise(x, [\"s1hp6\", 's1lp6', 's1hp5', 's1lp5', 's1al', 's1fe']),1)"
   ]
  },
  {
   "cell_type": "code",
   "execution_count": 135,
   "metadata": {},
   "outputs": [
    {
     "data": {
      "text/plain": [
       "1    11721\n",
       "0     8729\n",
       "Name: wt_low_log2fold, dtype: int64"
      ]
     },
     "execution_count": 135,
     "metadata": {},
     "output_type": "execute_result"
    }
   ],
   "source": [
    "df[\"wt_low_log2fold\"].value_counts()"
   ]
  },
  {
   "cell_type": "code",
   "execution_count": 136,
   "metadata": {},
   "outputs": [
    {
     "data": {
      "text/plain": [
       "Index(['atID', 'wthp6', 'wthp6_2', 'wtlp6', 'wtlp6_2', 'wthp5', 'wthp5_2',\n",
       "       'wtlp5', 'wtlp5_2', 'wtal', 'wtal_2', 'wtfe', 'wtfe_2', 'stop1hp6',\n",
       "       'stop1hp6_2', 'stop1lp6', 'stop1lp6_2', 'stop1hp5', 'stop1hp5_2',\n",
       "       'stop1lp5', 'stop1lp5_2', 'stop1al', 'stop1al_2', 's1fe', 's1fe_2'],\n",
       "      dtype='object')"
      ]
     },
     "execution_count": 136,
     "metadata": {},
     "output_type": "execute_result"
    }
   ],
   "source": [
    "data_raw_full_cols = pd.read_csv(\"/Users/chaupham/Downloads/transcriptome_cpm_all_expressed_genes.csv\")\n",
    "data_raw_full_cols.columns"
   ]
  },
  {
   "cell_type": "code",
   "execution_count": 137,
   "metadata": {},
   "outputs": [],
   "source": [
    "condition_cols_full = ['wthp6', 'wthp6_2', 'wtlp6', 'wtlp6_2', 'wthp5', 'wthp5_2',\\\n",
    "       'wtlp5', 'wtlp5_2', 'wtal', 'wtal_2', 'wtfe', 'wtfe_2']\n",
    "\n",
    "data_raw_full_cols[\"filter_low_cpm\"] = data_raw_full_cols.apply(lambda x: filter_low_cpm(x, condition_cols_full),1)\n"
   ]
  },
  {
   "cell_type": "code",
   "execution_count": 138,
   "metadata": {},
   "outputs": [
    {
     "data": {
      "text/html": [
       "<div>\n",
       "<style scoped>\n",
       "    .dataframe tbody tr th:only-of-type {\n",
       "        vertical-align: middle;\n",
       "    }\n",
       "\n",
       "    .dataframe tbody tr th {\n",
       "        vertical-align: top;\n",
       "    }\n",
       "\n",
       "    .dataframe thead th {\n",
       "        text-align: right;\n",
       "    }\n",
       "</style>\n",
       "<table border=\"1\" class=\"dataframe\">\n",
       "  <thead>\n",
       "    <tr style=\"text-align: right;\">\n",
       "      <th></th>\n",
       "      <th>atID</th>\n",
       "      <th>wthp6</th>\n",
       "      <th>wtlp6</th>\n",
       "      <th>wthp5</th>\n",
       "      <th>wtlp5</th>\n",
       "      <th>wtal</th>\n",
       "      <th>wtfe</th>\n",
       "      <th>s1hp6</th>\n",
       "      <th>s1lp6</th>\n",
       "      <th>s1hp5</th>\n",
       "      <th>s1lp5</th>\n",
       "      <th>s1al</th>\n",
       "      <th>s1fe</th>\n",
       "      <th>wt_low_log2fold</th>\n",
       "      <th>filter_low_cpm</th>\n",
       "    </tr>\n",
       "  </thead>\n",
       "  <tbody>\n",
       "    <tr>\n",
       "      <th>0</th>\n",
       "      <td>AT1G04517</td>\n",
       "      <td>0.0</td>\n",
       "      <td>0.000000</td>\n",
       "      <td>0.00000</td>\n",
       "      <td>0.023506</td>\n",
       "      <td>1.182597</td>\n",
       "      <td>0.980215</td>\n",
       "      <td>0.000000</td>\n",
       "      <td>0.000000</td>\n",
       "      <td>0.052534</td>\n",
       "      <td>0.142763</td>\n",
       "      <td>2.846669</td>\n",
       "      <td>1.991801</td>\n",
       "      <td>0</td>\n",
       "      <td>1</td>\n",
       "    </tr>\n",
       "    <tr>\n",
       "      <th>1</th>\n",
       "      <td>AT1G08763</td>\n",
       "      <td>0.0</td>\n",
       "      <td>0.016300</td>\n",
       "      <td>0.00000</td>\n",
       "      <td>0.000000</td>\n",
       "      <td>0.167247</td>\n",
       "      <td>0.723834</td>\n",
       "      <td>0.000000</td>\n",
       "      <td>0.018525</td>\n",
       "      <td>0.000000</td>\n",
       "      <td>0.047022</td>\n",
       "      <td>1.683942</td>\n",
       "      <td>0.588238</td>\n",
       "      <td>0</td>\n",
       "      <td>0</td>\n",
       "    </tr>\n",
       "    <tr>\n",
       "      <th>2</th>\n",
       "      <td>AT1G13490</td>\n",
       "      <td>0.0</td>\n",
       "      <td>0.060885</td>\n",
       "      <td>0.08061</td>\n",
       "      <td>0.119745</td>\n",
       "      <td>1.216787</td>\n",
       "      <td>0.422145</td>\n",
       "      <td>0.053176</td>\n",
       "      <td>0.000000</td>\n",
       "      <td>0.000000</td>\n",
       "      <td>0.000000</td>\n",
       "      <td>1.476088</td>\n",
       "      <td>0.049795</td>\n",
       "      <td>0</td>\n",
       "      <td>0</td>\n",
       "    </tr>\n",
       "    <tr>\n",
       "      <th>3</th>\n",
       "      <td>AT1G20860</td>\n",
       "      <td>0.0</td>\n",
       "      <td>0.458795</td>\n",
       "      <td>0.00000</td>\n",
       "      <td>0.000000</td>\n",
       "      <td>0.140298</td>\n",
       "      <td>0.046848</td>\n",
       "      <td>0.000000</td>\n",
       "      <td>1.287837</td>\n",
       "      <td>0.000000</td>\n",
       "      <td>0.166699</td>\n",
       "      <td>0.068845</td>\n",
       "      <td>0.000000</td>\n",
       "      <td>0</td>\n",
       "      <td>0</td>\n",
       "    </tr>\n",
       "    <tr>\n",
       "      <th>4</th>\n",
       "      <td>AT1G21850</td>\n",
       "      <td>0.0</td>\n",
       "      <td>0.000000</td>\n",
       "      <td>0.00000</td>\n",
       "      <td>0.024245</td>\n",
       "      <td>0.487422</td>\n",
       "      <td>0.278521</td>\n",
       "      <td>0.000000</td>\n",
       "      <td>0.000000</td>\n",
       "      <td>0.000000</td>\n",
       "      <td>0.069259</td>\n",
       "      <td>1.539135</td>\n",
       "      <td>0.171164</td>\n",
       "      <td>0</td>\n",
       "      <td>0</td>\n",
       "    </tr>\n",
       "  </tbody>\n",
       "</table>\n",
       "</div>"
      ],
      "text/plain": [
       "        atID  wthp6     wtlp6    wthp5     wtlp5      wtal      wtfe  \\\n",
       "0  AT1G04517    0.0  0.000000  0.00000  0.023506  1.182597  0.980215   \n",
       "1  AT1G08763    0.0  0.016300  0.00000  0.000000  0.167247  0.723834   \n",
       "2  AT1G13490    0.0  0.060885  0.08061  0.119745  1.216787  0.422145   \n",
       "3  AT1G20860    0.0  0.458795  0.00000  0.000000  0.140298  0.046848   \n",
       "4  AT1G21850    0.0  0.000000  0.00000  0.024245  0.487422  0.278521   \n",
       "\n",
       "      s1hp6     s1lp6     s1hp5     s1lp5      s1al      s1fe  \\\n",
       "0  0.000000  0.000000  0.052534  0.142763  2.846669  1.991801   \n",
       "1  0.000000  0.018525  0.000000  0.047022  1.683942  0.588238   \n",
       "2  0.053176  0.000000  0.000000  0.000000  1.476088  0.049795   \n",
       "3  0.000000  1.287837  0.000000  0.166699  0.068845  0.000000   \n",
       "4  0.000000  0.000000  0.000000  0.069259  1.539135  0.171164   \n",
       "\n",
       "   wt_low_log2fold  filter_low_cpm  \n",
       "0                0               1  \n",
       "1                0               0  \n",
       "2                0               0  \n",
       "3                0               0  \n",
       "4                0               0  "
      ]
     },
     "execution_count": 138,
     "metadata": {},
     "output_type": "execute_result"
    }
   ],
   "source": [
    "df = pd.merge(df, data_raw_full_cols[[\"atID\", \"filter_low_cpm\"]], on=\"atID\", how=\"inner\")\n",
    "df.head()"
   ]
  },
  {
   "cell_type": "code",
   "execution_count": 139,
   "metadata": {},
   "outputs": [
    {
     "data": {
      "text/plain": [
       "1    11721\n",
       "0     8729\n",
       "Name: wt_low_log2fold, dtype: int64"
      ]
     },
     "execution_count": 139,
     "metadata": {},
     "output_type": "execute_result"
    }
   ],
   "source": [
    "df[\"wt_low_log2fold\"].value_counts()"
   ]
  },
  {
   "cell_type": "code",
   "execution_count": 140,
   "metadata": {},
   "outputs": [
    {
     "data": {
      "text/plain": [
       "1    20056\n",
       "0      394\n",
       "Name: filter_low_cpm, dtype: int64"
      ]
     },
     "execution_count": 140,
     "metadata": {},
     "output_type": "execute_result"
    }
   ],
   "source": [
    "df[\"filter_low_cpm\"].value_counts()"
   ]
  },
  {
   "cell_type": "code",
   "execution_count": 141,
   "metadata": {},
   "outputs": [],
   "source": [
    "df[[\"atID\", \"wt_low_log2fold\", \"filter_low_cpm\"]]\\\n",
    "    .to_csv(path +\"data/filter_nonexpressed.csv\", index=False)\n"
   ]
  },
  {
   "cell_type": "code",
   "execution_count": 147,
   "metadata": {},
   "outputs": [
    {
     "data": {
      "text/html": [
       "<div>\n",
       "<style scoped>\n",
       "    .dataframe tbody tr th:only-of-type {\n",
       "        vertical-align: middle;\n",
       "    }\n",
       "\n",
       "    .dataframe tbody tr th {\n",
       "        vertical-align: top;\n",
       "    }\n",
       "\n",
       "    .dataframe thead th {\n",
       "        text-align: right;\n",
       "    }\n",
       "</style>\n",
       "<table border=\"1\" class=\"dataframe\">\n",
       "  <thead>\n",
       "    <tr style=\"text-align: right;\">\n",
       "      <th></th>\n",
       "      <th>atID</th>\n",
       "    </tr>\n",
       "  </thead>\n",
       "  <tbody>\n",
       "    <tr>\n",
       "      <th>0</th>\n",
       "      <td>AT1G01020</td>\n",
       "    </tr>\n",
       "    <tr>\n",
       "      <th>1</th>\n",
       "      <td>AT1G01180</td>\n",
       "    </tr>\n",
       "    <tr>\n",
       "      <th>2</th>\n",
       "      <td>AT1G01190</td>\n",
       "    </tr>\n",
       "    <tr>\n",
       "      <th>3</th>\n",
       "      <td>AT1G01490</td>\n",
       "    </tr>\n",
       "    <tr>\n",
       "      <th>4</th>\n",
       "      <td>AT1G01530</td>\n",
       "    </tr>\n",
       "    <tr>\n",
       "      <th>...</th>\n",
       "      <td>...</td>\n",
       "    </tr>\n",
       "    <tr>\n",
       "      <th>1274</th>\n",
       "      <td>AT5G66850</td>\n",
       "    </tr>\n",
       "    <tr>\n",
       "      <th>1275</th>\n",
       "      <td>AT5G67060</td>\n",
       "    </tr>\n",
       "    <tr>\n",
       "      <th>1276</th>\n",
       "      <td>AT5G67180</td>\n",
       "    </tr>\n",
       "    <tr>\n",
       "      <th>1277</th>\n",
       "      <td>AT5G67420</td>\n",
       "    </tr>\n",
       "    <tr>\n",
       "      <th>1278</th>\n",
       "      <td>AT5G67470</td>\n",
       "    </tr>\n",
       "  </tbody>\n",
       "</table>\n",
       "<p>1279 rows × 1 columns</p>\n",
       "</div>"
      ],
      "text/plain": [
       "           atID\n",
       "0     AT1G01020\n",
       "1     AT1G01180\n",
       "2     AT1G01190\n",
       "3     AT1G01490\n",
       "4     AT1G01530\n",
       "...         ...\n",
       "1274  AT5G66850\n",
       "1275  AT5G67060\n",
       "1276  AT5G67180\n",
       "1277  AT5G67420\n",
       "1278  AT5G67470\n",
       "\n",
       "[1279 rows x 1 columns]"
      ]
     },
     "execution_count": 147,
     "metadata": {},
     "output_type": "execute_result"
    }
   ],
   "source": [
    "s1_ecker_target = pd.read_csv(path + \"/data/STOP1_targets_EckerLab.csv\")\n",
    "s1_ecker_target"
   ]
  },
  {
   "cell_type": "code",
   "execution_count": 149,
   "metadata": {},
   "outputs": [
    {
     "data": {
      "text/plain": [
       "(896, 1)"
      ]
     },
     "execution_count": 149,
     "metadata": {},
     "output_type": "execute_result"
    }
   ],
   "source": [
    "s1_ecker_target= s1_ecker_target[s1_ecker_target.atID.isin(df.atID)]\n",
    "s1_ecker_target.shape"
   ]
  },
  {
   "cell_type": "code",
   "execution_count": 150,
   "metadata": {},
   "outputs": [],
   "source": [
    "s1_ecker_target.to_csv(path + \"/data/STOP1_targets_EckerLab_filter.csv\", index=False)"
   ]
  },
  {
   "cell_type": "code",
   "execution_count": 151,
   "metadata": {},
   "outputs": [
    {
     "data": {
      "text/plain": [
       "(1205, 2)"
      ]
     },
     "execution_count": 151,
     "metadata": {},
     "output_type": "execute_result"
    }
   ],
   "source": [
    "Transcription_factors = pd.read_csv(path + \"/data/Transcription_factors.csv\")\n",
    "Transcription_factors.shape"
   ]
  },
  {
   "cell_type": "code",
   "execution_count": 153,
   "metadata": {},
   "outputs": [
    {
     "data": {
      "text/html": [
       "<div>\n",
       "<style scoped>\n",
       "    .dataframe tbody tr th:only-of-type {\n",
       "        vertical-align: middle;\n",
       "    }\n",
       "\n",
       "    .dataframe tbody tr th {\n",
       "        vertical-align: top;\n",
       "    }\n",
       "\n",
       "    .dataframe thead th {\n",
       "        text-align: right;\n",
       "    }\n",
       "</style>\n",
       "<table border=\"1\" class=\"dataframe\">\n",
       "  <thead>\n",
       "    <tr style=\"text-align: right;\">\n",
       "      <th></th>\n",
       "      <th>TF_EXP</th>\n",
       "      <th>TF_DE</th>\n",
       "    </tr>\n",
       "  </thead>\n",
       "  <tbody>\n",
       "    <tr>\n",
       "      <th>0</th>\n",
       "      <td>AT3G25730</td>\n",
       "      <td>AT1G25560</td>\n",
       "    </tr>\n",
       "    <tr>\n",
       "      <th>1</th>\n",
       "      <td>AT1G68840</td>\n",
       "      <td>AT1G01720</td>\n",
       "    </tr>\n",
       "    <tr>\n",
       "      <th>2</th>\n",
       "      <td>AT1G13260</td>\n",
       "      <td>AT1G05710</td>\n",
       "    </tr>\n",
       "    <tr>\n",
       "      <th>3</th>\n",
       "      <td>AT1G25560</td>\n",
       "      <td>AT1G05805</td>\n",
       "    </tr>\n",
       "    <tr>\n",
       "      <th>4</th>\n",
       "      <td>AT1G01260</td>\n",
       "      <td>AT1G09530</td>\n",
       "    </tr>\n",
       "  </tbody>\n",
       "</table>\n",
       "</div>"
      ],
      "text/plain": [
       "      TF_EXP      TF_DE\n",
       "0  AT3G25730  AT1G25560\n",
       "1  AT1G68840  AT1G01720\n",
       "2  AT1G13260  AT1G05710\n",
       "3  AT1G25560  AT1G05805\n",
       "4  AT1G01260  AT1G09530"
      ]
     },
     "execution_count": 153,
     "metadata": {},
     "output_type": "execute_result"
    }
   ],
   "source": [
    "Transcription_factors.head()"
   ]
  },
  {
   "cell_type": "code",
   "execution_count": 154,
   "metadata": {},
   "outputs": [
    {
     "data": {
      "text/plain": [
       "(1205, 2)"
      ]
     },
     "execution_count": 154,
     "metadata": {},
     "output_type": "execute_result"
    }
   ],
   "source": [
    "Transcription_factors= Transcription_factors[Transcription_factors.TF_EXP.isin(df.atID)]\n",
    "Transcription_factors.shape"
   ]
  },
  {
   "cell_type": "code",
   "execution_count": null,
   "metadata": {},
   "outputs": [],
   "source": []
  }
 ],
 "metadata": {
  "kernelspec": {
   "display_name": "Python 3",
   "language": "python",
   "name": "python3"
  },
  "language_info": {
   "codemirror_mode": {
    "name": "ipython",
    "version": 3
   },
   "file_extension": ".py",
   "mimetype": "text/x-python",
   "name": "python",
   "nbconvert_exporter": "python",
   "pygments_lexer": "ipython3",
   "version": "3.7.6"
  },
  "toc": {
   "base_numbering": 1,
   "nav_menu": {},
   "number_sections": true,
   "sideBar": true,
   "skip_h1_title": false,
   "title_cell": "Table of Contents",
   "title_sidebar": "Contents",
   "toc_cell": false,
   "toc_position": {},
   "toc_section_display": true,
   "toc_window_display": false
  }
 },
 "nbformat": 4,
 "nbformat_minor": 2
}
