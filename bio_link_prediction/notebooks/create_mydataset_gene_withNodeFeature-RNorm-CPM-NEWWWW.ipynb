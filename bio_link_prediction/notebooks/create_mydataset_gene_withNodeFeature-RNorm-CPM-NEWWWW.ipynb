{
 "cells": [
  {
   "cell_type": "markdown",
   "metadata": {},
   "source": [
    "https://pytorch-geometric.readthedocs.io/en/latest/_modules/torch_geometric/datasets/planetoid.html\n",
    " \n",
    "https://github.com/facebookresearch/SEAL_OGB/issues/1\n",
    "       https://nbviewer.jupyter.org/github/NIRVANALAN/gcn_analysis/blob/master/notebook/Plantenoid%20Citation%20Data%20Format%20Transformation.ipynb\n",
    "       \n",
    "       \n",
    "cd /Users/chaupham/minhchau/jupyter_projects/GRAPH/notebooks/SEAL_OGB-master/\n",
    "\n",
    "\n",
    "python seal_link_pred.py --dataset Cora --num_hops 2 --use_feature --runs 5\n",
    "python seal_link_pred.py --dataset CitationGraph --num_hops 2 --use_feature --runs 5\n",
    "\n",
    "python seal_link_pred.py --dataset GeneGraph_withNodeFeatures --num_hops 2 --use_feature --runs 2\n",
    "\n",
    "python seal_link_pred.py --dataset GeneGraph_withNodeFeatures_Zscore --num_hops 2 --use_feature --runs 2\n",
    "\n",
    "python seal_link_pred.py --dataset mydataset_gene_withNodeFeatures_Rnorm_CPM --num_hops 2 --use_feature --runs 2\n",
    "\n",
    "\n",
    "\n",
    "python seal_link_pred.py --dataset GeneGraph --num_hops 2 --runs 1\n",
    "\n",
    "\n"
   ]
  },
  {
   "cell_type": "code",
   "execution_count": 4,
   "metadata": {},
   "outputs": [
    {
     "name": "stdout",
     "output_type": "stream",
     "text": [
      "Requirement already satisfied: torch-sparse in /Users/chaupham/opt/anaconda3/lib/python3.7/site-packages (0.6.7)\n",
      "Requirement already satisfied: scipy in /Users/chaupham/opt/anaconda3/lib/python3.7/site-packages (from torch-sparse) (1.4.1)\n",
      "Requirement already satisfied: numpy>=1.13.3 in /Users/chaupham/opt/anaconda3/lib/python3.7/site-packages (from scipy->torch-sparse) (1.19.4)\n",
      "Note: you may need to restart the kernel to use updated packages.\n"
     ]
    }
   ],
   "source": [
    "pip install torch-sparse"
   ]
  },
  {
   "cell_type": "code",
   "execution_count": 16,
   "metadata": {},
   "outputs": [
    {
     "data": {
      "text/html": [
       "<style>.container { width:80% !important; }</style>"
      ],
      "text/plain": [
       "<IPython.core.display.HTML object>"
      ]
     },
     "metadata": {},
     "output_type": "display_data"
    }
   ],
   "source": [
    "# Copyright (c) Facebook, Inc. and its affiliates.\n",
    "# This source code is licensed under the MIT license found in the\n",
    "# LICENSE file in the root directory of this source tree.\n",
    "\n",
    "import torch\n",
    "import pandas as pd\n",
    "import argparse\n",
    "import math\n",
    "import time\n",
    "import random\n",
    "import os, sys\n",
    "import os.path as osp\n",
    "from itertools import chain\n",
    "from shutil import copy\n",
    "import copy as cp\n",
    "from tqdm import tqdm\n",
    "import pdb\n",
    "from sklearn import preprocessing, feature_extraction, model_selection\n",
    "import pandas as pd\n",
    "import numpy as np\n",
    "from sklearn.metrics import roc_auc_score\n",
    "import scipy.sparse as ssp\n",
    "import torch.nn.functional as F\n",
    "from torch.nn import BCEWithLogitsLoss\n",
    "from torch.nn import ModuleList, Linear, Conv1d, MaxPool1d, Embedding\n",
    "from torch.utils.data import DataLoader\n",
    "\n",
    "import torch\n",
    "# from torch_sparse import coalesce\n",
    "# from torch_scatter import scatter_min\n",
    "import torch_geometric.transforms as T\n",
    "from torch_geometric.datasets import Planetoid\n",
    "from torch_geometric.nn import GCNConv, SAGEConv, global_sort_pool, global_add_pool\n",
    "from torch_geometric.data import Data, Dataset, InMemoryDataset, DataLoader\n",
    "from torch_geometric.utils import (negative_sampling, add_self_loops,\n",
    "                                   train_test_split_edges, to_networkx, \n",
    "                                   to_scipy_sparse_matrix, to_undirected)\n",
    "\n",
    "from ogb.linkproppred import PygLinkPropPredDataset, Evaluator\n",
    "\n",
    "import warnings\n",
    "from scipy.sparse import SparseEfficiencyWarning\n",
    "warnings.simplefilter('ignore',SparseEfficiencyWarning)\n",
    "\n",
    "import os.path as osp\n",
    "\n",
    "import torch\n",
    "import torch.nn.functional as F\n",
    "import matplotlib.pyplot as plt\n",
    "from torch_geometric.datasets import Planetoid\n",
    "import torch_geometric.transforms as T\n",
    "from torch_geometric.data import Data\n",
    "\n",
    "from torch_geometric.nn import GCNConv, GNNExplainer\n",
    "import dill\n",
    "\n",
    "from utils import *\n",
    "\n",
    "\n",
    "from IPython.core.display import display, HTML\n",
    "display(HTML(\"<style>.container { width:80% !important; }</style>\"))\n",
    "\n",
    "pd.set_option('display.max_rows', 500)\n",
    "pd.set_option('display.max_columns', 500)\n",
    "pd.set_option('display.width', 1000)\n",
    "pd.set_option('display.max_colwidth', 199)"
   ]
  },
  {
   "cell_type": "code",
   "execution_count": 17,
   "metadata": {},
   "outputs": [],
   "source": [
    "def do_edge_split(dataset):\n",
    "    data = dataset[0]\n",
    "    data = train_test_split_edges(data)\n",
    "\n",
    "    edge_index, _ = add_self_loops(data.train_pos_edge_index)\n",
    "    data.train_neg_edge_index = negative_sampling(\n",
    "        edge_index, num_nodes=data.num_nodes,\n",
    "        num_neg_samples=data.train_pos_edge_index.size(1))\n",
    "\n",
    "    split_edge = {'train': {}, 'valid': {}, 'test': {}}\n",
    "    split_edge['train']['edge'] = data.train_pos_edge_index.t()\n",
    "    split_edge['train']['edge_neg'] = data.train_neg_edge_index.t()\n",
    "    split_edge['valid']['edge'] = data.val_pos_edge_index.t()\n",
    "    split_edge['valid']['edge_neg'] = data.val_neg_edge_index.t()\n",
    "    split_edge['test']['edge'] = data.test_pos_edge_index.t()\n",
    "    split_edge['test']['edge_neg'] = data.test_neg_edge_index.t()\n",
    "    return split_edge\n"
   ]
  },
  {
   "cell_type": "code",
   "execution_count": null,
   "metadata": {},
   "outputs": [],
   "source": [
    "path = \"../my_data/\""
   ]
  },
  {
   "cell_type": "code",
   "execution_count": 18,
   "metadata": {},
   "outputs": [
    {
     "name": "stdout",
     "output_type": "stream",
     "text": [
      "(657433, 2)\n"
     ]
    },
    {
     "data": {
      "text/html": [
       "<div>\n",
       "<style scoped>\n",
       "    .dataframe tbody tr th:only-of-type {\n",
       "        vertical-align: middle;\n",
       "    }\n",
       "\n",
       "    .dataframe tbody tr th {\n",
       "        vertical-align: top;\n",
       "    }\n",
       "\n",
       "    .dataframe thead th {\n",
       "        text-align: right;\n",
       "    }\n",
       "</style>\n",
       "<table border=\"1\" class=\"dataframe\">\n",
       "  <thead>\n",
       "    <tr style=\"text-align: right;\">\n",
       "      <th></th>\n",
       "      <th>gene1</th>\n",
       "      <th>gene2</th>\n",
       "    </tr>\n",
       "  </thead>\n",
       "  <tbody>\n",
       "    <tr>\n",
       "      <th>0</th>\n",
       "      <td>gngt2</td>\n",
       "      <td>gngt1</td>\n",
       "    </tr>\n",
       "    <tr>\n",
       "      <th>1</th>\n",
       "      <td>cfl1</td>\n",
       "      <td>serpinh1</td>\n",
       "    </tr>\n",
       "    <tr>\n",
       "      <th>2</th>\n",
       "      <td>cfl2</td>\n",
       "      <td>cfl1</td>\n",
       "    </tr>\n",
       "    <tr>\n",
       "      <th>3</th>\n",
       "      <td>luzp4</td>\n",
       "      <td>cfl2</td>\n",
       "    </tr>\n",
       "    <tr>\n",
       "      <th>4</th>\n",
       "      <td>ldha</td>\n",
       "      <td>ldhb</td>\n",
       "    </tr>\n",
       "  </tbody>\n",
       "</table>\n",
       "</div>"
      ],
      "text/plain": [
       "   gene1     gene2\n",
       "0  gngt2     gngt1\n",
       "1   cfl1  serpinh1\n",
       "2   cfl2      cfl1\n",
       "3  luzp4      cfl2\n",
       "4   ldha      ldhb"
      ]
     },
     "execution_count": 18,
     "metadata": {},
     "output_type": "execute_result"
    }
   ],
   "source": [
    "df=pd.read_csv(path + \"gene_edges.csv\")\n",
    "\n",
    "print(df.shape)\n",
    "df.head()\n"
   ]
  },
  {
   "cell_type": "code",
   "execution_count": 19,
   "metadata": {},
   "outputs": [
    {
     "data": {
      "text/plain": [
       "14310"
      ]
     },
     "execution_count": 19,
     "metadata": {},
     "output_type": "execute_result"
    }
   ],
   "source": [
    "len(set.union(set(df.gene1), set(df.gene2)))"
   ]
  },
  {
   "cell_type": "code",
   "execution_count": 20,
   "metadata": {},
   "outputs": [
    {
     "name": "stdout",
     "output_type": "stream",
     "text": [
      "14320\n"
     ]
    }
   ],
   "source": [
    "df_features = pd.read_csv(path + \"pseudocounts_AVG_14k_GENES.csv\")\n",
    "\n",
    "all_genes = df_features.gene.values\n",
    "print(len(all_genes))"
   ]
  },
  {
   "cell_type": "code",
   "execution_count": 21,
   "metadata": {},
   "outputs": [
    {
     "data": {
      "text/html": [
       "<div>\n",
       "<style scoped>\n",
       "    .dataframe tbody tr th:only-of-type {\n",
       "        vertical-align: middle;\n",
       "    }\n",
       "\n",
       "    .dataframe tbody tr th {\n",
       "        vertical-align: top;\n",
       "    }\n",
       "\n",
       "    .dataframe thead th {\n",
       "        text-align: right;\n",
       "    }\n",
       "</style>\n",
       "<table border=\"1\" class=\"dataframe\">\n",
       "  <thead>\n",
       "    <tr style=\"text-align: right;\">\n",
       "      <th></th>\n",
       "      <th>gene</th>\n",
       "      <th>P53KO.O1</th>\n",
       "      <th>p53KO.O2</th>\n",
       "      <th>p53KO.O.CAS1</th>\n",
       "      <th>p53KO.O.CAS2</th>\n",
       "      <th>p53KO.O.RAS1</th>\n",
       "      <th>p53KO.O.RAS2</th>\n",
       "      <th>WT.O1</th>\n",
       "      <th>WT.O2</th>\n",
       "    </tr>\n",
       "  </thead>\n",
       "  <tbody>\n",
       "    <tr>\n",
       "      <th>0</th>\n",
       "      <td>hoxc10</td>\n",
       "      <td>2.775558e-17</td>\n",
       "      <td>2.775558e-17</td>\n",
       "      <td>1.588892e+00</td>\n",
       "      <td>0.000000e+00</td>\n",
       "      <td>2.775558e-17</td>\n",
       "      <td>2.775558e-17</td>\n",
       "      <td>2.775558e-17</td>\n",
       "      <td>2.775558e-17</td>\n",
       "    </tr>\n",
       "    <tr>\n",
       "      <th>1</th>\n",
       "      <td>calcr</td>\n",
       "      <td>2.456023e+00</td>\n",
       "      <td>1.223430e-02</td>\n",
       "      <td>2.775558e-17</td>\n",
       "      <td>2.775558e-17</td>\n",
       "      <td>4.508758e+00</td>\n",
       "      <td>3.743896e+00</td>\n",
       "      <td>1.760702e-01</td>\n",
       "      <td>4.042754e+00</td>\n",
       "    </tr>\n",
       "    <tr>\n",
       "      <th>2</th>\n",
       "      <td>rabggtb</td>\n",
       "      <td>3.097384e+03</td>\n",
       "      <td>3.286204e+03</td>\n",
       "      <td>2.488481e+03</td>\n",
       "      <td>2.141901e+03</td>\n",
       "      <td>2.808107e+03</td>\n",
       "      <td>3.228427e+03</td>\n",
       "      <td>2.786014e+03</td>\n",
       "      <td>3.280963e+03</td>\n",
       "    </tr>\n",
       "    <tr>\n",
       "      <th>3</th>\n",
       "      <td>sptlc3</td>\n",
       "      <td>2.775558e-17</td>\n",
       "      <td>2.775558e-17</td>\n",
       "      <td>2.775558e-17</td>\n",
       "      <td>2.775558e-17</td>\n",
       "      <td>1.095702e+00</td>\n",
       "      <td>9.318960e-01</td>\n",
       "      <td>2.775558e-17</td>\n",
       "      <td>2.775558e-17</td>\n",
       "    </tr>\n",
       "    <tr>\n",
       "      <th>4</th>\n",
       "      <td>ap3d1</td>\n",
       "      <td>3.682757e+03</td>\n",
       "      <td>4.298682e+03</td>\n",
       "      <td>4.098192e+03</td>\n",
       "      <td>3.370365e+03</td>\n",
       "      <td>4.096048e+03</td>\n",
       "      <td>3.754787e+03</td>\n",
       "      <td>4.159898e+03</td>\n",
       "      <td>4.005069e+03</td>\n",
       "    </tr>\n",
       "  </tbody>\n",
       "</table>\n",
       "</div>"
      ],
      "text/plain": [
       "      gene      P53KO.O1      p53KO.O2  p53KO.O.CAS1  p53KO.O.CAS2  p53KO.O.RAS1  p53KO.O.RAS2         WT.O1         WT.O2\n",
       "0   hoxc10  2.775558e-17  2.775558e-17  1.588892e+00  0.000000e+00  2.775558e-17  2.775558e-17  2.775558e-17  2.775558e-17\n",
       "1    calcr  2.456023e+00  1.223430e-02  2.775558e-17  2.775558e-17  4.508758e+00  3.743896e+00  1.760702e-01  4.042754e+00\n",
       "2  rabggtb  3.097384e+03  3.286204e+03  2.488481e+03  2.141901e+03  2.808107e+03  3.228427e+03  2.786014e+03  3.280963e+03\n",
       "3   sptlc3  2.775558e-17  2.775558e-17  2.775558e-17  2.775558e-17  1.095702e+00  9.318960e-01  2.775558e-17  2.775558e-17\n",
       "4    ap3d1  3.682757e+03  4.298682e+03  4.098192e+03  3.370365e+03  4.096048e+03  3.754787e+03  4.159898e+03  4.005069e+03"
      ]
     },
     "execution_count": 21,
     "metadata": {},
     "output_type": "execute_result"
    }
   ],
   "source": [
    "df_features.head()"
   ]
  },
  {
   "cell_type": "code",
   "execution_count": 22,
   "metadata": {},
   "outputs": [],
   "source": [
    "dict_num_to_name = dict(zip( list(range(len(all_genes))), all_genes))\n",
    "dict_name_to_num = dict(zip( all_genes, list(range(len(all_genes))) ))"
   ]
  },
  {
   "cell_type": "code",
   "execution_count": 23,
   "metadata": {},
   "outputs": [
    {
     "data": {
      "text/plain": [
       "tensor([[ 8825, 11337, 11789,  ..., 13502, 13502, 13502],\n",
       "        [ 6226,  9844, 11337,  ..., 12524, 13069,   376]])"
      ]
     },
     "execution_count": 23,
     "metadata": {},
     "output_type": "execute_result"
    }
   ],
   "source": [
    "edges = np.array([df.gene1.map(dict_name_to_num).values, df.gene2.map(dict_name_to_num).values.astype(int)])\n",
    "edge_index = torch.from_numpy(edges)\n",
    "edge_index"
   ]
  },
  {
   "cell_type": "code",
   "execution_count": 24,
   "metadata": {},
   "outputs": [
    {
     "data": {
      "text/plain": [
       "657433"
      ]
     },
     "execution_count": 24,
     "metadata": {},
     "output_type": "execute_result"
    }
   ],
   "source": [
    "len(edge_index[0])"
   ]
  },
  {
   "cell_type": "code",
   "execution_count": 25,
   "metadata": {},
   "outputs": [
    {
     "data": {
      "text/plain": [
       "Index(['gene', 'P53KO.O1', 'p53KO.O2', 'p53KO.O.CAS1', 'p53KO.O.CAS2', 'p53KO.O.RAS1', 'p53KO.O.RAS2', 'WT.O1', 'WT.O2'], dtype='object')"
      ]
     },
     "execution_count": 25,
     "metadata": {},
     "output_type": "execute_result"
    }
   ],
   "source": [
    "df_features.columns"
   ]
  },
  {
   "cell_type": "code",
   "execution_count": 26,
   "metadata": {},
   "outputs": [],
   "source": [
    "filtered_cols = ['P53KO.O1', 'p53KO.O2', 'p53KO.O.CAS1', 'p53KO.O.CAS2', 'p53KO.O.RAS1', 'p53KO.O.RAS2', 'WT.O1', 'WT.O2']\n",
    "# avg_cols = list()\n",
    "# for i in range(0, len(filtered_cols),2):\n",
    "#     new_col = filtered_cols[i].replace(\"1\", \"_avg\")\n",
    "#     avg_cols.append(new_col)\n",
    "#     df_features[new_col] = (df_features[filtered_cols[i]] + df_features[filtered_cols[i+1]])/2\n",
    "\n",
    "avg_cols = filtered_cols\n",
    "df_features = df_features[avg_cols]"
   ]
  },
  {
   "cell_type": "code",
   "execution_count": 27,
   "metadata": {},
   "outputs": [
    {
     "data": {
      "text/html": [
       "<div>\n",
       "<style scoped>\n",
       "    .dataframe tbody tr th:only-of-type {\n",
       "        vertical-align: middle;\n",
       "    }\n",
       "\n",
       "    .dataframe tbody tr th {\n",
       "        vertical-align: top;\n",
       "    }\n",
       "\n",
       "    .dataframe thead th {\n",
       "        text-align: right;\n",
       "    }\n",
       "</style>\n",
       "<table border=\"1\" class=\"dataframe\">\n",
       "  <thead>\n",
       "    <tr style=\"text-align: right;\">\n",
       "      <th></th>\n",
       "      <th>P53KO.O1</th>\n",
       "      <th>p53KO.O2</th>\n",
       "      <th>p53KO.O.CAS1</th>\n",
       "      <th>p53KO.O.CAS2</th>\n",
       "      <th>p53KO.O.RAS1</th>\n",
       "      <th>p53KO.O.RAS2</th>\n",
       "      <th>WT.O1</th>\n",
       "      <th>WT.O2</th>\n",
       "    </tr>\n",
       "  </thead>\n",
       "  <tbody>\n",
       "    <tr>\n",
       "      <th>0</th>\n",
       "      <td>5.932999e-19</td>\n",
       "      <td>7.225862e-19</td>\n",
       "      <td>4.879189e-02</td>\n",
       "      <td>0.000000e+00</td>\n",
       "      <td>5.660188e-19</td>\n",
       "      <td>4.726793e-19</td>\n",
       "      <td>4.602508e-19</td>\n",
       "      <td>4.587818e-19</td>\n",
       "    </tr>\n",
       "    <tr>\n",
       "      <th>1</th>\n",
       "      <td>5.249966e-02</td>\n",
       "      <td>3.185067e-04</td>\n",
       "      <td>8.523218e-19</td>\n",
       "      <td>7.816656e-19</td>\n",
       "      <td>9.194699e-02</td>\n",
       "      <td>6.375880e-02</td>\n",
       "      <td>2.919646e-03</td>\n",
       "      <td>6.682412e-02</td>\n",
       "    </tr>\n",
       "    <tr>\n",
       "      <th>2</th>\n",
       "      <td>6.620932e+01</td>\n",
       "      <td>8.555274e+01</td>\n",
       "      <td>7.641660e+01</td>\n",
       "      <td>6.032122e+01</td>\n",
       "      <td>5.726566e+01</td>\n",
       "      <td>5.498033e+01</td>\n",
       "      <td>4.619847e+01</td>\n",
       "      <td>5.423221e+01</td>\n",
       "    </tr>\n",
       "    <tr>\n",
       "      <th>3</th>\n",
       "      <td>5.932999e-19</td>\n",
       "      <td>7.225862e-19</td>\n",
       "      <td>8.523218e-19</td>\n",
       "      <td>7.816656e-19</td>\n",
       "      <td>2.234462e-02</td>\n",
       "      <td>1.587025e-02</td>\n",
       "      <td>4.602508e-19</td>\n",
       "      <td>4.587818e-19</td>\n",
       "    </tr>\n",
       "    <tr>\n",
       "      <th>4</th>\n",
       "      <td>7.872216e+01</td>\n",
       "      <td>1.119115e+02</td>\n",
       "      <td>1.258478e+02</td>\n",
       "      <td>9.491780e+01</td>\n",
       "      <td>8.353061e+01</td>\n",
       "      <td>6.394428e+01</td>\n",
       "      <td>6.898061e+01</td>\n",
       "      <td>6.620120e+01</td>\n",
       "    </tr>\n",
       "    <tr>\n",
       "      <th>...</th>\n",
       "      <td>...</td>\n",
       "      <td>...</td>\n",
       "      <td>...</td>\n",
       "      <td>...</td>\n",
       "      <td>...</td>\n",
       "      <td>...</td>\n",
       "      <td>...</td>\n",
       "      <td>...</td>\n",
       "    </tr>\n",
       "    <tr>\n",
       "      <th>14315</th>\n",
       "      <td>2.980688e+01</td>\n",
       "      <td>4.036827e+01</td>\n",
       "      <td>3.013039e+01</td>\n",
       "      <td>2.452363e+01</td>\n",
       "      <td>3.263333e+01</td>\n",
       "      <td>3.248617e+01</td>\n",
       "      <td>3.028531e+01</td>\n",
       "      <td>3.822892e+01</td>\n",
       "    </tr>\n",
       "    <tr>\n",
       "      <th>14316</th>\n",
       "      <td>2.859665e-01</td>\n",
       "      <td>4.887360e-01</td>\n",
       "      <td>2.173790e+00</td>\n",
       "      <td>1.934800e+00</td>\n",
       "      <td>3.507695e-01</td>\n",
       "      <td>1.909479e-01</td>\n",
       "      <td>1.897462e-01</td>\n",
       "      <td>1.489797e-01</td>\n",
       "    </tr>\n",
       "    <tr>\n",
       "      <th>14317</th>\n",
       "      <td>1.085178e+02</td>\n",
       "      <td>1.389250e+02</td>\n",
       "      <td>7.160371e+01</td>\n",
       "      <td>6.056817e+01</td>\n",
       "      <td>2.018757e+02</td>\n",
       "      <td>1.928608e+02</td>\n",
       "      <td>1.998530e+02</td>\n",
       "      <td>1.950146e+02</td>\n",
       "    </tr>\n",
       "    <tr>\n",
       "      <th>14318</th>\n",
       "      <td>5.846910e-02</td>\n",
       "      <td>1.085512e-01</td>\n",
       "      <td>4.355452e-02</td>\n",
       "      <td>7.430233e-02</td>\n",
       "      <td>4.557069e-02</td>\n",
       "      <td>3.182916e-02</td>\n",
       "      <td>1.172446e-01</td>\n",
       "      <td>7.661417e-02</td>\n",
       "    </tr>\n",
       "    <tr>\n",
       "      <th>14319</th>\n",
       "      <td>2.297371e+01</td>\n",
       "      <td>2.788312e+01</td>\n",
       "      <td>3.235424e+01</td>\n",
       "      <td>3.644111e+01</td>\n",
       "      <td>3.529016e+01</td>\n",
       "      <td>3.512787e+01</td>\n",
       "      <td>4.038651e+01</td>\n",
       "      <td>3.510468e+01</td>\n",
       "    </tr>\n",
       "  </tbody>\n",
       "</table>\n",
       "<p>14320 rows × 8 columns</p>\n",
       "</div>"
      ],
      "text/plain": [
       "           P53KO.O1      p53KO.O2  p53KO.O.CAS1  p53KO.O.CAS2  p53KO.O.RAS1  p53KO.O.RAS2         WT.O1         WT.O2\n",
       "0      5.932999e-19  7.225862e-19  4.879189e-02  0.000000e+00  5.660188e-19  4.726793e-19  4.602508e-19  4.587818e-19\n",
       "1      5.249966e-02  3.185067e-04  8.523218e-19  7.816656e-19  9.194699e-02  6.375880e-02  2.919646e-03  6.682412e-02\n",
       "2      6.620932e+01  8.555274e+01  7.641660e+01  6.032122e+01  5.726566e+01  5.498033e+01  4.619847e+01  5.423221e+01\n",
       "3      5.932999e-19  7.225862e-19  8.523218e-19  7.816656e-19  2.234462e-02  1.587025e-02  4.602508e-19  4.587818e-19\n",
       "4      7.872216e+01  1.119115e+02  1.258478e+02  9.491780e+01  8.353061e+01  6.394428e+01  6.898061e+01  6.620120e+01\n",
       "...             ...           ...           ...           ...           ...           ...           ...           ...\n",
       "14315  2.980688e+01  4.036827e+01  3.013039e+01  2.452363e+01  3.263333e+01  3.248617e+01  3.028531e+01  3.822892e+01\n",
       "14316  2.859665e-01  4.887360e-01  2.173790e+00  1.934800e+00  3.507695e-01  1.909479e-01  1.897462e-01  1.489797e-01\n",
       "14317  1.085178e+02  1.389250e+02  7.160371e+01  6.056817e+01  2.018757e+02  1.928608e+02  1.998530e+02  1.950146e+02\n",
       "14318  5.846910e-02  1.085512e-01  4.355452e-02  7.430233e-02  4.557069e-02  3.182916e-02  1.172446e-01  7.661417e-02\n",
       "14319  2.297371e+01  2.788312e+01  3.235424e+01  3.644111e+01  3.529016e+01  3.512787e+01  4.038651e+01  3.510468e+01\n",
       "\n",
       "[14320 rows x 8 columns]"
      ]
     },
     "execution_count": 27,
     "metadata": {},
     "output_type": "execute_result"
    }
   ],
   "source": [
    "for c in df_features.columns:\n",
    "    sum_col = df_features[c].sum()\n",
    "    df_features[c] = df_features[c]*10**6/sum_col\n",
    "df_features"
   ]
  },
  {
   "cell_type": "code",
   "execution_count": 28,
   "metadata": {},
   "outputs": [
    {
     "data": {
      "text/html": [
       "<div>\n",
       "<style scoped>\n",
       "    .dataframe tbody tr th:only-of-type {\n",
       "        vertical-align: middle;\n",
       "    }\n",
       "\n",
       "    .dataframe tbody tr th {\n",
       "        vertical-align: top;\n",
       "    }\n",
       "\n",
       "    .dataframe thead th {\n",
       "        text-align: right;\n",
       "    }\n",
       "</style>\n",
       "<table border=\"1\" class=\"dataframe\">\n",
       "  <thead>\n",
       "    <tr style=\"text-align: right;\">\n",
       "      <th></th>\n",
       "      <th>P53KO.O1</th>\n",
       "      <th>p53KO.O2</th>\n",
       "      <th>p53KO.O.CAS1</th>\n",
       "      <th>p53KO.O.CAS2</th>\n",
       "      <th>p53KO.O.RAS1</th>\n",
       "      <th>p53KO.O.RAS2</th>\n",
       "      <th>WT.O1</th>\n",
       "      <th>WT.O2</th>\n",
       "    </tr>\n",
       "  </thead>\n",
       "  <tbody>\n",
       "    <tr>\n",
       "      <th>0</th>\n",
       "      <td>9.664070e-24</td>\n",
       "      <td>1.343973e-23</td>\n",
       "      <td>9.071805e-07</td>\n",
       "      <td>0.000000e+00</td>\n",
       "      <td>5.259538e-24</td>\n",
       "      <td>4.107615e-24</td>\n",
       "      <td>3.983451e-24</td>\n",
       "      <td>3.380895e-24</td>\n",
       "    </tr>\n",
       "    <tr>\n",
       "      <th>1</th>\n",
       "      <td>8.551500e-07</td>\n",
       "      <td>5.924062e-09</td>\n",
       "      <td>1.584710e-23</td>\n",
       "      <td>1.407500e-23</td>\n",
       "      <td>8.543862e-07</td>\n",
       "      <td>5.540682e-07</td>\n",
       "      <td>2.526941e-08</td>\n",
       "      <td>4.924462e-07</td>\n",
       "    </tr>\n",
       "    <tr>\n",
       "      <th>2</th>\n",
       "      <td>1.078462e-03</td>\n",
       "      <td>1.591237e-03</td>\n",
       "      <td>1.420803e-03</td>\n",
       "      <td>1.086169e-03</td>\n",
       "      <td>5.321217e-04</td>\n",
       "      <td>4.777828e-04</td>\n",
       "      <td>3.998458e-04</td>\n",
       "      <td>3.996527e-04</td>\n",
       "    </tr>\n",
       "    <tr>\n",
       "      <th>3</th>\n",
       "      <td>9.664070e-24</td>\n",
       "      <td>1.343973e-23</td>\n",
       "      <td>1.584710e-23</td>\n",
       "      <td>1.407500e-23</td>\n",
       "      <td>2.076298e-07</td>\n",
       "      <td>1.379136e-07</td>\n",
       "      <td>3.983451e-24</td>\n",
       "      <td>3.380895e-24</td>\n",
       "    </tr>\n",
       "    <tr>\n",
       "      <th>4</th>\n",
       "      <td>1.282280e-03</td>\n",
       "      <td>2.081497e-03</td>\n",
       "      <td>2.339870e-03</td>\n",
       "      <td>1.709130e-03</td>\n",
       "      <td>7.761799e-04</td>\n",
       "      <td>5.556801e-04</td>\n",
       "      <td>5.970242e-04</td>\n",
       "      <td>4.878557e-04</td>\n",
       "    </tr>\n",
       "    <tr>\n",
       "      <th>...</th>\n",
       "      <td>...</td>\n",
       "      <td>...</td>\n",
       "      <td>...</td>\n",
       "      <td>...</td>\n",
       "      <td>...</td>\n",
       "      <td>...</td>\n",
       "      <td>...</td>\n",
       "      <td>...</td>\n",
       "    </tr>\n",
       "    <tr>\n",
       "      <th>14315</th>\n",
       "      <td>4.855147e-04</td>\n",
       "      <td>7.508292e-04</td>\n",
       "      <td>5.602100e-04</td>\n",
       "      <td>4.415829e-04</td>\n",
       "      <td>3.032342e-04</td>\n",
       "      <td>2.823070e-04</td>\n",
       "      <td>2.621181e-04</td>\n",
       "      <td>2.817199e-04</td>\n",
       "    </tr>\n",
       "    <tr>\n",
       "      <th>14316</th>\n",
       "      <td>4.658016e-06</td>\n",
       "      <td>9.090240e-06</td>\n",
       "      <td>4.041696e-05</td>\n",
       "      <td>3.483882e-05</td>\n",
       "      <td>3.259407e-06</td>\n",
       "      <td>1.659350e-06</td>\n",
       "      <td>1.642245e-06</td>\n",
       "      <td>1.097874e-06</td>\n",
       "    </tr>\n",
       "    <tr>\n",
       "      <th>14317</th>\n",
       "      <td>1.767612e-03</td>\n",
       "      <td>2.583933e-03</td>\n",
       "      <td>1.331317e-03</td>\n",
       "      <td>1.090616e-03</td>\n",
       "      <td>1.875862e-03</td>\n",
       "      <td>1.675973e-03</td>\n",
       "      <td>1.729719e-03</td>\n",
       "      <td>1.437119e-03</td>\n",
       "    </tr>\n",
       "    <tr>\n",
       "      <th>14318</th>\n",
       "      <td>9.523843e-07</td>\n",
       "      <td>2.018998e-06</td>\n",
       "      <td>8.098029e-07</td>\n",
       "      <td>1.337919e-06</td>\n",
       "      <td>4.234502e-07</td>\n",
       "      <td>2.765976e-07</td>\n",
       "      <td>1.014747e-06</td>\n",
       "      <td>5.645918e-07</td>\n",
       "    </tr>\n",
       "    <tr>\n",
       "      <th>14319</th>\n",
       "      <td>3.742113e-04</td>\n",
       "      <td>5.186118e-04</td>\n",
       "      <td>6.015577e-04</td>\n",
       "      <td>6.561741e-04</td>\n",
       "      <td>3.279219e-04</td>\n",
       "      <td>3.052636e-04</td>\n",
       "      <td>3.495435e-04</td>\n",
       "      <td>2.586965e-04</td>\n",
       "    </tr>\n",
       "  </tbody>\n",
       "</table>\n",
       "<p>14320 rows × 8 columns</p>\n",
       "</div>"
      ],
      "text/plain": [
       "           P53KO.O1      p53KO.O2  p53KO.O.CAS1  p53KO.O.CAS2  p53KO.O.RAS1  p53KO.O.RAS2         WT.O1         WT.O2\n",
       "0      9.664070e-24  1.343973e-23  9.071805e-07  0.000000e+00  5.259538e-24  4.107615e-24  3.983451e-24  3.380895e-24\n",
       "1      8.551500e-07  5.924062e-09  1.584710e-23  1.407500e-23  8.543862e-07  5.540682e-07  2.526941e-08  4.924462e-07\n",
       "2      1.078462e-03  1.591237e-03  1.420803e-03  1.086169e-03  5.321217e-04  4.777828e-04  3.998458e-04  3.996527e-04\n",
       "3      9.664070e-24  1.343973e-23  1.584710e-23  1.407500e-23  2.076298e-07  1.379136e-07  3.983451e-24  3.380895e-24\n",
       "4      1.282280e-03  2.081497e-03  2.339870e-03  1.709130e-03  7.761799e-04  5.556801e-04  5.970242e-04  4.878557e-04\n",
       "...             ...           ...           ...           ...           ...           ...           ...           ...\n",
       "14315  4.855147e-04  7.508292e-04  5.602100e-04  4.415829e-04  3.032342e-04  2.823070e-04  2.621181e-04  2.817199e-04\n",
       "14316  4.658016e-06  9.090240e-06  4.041696e-05  3.483882e-05  3.259407e-06  1.659350e-06  1.642245e-06  1.097874e-06\n",
       "14317  1.767612e-03  2.583933e-03  1.331317e-03  1.090616e-03  1.875862e-03  1.675973e-03  1.729719e-03  1.437119e-03\n",
       "14318  9.523843e-07  2.018998e-06  8.098029e-07  1.337919e-06  4.234502e-07  2.765976e-07  1.014747e-06  5.645918e-07\n",
       "14319  3.742113e-04  5.186118e-04  6.015577e-04  6.561741e-04  3.279219e-04  3.052636e-04  3.495435e-04  2.586965e-04\n",
       "\n",
       "[14320 rows x 8 columns]"
      ]
     },
     "execution_count": 28,
     "metadata": {},
     "output_type": "execute_result"
    }
   ],
   "source": [
    "for c in df_features.columns:\n",
    "    max_col = df_features[c].max()\n",
    "    df_features[c] = df_features[c]/max_col\n",
    "df_features"
   ]
  },
  {
   "cell_type": "code",
   "execution_count": 29,
   "metadata": {},
   "outputs": [
    {
     "data": {
      "text/plain": [
       "tensor([[9.6641e-24, 1.3440e-23, 9.0718e-07,  ..., 4.1076e-24, 3.9835e-24,\n",
       "         3.3809e-24],\n",
       "        [8.5515e-07, 5.9241e-09, 1.5847e-23,  ..., 5.5407e-07, 2.5269e-08,\n",
       "         4.9245e-07],\n",
       "        [1.0785e-03, 1.5912e-03, 1.4208e-03,  ..., 4.7778e-04, 3.9985e-04,\n",
       "         3.9965e-04],\n",
       "        ...,\n",
       "        [1.7676e-03, 2.5839e-03, 1.3313e-03,  ..., 1.6760e-03, 1.7297e-03,\n",
       "         1.4371e-03],\n",
       "        [9.5238e-07, 2.0190e-06, 8.0980e-07,  ..., 2.7660e-07, 1.0147e-06,\n",
       "         5.6459e-07],\n",
       "        [3.7421e-04, 5.1861e-04, 6.0156e-04,  ..., 3.0526e-04, 3.4954e-04,\n",
       "         2.5870e-04]], dtype=torch.float64)"
      ]
     },
     "execution_count": 29,
     "metadata": {},
     "output_type": "execute_result"
    }
   ],
   "source": [
    "feature_cols = avg_cols\n",
    "len(feature_cols)\n",
    "\n",
    "x = df_features[feature_cols].values\n",
    "x = torch.from_numpy(x)\n",
    "x"
   ]
  },
  {
   "cell_type": "code",
   "execution_count": 32,
   "metadata": {},
   "outputs": [
    {
     "data": {
      "text/plain": [
       "657433"
      ]
     },
     "execution_count": 32,
     "metadata": {},
     "output_type": "execute_result"
    }
   ],
   "source": [
    "len(edge_index[0]) -59169- 65743"
   ]
  },
  {
   "cell_type": "code",
   "execution_count": 35,
   "metadata": {},
   "outputs": [],
   "source": [
    "\n",
    "\n",
    "n_nodes = len(edge_index[0])\n",
    "train_size =  len(edge_index[0]) -59169- 65743\n",
    "val_size =  59169 #int(n_nodes * 0.2)\n",
    "\n",
    "\n",
    "train_index, test_index = model_selection.train_test_split(\n",
    "     list(range(len(edge_index[0]))), train_size=train_size, test_size=None,random_state = 42,\n",
    ")\n",
    "val_index, test_index = model_selection.train_test_split(\n",
    "    test_index, train_size=val_size, test_size=None, random_state = 42,\n",
    ")\n",
    "\n",
    "train_mask = torch.tensor(train_index, dtype=torch.long)\n",
    "val_mask = torch.tensor(val_index, dtype=torch.long)\n",
    "test_mask = torch.tensor(test_index, dtype=torch.long)\n",
    "\n",
    "train_val_mask = torch.cat((train_mask, val_mask), 0)"
   ]
  },
  {
   "cell_type": "code",
   "execution_count": null,
   "metadata": {},
   "outputs": [],
   "source": []
  },
  {
   "cell_type": "code",
   "execution_count": null,
   "metadata": {},
   "outputs": [],
   "source": []
  },
  {
   "cell_type": "code",
   "execution_count": 36,
   "metadata": {},
   "outputs": [],
   "source": [
    "# data_path = '../../data/keyword_and_abstract_SentenceTransform/'\n",
    "\n",
    "\n",
    "# with open(data_path+'new_edges.pkl', 'rb') as f:     \n",
    "#     total_edges = dill.load(f)\n",
    "\n",
    "# with open(data_path+'new_features.pkl', 'rb') as f:     \n",
    "#     features = dill.load(f)\n",
    "\n",
    "# with open(data_path+'new_labels.pkl', 'rb') as f:     \n",
    "#     subjects = dill.load(f)\n",
    "    \n",
    "\n",
    "# ## remove the last paper and its edges, feature\n",
    "# total_edges = total_edges[:-3]\n",
    "# features = features[:-1]\n",
    "# subjects = subjects[:-1]\n",
    "\n",
    "# features_tensor, subjects_tensor = torch.tensor(features), torch.tensor(subjects)"
   ]
  },
  {
   "cell_type": "code",
   "execution_count": 37,
   "metadata": {},
   "outputs": [],
   "source": [
    "# x = features\n",
    "# subjects = pd.DataFrame({ \"label\": subjects})[\"label\"]\n",
    "\n",
    "\n",
    "# total_edges_1 = [e[0] for e in total_edges]\n",
    "# total_edges_2 = [e[1] for e in total_edges]\n",
    "\n",
    "# total_edges_1_2  = total_edges_1 + total_edges_2\n",
    "# total_edges_2_1  = total_edges_2 + total_edges_1\n",
    "\n",
    "# edge_index = np.array([total_edges_1_2, total_edges_2_1])\n",
    "# print(edge_index.shape)\n",
    "\n",
    "\n",
    "# x = torch.from_numpy(x)\n",
    "# edge_index = np.array([total_edges_1_2, total_edges_2_1])\n",
    "\n",
    "# edge_index = torch.from_numpy(edge_index)\n",
    "# edge_index"
   ]
  },
  {
   "cell_type": "code",
   "execution_count": null,
   "metadata": {},
   "outputs": [],
   "source": []
  },
  {
   "cell_type": "code",
   "execution_count": 38,
   "metadata": {},
   "outputs": [
    {
     "data": {
      "text/plain": [
       "Data(edge_index=[2, 657433], test_mask=[65743], train_mask=[591690], transform=NormalizeFeatures(), val_mask=[59169], x=[14320, 8])"
      ]
     },
     "execution_count": 38,
     "metadata": {},
     "output_type": "execute_result"
    }
   ],
   "source": [
    "data = Data(transform=T.NormalizeFeatures(), \n",
    "            x=x, edge_index=edge_index, \n",
    "            train_mask=train_val_mask, val_mask=val_mask, test_mask=test_mask, \n",
    "            y=None)\n",
    "\n",
    "data"
   ]
  },
  {
   "cell_type": "code",
   "execution_count": 39,
   "metadata": {},
   "outputs": [],
   "source": [
    "import dill\n",
    "\n",
    "#### Write\n",
    "with open('./mydataset_gene_withNodeFeatures_Rnorm_CPM.pkl', 'wb') as f:     \n",
    "    dill.dump([data], f)\n",
    "    \n",
    "with open('./my_gene_data_withNodeFeatures_Rnorm_CPM.pkl', 'wb') as f:     \n",
    "    dill.dump(data, f)"
   ]
  },
  {
   "cell_type": "code",
   "execution_count": 40,
   "metadata": {},
   "outputs": [],
   "source": [
    "import os.path as osp\n",
    "\n",
    "import torch\n",
    "from torch_geometric.data import Dataset\n",
    "\n",
    "\n",
    "class MyOwnDataset(Dataset):\n",
    "    def __init__(self, root, name, transform=None, pre_transform=None):\n",
    "        self.name = name\n",
    "\n",
    "        super(MyOwnDataset, self).__init__(root, transform, pre_transform)\n",
    "\n",
    "    @property\n",
    "    def raw_file_names(self):\n",
    "        return \n",
    "\n",
    "    @property\n",
    "    def processed_file_names(self):\n",
    "        return 'data.pt'\n",
    "    \n",
    "    @property\n",
    "    def processed_dir(self):\n",
    "        return osp.join(self.root, self.name, 'processed')\n",
    "\n",
    "\n",
    "    def process(self):\n",
    "        \n",
    "        # Read data from `raw_path`.\n",
    "        #### Read\n",
    "        with open(os.path.join(self.root, 'my_gene_data_withNodeFeatures_Rnorm_CPM.pkl'), 'rb') as f:     \n",
    "            data = dill.load(f)            \n",
    "\n",
    "        if self.pre_transform is not None:\n",
    "            data = self.pre_transform(data)\n",
    "\n",
    "        torch.save(data, osp.join(self.processed_dir, 'data.pt'))\n",
    "\n",
    "    def len(self):\n",
    "        return len(self.processed_file_names)\n",
    "\n",
    "    def get(self):\n",
    "        data = torch.load(osp.join(self.processed_dir, 'data.pt'))\n",
    "        return data"
   ]
  },
  {
   "cell_type": "code",
   "execution_count": 41,
   "metadata": {},
   "outputs": [],
   "source": [
    "my_citation_data = MyOwnDataset(\"./\", \"GeneGraph_withNodeFeatures_Rnorm_CPM\")"
   ]
  },
  {
   "cell_type": "code",
   "execution_count": null,
   "metadata": {},
   "outputs": [],
   "source": []
  },
  {
   "cell_type": "code",
   "execution_count": 44,
   "metadata": {},
   "outputs": [],
   "source": [
    "!open ."
   ]
  },
  {
   "cell_type": "code",
   "execution_count": 42,
   "metadata": {},
   "outputs": [],
   "source": [
    "path = osp.join('dataset', \"Cora\")\n",
    "dataset = Planetoid(path, \"Cora\")\n",
    "\n",
    "split_edge = do_edge_split(dataset)\n",
    "data = dataset[0]\n",
    "data.edge_index = split_edge['train']['edge'].t()\n"
   ]
  },
  {
   "cell_type": "code",
   "execution_count": 43,
   "metadata": {},
   "outputs": [
    {
     "data": {
      "text/plain": [
       "{'name': 'Cora',\n",
       " 'root': 'dataset/Cora',\n",
       " 'transform': None,\n",
       " 'pre_transform': None,\n",
       " 'pre_filter': None,\n",
       " '__indices__': None,\n",
       " 'data': Data(edge_index=[2, 10556], test_mask=[2708], train_mask=[2708], val_mask=[2708], x=[2708, 1433], y=[2708]),\n",
       " 'slices': {'x': tensor([   0, 2708]),\n",
       "  'edge_index': tensor([    0, 10556]),\n",
       "  'y': tensor([   0, 2708]),\n",
       "  'train_mask': tensor([   0, 2708]),\n",
       "  'val_mask': tensor([   0, 2708]),\n",
       "  'test_mask': tensor([   0, 2708])},\n",
       " '__data_list__': [Data(edge_index=[2, 10556], test_mask=[2708], train_mask=[2708], val_mask=[2708], x=[2708, 1433], y=[2708])],\n",
       " 'split': 'public'}"
      ]
     },
     "execution_count": 43,
     "metadata": {},
     "output_type": "execute_result"
    }
   ],
   "source": [
    "dataset.__dict__"
   ]
  },
  {
   "cell_type": "code",
   "execution_count": null,
   "metadata": {},
   "outputs": [],
   "source": []
  },
  {
   "cell_type": "code",
   "execution_count": null,
   "metadata": {},
   "outputs": [],
   "source": [
    "type(dataset)"
   ]
  },
  {
   "cell_type": "code",
   "execution_count": null,
   "metadata": {},
   "outputs": [],
   "source": [
    "data"
   ]
  },
  {
   "cell_type": "code",
   "execution_count": null,
   "metadata": {},
   "outputs": [],
   "source": []
  },
  {
   "cell_type": "code",
   "execution_count": null,
   "metadata": {},
   "outputs": [],
   "source": [
    "type(data)"
   ]
  },
  {
   "cell_type": "code",
   "execution_count": null,
   "metadata": {},
   "outputs": [],
   "source": [
    "data.edge_index"
   ]
  },
  {
   "cell_type": "code",
   "execution_count": null,
   "metadata": {},
   "outputs": [],
   "source": [
    "data.__dict__"
   ]
  },
  {
   "cell_type": "code",
   "execution_count": null,
   "metadata": {},
   "outputs": [],
   "source": [
    "!open ."
   ]
  },
  {
   "cell_type": "code",
   "execution_count": null,
   "metadata": {},
   "outputs": [],
   "source": [
    "pwd"
   ]
  },
  {
   "cell_type": "code",
   "execution_count": null,
   "metadata": {},
   "outputs": [],
   "source": []
  }
 ],
 "metadata": {
  "hide_input": false,
  "kernelspec": {
   "display_name": "py38_env",
   "language": "python",
   "name": "py38_env"
  },
  "language_info": {
   "codemirror_mode": {
    "name": "ipython",
    "version": 3
   },
   "file_extension": ".py",
   "mimetype": "text/x-python",
   "name": "python",
   "nbconvert_exporter": "python",
   "pygments_lexer": "ipython3",
   "version": "3.8.5"
  },
  "toc": {
   "base_numbering": 1,
   "nav_menu": {},
   "number_sections": true,
   "sideBar": true,
   "skip_h1_title": false,
   "title_cell": "Table of Contents",
   "title_sidebar": "Contents",
   "toc_cell": false,
   "toc_position": {},
   "toc_section_display": true,
   "toc_window_display": false
  }
 },
 "nbformat": 4,
 "nbformat_minor": 4
}
